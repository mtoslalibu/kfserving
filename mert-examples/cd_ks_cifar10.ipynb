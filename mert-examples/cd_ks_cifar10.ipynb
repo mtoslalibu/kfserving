{
 "cells": [
  {
   "cell_type": "markdown",
   "metadata": {},
   "source": [
    "# Kolmogorov-Smirnov data drift detector on CIFAR-10\n",
    "\n",
    "### Method\n",
    "\n",
    "The drift detector applies feature-wise two-sample [Kolmogorov-Smirnov](https://en.wikipedia.org/wiki/Kolmogorov%E2%80%93Smirnov_test) (K-S) tests. For multivariate data, the obtained p-values for each feature are aggregated either via the [Bonferroni](https://mathworld.wolfram.com/BonferroniCorrection.html) or the [False Discovery Rate](http://www.math.tau.ac.il/~ybenja/MyPapers/benjamini_hochberg1995.pdf) (FDR) correction. The Bonferroni correction is more conservative and controls for the probability of at least one false positive. The FDR correction on the other hand allows for an expected fraction of false positives to occur.\n",
    "\n",
    "For high-dimensional data, we typically want to reduce the dimensionality before computing the feature-wise univariate K-S tests and aggregating those via the chosen correction method. Following suggestions in [Failing Loudly: An Empirical Study of Methods for Detecting Dataset Shift](https://arxiv.org/abs/1810.11953), we incorporate Untrained AutoEncoders (UAE), black-box shift detection using the classifier's softmax outputs ([BBSDs](https://arxiv.org/abs/1802.03916)) and [PCA](https://en.wikipedia.org/wiki/Principal_component_analysis) as out-of-the box preprocessing methods. Preprocessing methods which do not rely on the classifier will usually pick up drift in the input data, while BBSDs focuses on label shift. The [adversarial detector](https://arxiv.org/abs/2002.09364) which is part of the library can also be transformed into a drift detector picking up drift that reduces the performance of the classification model. We can therefore combine different preprocessing techniques to figure out if there is drift which hurts the model performance, and whether this drift can be classified as input drift or label shift.\n",
    "\n",
    "\n",
    "### Dataset\n",
    "\n",
    "[CIFAR10](https://www.cs.toronto.edu/~kriz/cifar.html) consists of 60,000 32 by 32 RGB images equally distributed over 10 classes. We evaluate the drift detector on the CIFAR-10-C dataset ([Hendrycks & Dietterich, 2019](https://arxiv.org/abs/1903.12261)). The instances in\n",
    "CIFAR-10-C have been corrupted and perturbed by various types of noise, blur, brightness etc. at different levels of severity, leading to a gradual decline in the classification model performance. We also check for drift against the original test set with class imbalances. "
   ]
  },
  {
   "cell_type": "code",
   "execution_count": 1,
   "metadata": {},
   "outputs": [],
   "source": [
    "import matplotlib.pyplot as plt\n",
    "import numpy as np\n",
    "import os\n",
    "import tensorflow as tf\n",
    "from tensorflow.keras.layers import Conv2D, Dense, Flatten, InputLayer, Reshape\n",
    "\n",
    "from alibi_detect.cd import KSDrift\n",
    "from alibi_detect.cd.preprocess import UAE, HiddenOutput\n",
    "from alibi_detect.models.resnet import scale_by_instance\n",
    "from alibi_detect.utils.fetching import fetch_tf_model, fetch_detector\n",
    "from alibi_detect.utils.prediction import predict_batch\n",
    "from alibi_detect.utils.saving import save_detector, load_detector\n",
    "from alibi_detect.datasets import fetch_cifar10c, corruption_types_cifar10c"
   ]
  },
  {
   "cell_type": "markdown",
   "metadata": {},
   "source": [
    "### Load data\n",
    "\n",
    "Original CIFAR-10 data:"
   ]
  },
  {
   "cell_type": "code",
   "execution_count": 2,
   "metadata": {},
   "outputs": [],
   "source": [
    "(X_train, y_train), (X_test, y_test) = tf.keras.datasets.cifar10.load_data()\n",
    "X_train = X_train.astype('float32') / 255\n",
    "X_test = X_test.astype('float32') / 255\n",
    "y_train = y_train.astype('int64').reshape(-1,)\n",
    "y_test = y_test.astype('int64').reshape(-1,)"
   ]
  },
  {
   "cell_type": "markdown",
   "metadata": {},
   "source": [
    "For CIFAR-10-C, we can select from the following corruption types at 5 severity levels:"
   ]
  },
  {
   "cell_type": "code",
   "execution_count": 3,
   "metadata": {},
   "outputs": [
    {
     "name": "stdout",
     "output_type": "stream",
     "text": [
      "['brightness', 'contrast', 'defocus_blur', 'elastic_transform', 'fog', 'frost', 'gaussian_blur', 'gaussian_noise', 'glass_blur', 'impulse_noise', 'jpeg_compression', 'motion_blur', 'pixelate', 'saturate', 'shot_noise', 'snow', 'spatter', 'speckle_noise', 'zoom_blur']\n"
     ]
    }
   ],
   "source": [
    "corruptions = corruption_types_cifar10c()\n",
    "print(corruptions)"
   ]
  },
  {
   "cell_type": "markdown",
   "metadata": {},
   "source": [
    "Let's pick a subset of the corruptions at corruption level 5. Each corruption type consists of perturbations on all of the original test set images."
   ]
  },
  {
   "cell_type": "code",
   "execution_count": 22,
   "metadata": {},
   "outputs": [],
   "source": [
    "corruption = ['brightness', 'contrast', 'defocus_blur', 'elastic_transform', 'fog', 'frost', 'gaussian_blur', 'gaussian_noise', 'glass_blur', 'impulse_noise']\n",
    "\n",
    "X_corr, y_corr = fetch_cifar10c(corruption=corruption, severity=5, return_X_y=True)\n",
    "X_corr = X_corr.astype('float32') / 255"
   ]
  },
  {
   "cell_type": "code",
   "execution_count": null,
   "metadata": {},
   "outputs": [],
   "source": []
  },
  {
   "cell_type": "markdown",
   "metadata": {},
   "source": [
    "We split the original test set in a reference dataset and a dataset which should not be rejected under the *H<sub>0</sub>* of the K-S test. We also split the corrupted data by corruption type:"
   ]
  },
  {
   "cell_type": "code",
   "execution_count": 23,
   "metadata": {},
   "outputs": [
    {
     "name": "stdout",
     "output_type": "stream",
     "text": [
      "(5000, 32, 32, 3) (5000, 32, 32, 3)\n"
     ]
    }
   ],
   "source": [
    "np.random.seed(0)\n",
    "n_test = X_test.shape[0]\n",
    "idx = np.random.choice(n_test, size=n_test // 2, replace=False)\n",
    "idx_h0 = np.delete(np.arange(n_test), idx, axis=0)\n",
    "X_ref,y_ref = X_test[idx], y_test[idx]\n",
    "X_h0, y_h0 = X_test[idx_h0], y_test[idx_h0]\n",
    "print(X_ref.shape, X_h0.shape)"
   ]
  },
  {
   "cell_type": "code",
   "execution_count": 24,
   "metadata": {},
   "outputs": [
    {
     "name": "stdout",
     "output_type": "stream",
     "text": [
      "Class Ref H0\n",
      "0     472 528\n",
      "1     510 490\n",
      "2     498 502\n",
      "3     492 508\n",
      "4     501 499\n",
      "5     495 505\n",
      "6     493 507\n",
      "7     501 499\n",
      "8     516 484\n",
      "9     522 478\n"
     ]
    }
   ],
   "source": [
    "# check that the classes are more or less balanced\n",
    "classes, counts_ref = np.unique(y_ref, return_counts=True)\n",
    "counts_h0 = np.unique(y_h0, return_counts=True)[1]\n",
    "print('Class Ref H0')\n",
    "for cl, cref, ch0 in zip(classes, counts_ref, counts_h0):\n",
    "    assert cref + ch0 == n_test // 10\n",
    "    print('{}     {} {}'.format(cl, cref, ch0))"
   ]
  },
  {
   "cell_type": "code",
   "execution_count": 25,
   "metadata": {},
   "outputs": [],
   "source": [
    "X_c = []\n",
    "n_corr = len(corruption)\n",
    "for i in range(n_corr):\n",
    "    X_c.append(X_corr[i * n_test:(i + 1) * n_test])"
   ]
  },
  {
   "cell_type": "markdown",
   "metadata": {},
   "source": [
    "We can visualise the same instance for each corruption type:"
   ]
  },
  {
   "cell_type": "code",
   "execution_count": 26,
   "metadata": {
    "tags": [
     "hide_input"
    ]
   },
   "outputs": [
    {
     "data": {
      "image/png": "[encoded data removed]",
      "text/plain": [
       "<Figure size 432x288 with 1 Axes>"
      ]
     },
     "metadata": {
      "needs_background": "light"
     },
     "output_type": "display_data"
    },
    {
     "data": {
      "image/png": "[encoded data removed]",
      "text/plain": [
       "<Figure size 432x288 with 1 Axes>"
      ]
     },
     "metadata": {
      "needs_background": "light"
     },
     "output_type": "display_data"
    },
    {
     "data": {
      "image/png": "[encoded data removed]",
      "text/plain": [
       "<Figure size 432x288 with 1 Axes>"
      ]
     },
     "metadata": {
      "needs_background": "light"
     },
     "output_type": "display_data"
    },
    {
     "data": {
      "image/png": "[encoded data removed]",
      "text/plain": [
       "<Figure size 432x288 with 1 Axes>"
      ]
     },
     "metadata": {
      "needs_background": "light"
     },
     "output_type": "display_data"
    },
    {
     "data": {
      "image/png": "[encoded data removed]",
      "text/plain": [
       "<Figure size 432x288 with 1 Axes>"
      ]
     },
     "metadata": {
      "needs_background": "light"
     },
     "output_type": "display_data"
    },
    {
     "data": {
      "image/png": "[encoded data removed]",
      "text/plain": [
       "<Figure size 432x288 with 1 Axes>"
      ]
     },
     "metadata": {
      "needs_background": "light"
     },
     "output_type": "display_data"
    },
    {
     "data": {
      "image/png": "[encoded data removed]",
      "text/plain": [
       "<Figure size 432x288 with 1 Axes>"
      ]
     },
     "metadata": {
      "needs_background": "light"
     },
     "output_type": "display_data"
    },
    {
     "data": {
      "image/png": "[encoded data removed]",
      "text/plain": [
       "<Figure size 432x288 with 1 Axes>"
      ]
     },
     "metadata": {
      "needs_background": "light"
     },
     "output_type": "display_data"
    },
    {
     "data": {
      "image/png": "[encoded data removed]",
      "text/plain": [
       "<Figure size 432x288 with 1 Axes>"
      ]
     },
     "metadata": {
      "needs_background": "light"
     },
     "output_type": "display_data"
    },
    {
     "data": {
      "image/png": "[encoded data removed]",
      "text/plain": [
       "<Figure size 432x288 with 1 Axes>"
      ]
     },
     "metadata": {
      "needs_background": "light"
     },
     "output_type": "display_data"
    },
    {
     "data": {
      "image/png": "[encoded data removed]",
      "text/plain": [
       "<Figure size 432x288 with 1 Axes>"
      ]
     },
     "metadata": {
      "needs_background": "light"
     },
     "output_type": "display_data"
    }
   ],
   "source": [
    "i = 1\n",
    "\n",
    "n_test = X_test.shape[0]\n",
    "plt.title('Original')\n",
    "plt.axis('off')\n",
    "plt.imshow(X_test[i])\n",
    "plt.show()\n",
    "for _ in range(len(corruption)):\n",
    "    plt.title(corruption[_])\n",
    "    plt.axis('off')\n",
    "    plt.imshow(X_corr[n_test * _+ i])\n",
    "    plt.show()"
   ]
  },
  {
   "cell_type": "markdown",
   "metadata": {},
   "source": [
    "We can also verify that the performance of a classification model on CIFAR-10 drops significantly on this perturbed dataset:"
   ]
  },
  {
   "cell_type": "code",
   "execution_count": 27,
   "metadata": {},
   "outputs": [
    {
     "name": "stdout",
     "output_type": "stream",
     "text": [
      "Test set accuracy:\n",
      "Original 0.9278\n",
      "brightness 0.8913\n",
      "contrast 0.7900\n",
      "defocus_blur 0.5923\n",
      "elastic_transform 0.6915\n",
      "fog 0.7534\n",
      "frost 0.6249\n",
      "gaussian_blur 0.3993\n",
      "gaussian_noise 0.2208\n",
      "glass_blur 0.3957\n",
      "impulse_noise 0.1926\n"
     ]
    }
   ],
   "source": [
    "dataset = 'cifar10'\n",
    "model = 'resnet32'\n",
    "clf = fetch_tf_model(dataset, model)\n",
    "acc = clf.evaluate(scale_by_instance(X_test), y_test, batch_size=128, verbose=0)[1]\n",
    "print('Test set accuracy:')\n",
    "print('Original {:.4f}'.format(acc))\n",
    "clf_accuracy = {'original': acc}\n",
    "for _ in range(len(corruption)):\n",
    "    acc = clf.evaluate(scale_by_instance(X_c[_]), y_test, batch_size=128, verbose=0)[1]\n",
    "    clf_accuracy[corruption[_]] = acc\n",
    "    print('{} {:.4f}'.format(corruption[_], acc))"
   ]
  },
  {
   "cell_type": "markdown",
   "metadata": {},
   "source": [
    "Given the drop in performance, it is important that we detect the harmful data drift!\n",
    "\n",
    "### Detect drift\n",
    "\n",
    "We are trying to detect data drift on high-dimensional (*32x32x3*) data using an aggregation of univariate K-S tests. It therefore makes sense to apply dimensionality reduction first. Some dimensionality reduction methods also used in [Failing Loudly: An Empirical Study of Methods for Detecting Dataset Shift](https://arxiv.org/pdf/1810.11953.pdf) are readily available: **UAE** (Untrained AutoEncoder), **BBSDs** (black-box shift detection using the classifier's softmax outputs) and **PCA**. \n",
    "\n",
    "#### Untrained AutoEncoder\n",
    "\n",
    "First we try UAE:"
   ]
  },
  {
   "cell_type": "code",
   "execution_count": 28,
   "metadata": {
    "scrolled": false
   },
   "outputs": [],
   "source": [
    "tf.random.set_seed(0)\n",
    "\n",
    "# define encoder\n",
    "encoding_dim = 32\n",
    "encoder_net = tf.keras.Sequential(\n",
    "  [\n",
    "      InputLayer(input_shape=(32, 32, 3)),\n",
    "      Conv2D(64, 4, strides=2, padding='same', activation=tf.nn.relu),\n",
    "      Conv2D(128, 4, strides=2, padding='same', activation=tf.nn.relu),\n",
    "      Conv2D(512, 4, strides=2, padding='same', activation=tf.nn.relu),\n",
    "      Flatten(),\n",
    "      Dense(encoding_dim,)\n",
    "  ]\n",
    ")\n",
    "uae = UAE(encoder_net=encoder_net)\n",
    "preprocess_kwargs = {'model': uae, 'batch_size': 128}\n",
    "\n",
    "# initialise drift detector\n",
    "p_val = .05\n",
    "cd = KSDrift(\n",
    "    p_val=p_val,        # p-value for K-S test \n",
    "    X_ref=X_ref,       # test against original test set\n",
    "    preprocess_X_ref=True,  # already preprocess X_ref at init stage to save time\n",
    "    preprocess_kwargs=preprocess_kwargs,\n",
    "    alternative='two-sided'  # other options: 'less', 'greater'\n",
    ")\n",
    "\n",
    "# # we can also save/load an initialised detector\n",
    "# filepath = 'my_path2'  # change to directory where detector is saved\n",
    "# save_detector(cd, filepath)\n",
    "# cd = load_detector(filepath, **{'preprocess_kwargs': preprocess_kwargs})"
   ]
  },
  {
   "cell_type": "markdown",
   "metadata": {},
   "source": [
    "The p-value used by the detector for the multivariate data with *encoding_dim* features is equal to *p_val / encoding_dim* because of the [Bonferroni correction](https://mathworld.wolfram.com/BonferroniCorrection.html)."
   ]
  },
  {
   "cell_type": "code",
   "execution_count": 29,
   "metadata": {},
   "outputs": [],
   "source": [
    "assert cd.p_val / cd.n_features == p_val / encoding_dim"
   ]
  },
  {
   "cell_type": "markdown",
   "metadata": {},
   "source": [
    "Let's check whether the detector thinks drift occurred within the original test set:"
   ]
  },
  {
   "cell_type": "code",
   "execution_count": 30,
   "metadata": {},
   "outputs": [
    {
     "name": "stdout",
     "output_type": "stream",
     "text": [
      "Drift? No!\n"
     ]
    }
   ],
   "source": [
    "preds_h0 = cd.predict(X_h0, return_p_val=True)\n",
    "labels = ['No!', 'Yes!']\n",
    "print('Drift? {}'.format(labels[preds_h0['data']['is_drift']]))"
   ]
  },
  {
   "cell_type": "markdown",
   "metadata": {},
   "source": [
    "As expected, no drift occurred. We can also inspect the p-values for each univariate K-S test by (encoded) feature before the multivariate correction. Most of them are well above the $0.05$ threshold:"
   ]
  },
  {
   "cell_type": "code",
   "execution_count": 31,
   "metadata": {},
   "outputs": [
    {
     "name": "stdout",
     "output_type": "stream",
     "text": [
      "[0.94146556 0.14195988 0.6440195  0.05512931 0.37907234 0.25943416\n",
      " 0.87724036 0.48063537 0.11774229 0.677735   0.48063537 0.7442197\n",
      " 0.08356539 0.14860499 0.31536394 0.31536394 0.61036026 0.36571503\n",
      " 0.80732274 0.22020556 0.249175   0.46531922 0.11774229 0.45025542\n",
      " 0.25943416 0.5936282  0.5604951  0.9571862  0.8642828  0.23921937\n",
      " 0.90134364 0.6945301 ]\n"
     ]
    }
   ],
   "source": [
    "print(preds_h0['data']['p_val'])"
   ]
  },
  {
   "cell_type": "markdown",
   "metadata": {},
   "source": [
    "Let's now check the predictions on the perturbed data:"
   ]
  },
  {
   "cell_type": "code",
   "execution_count": 32,
   "metadata": {},
   "outputs": [
    {
     "name": "stdout",
     "output_type": "stream",
     "text": [
      "Corruption type: brightness\n",
      "Drift? Yes!\n",
      "Feature-wise p-values:\n",
      "[0.0000000e+00 0.0000000e+00 9.8011686e-12 0.0000000e+00 1.4680320e-24\n",
      " 0.0000000e+00 0.0000000e+00 0.0000000e+00 0.0000000e+00 0.0000000e+00\n",
      " 0.0000000e+00 1.2194104e-21 0.0000000e+00 5.9144058e-06 1.9324971e-09\n",
      " 0.0000000e+00 0.0000000e+00 4.3919898e-20 3.4894578e-09 0.0000000e+00\n",
      " 1.5395447e-13 7.4393293e-38 0.0000000e+00 1.1824227e-39 0.0000000e+00\n",
      " 6.7980494e-03 0.0000000e+00 4.8533970e-18 0.0000000e+00 2.8025969e-45\n",
      " 3.2151392e-41 3.8939858e-30]\n",
      "\n",
      "Corruption type: contrast\n",
      "Drift? Yes!\n",
      "Feature-wise p-values:\n",
      "[2.1797028e-33 7.3272736e-32 1.5512374e-42 5.0401811e-16 0.0000000e+00\n",
      " 0.0000000e+00 0.0000000e+00 3.7547174e-09 9.5863254e-23 1.5070833e-07\n",
      " 1.1109532e-31 0.0000000e+00 2.1999625e-34 0.0000000e+00 0.0000000e+00\n",
      " 9.8090893e-45 1.6312355e-23 0.0000000e+00 0.0000000e+00 0.0000000e+00\n",
      " 0.0000000e+00 0.0000000e+00 6.5608794e-42 8.1415441e-43 1.1136831e-05\n",
      " 0.0000000e+00 2.1091037e-28 0.0000000e+00 0.0000000e+00 0.0000000e+00\n",
      " 0.0000000e+00 0.0000000e+00]\n",
      "\n",
      "Corruption type: defocus_blur\n",
      "Drift? Yes!\n",
      "Feature-wise p-values:\n",
      "[1.66843131e-01 2.19490260e-01 1.35259181e-01 1.42661169e-01\n",
      " 6.65166795e-01 2.68022949e-03 1.39057459e-02 8.78633618e-01\n",
      " 5.40052891e-01 1.99041501e-01 1.23158563e-03 7.05126375e-02\n",
      " 2.80400272e-02 2.91127481e-06 3.30103422e-03 9.96722654e-03\n",
      " 2.90366083e-01 7.05126375e-02 4.94023740e-01 1.91921536e-02\n",
      " 3.90286110e-02 5.97174764e-01 1.80098459e-01 1.21390425e-01\n",
      " 7.42141247e-01 1.94166854e-01 2.53102511e-01 6.45691931e-01\n",
      " 5.58902144e-01 3.24269772e-01 2.13169232e-02 9.99341011e-02]\n",
      "\n",
      "Corruption type: elastic_transform\n",
      "Drift? Yes!\n",
      "Feature-wise p-values:\n",
      "[1.4648294e-01 7.3267668e-01 5.6840521e-01 2.1949026e-01 5.3071475e-01\n",
      " 2.4149875e-01 6.4431481e-02 2.3584776e-01 1.5038671e-01 6.4569193e-01\n",
      " 7.9374194e-02 1.5844449e-01 2.9693854e-01 1.5621650e-05 2.4725014e-01\n",
      " 2.4725014e-01 6.8460542e-01 2.8040027e-02 1.3167676e-01 1.1177201e-01\n",
      " 1.3525918e-01 3.1728068e-01 8.1470889e-01 2.7127105e-01 5.4945004e-01\n",
      " 1.3905746e-02 3.8390055e-01 1.4266117e-01 9.7845519e-01 2.7753264e-01\n",
      " 9.9934101e-02 3.6837953e-01]\n",
      "\n",
      "Corruption type: fog\n",
      "Drift? Yes!\n",
      "Feature-wise p-values:\n",
      "[3.1590043e-15 1.3799936e-18 1.6155200e-15 9.8132989e-14 1.7195658e-14\n",
      " 6.2331860e-04 2.5127771e-33 4.4851021e-08 3.6553184e-11 2.4694566e-10\n",
      " 1.2416140e-18 7.0153570e-12 2.5719713e-05 3.6293630e-43 2.3864082e-24\n",
      " 2.8270933e-20 4.9017014e-20 5.3166008e-21 6.8085721e-20 4.0396029e-09\n",
      " 3.7826586e-17 4.2451087e-21 2.9166069e-04 2.0702551e-14 2.4315199e-11\n",
      " 1.6839689e-13 7.9655238e-24 8.1499533e-18 3.3740298e-25 1.1902977e-32\n",
      " 8.5606501e-07 2.2938737e-16]\n",
      "\n",
      "Corruption type: frost\n",
      "Drift? Yes!\n",
      "Feature-wise p-values:\n",
      "[0.0000000e+00 0.0000000e+00 4.1493209e-27 4.0524192e-38 6.9426718e-13\n",
      " 1.1504917e-24 1.4012985e-45 0.0000000e+00 0.0000000e+00 0.0000000e+00\n",
      " 0.0000000e+00 2.4072541e-13 1.5849121e-37 6.7980494e-03 6.7150170e-09\n",
      " 7.4101957e-15 0.0000000e+00 3.7547174e-09 4.1430904e-16 2.7615815e-32\n",
      " 1.6839689e-13 2.9658429e-08 4.5211832e-34 9.5835514e-29 0.0000000e+00\n",
      " 7.7550659e-09 0.0000000e+00 1.2852299e-23 1.1252427e-42 0.0000000e+00\n",
      " 2.6357677e-25 3.1622790e-26]\n",
      "\n",
      "Corruption type: gaussian_blur\n",
      "Drift? Yes!\n",
      "Feature-wise p-values:\n",
      "[3.1728068e-01 2.2484422e-01 2.1689339e-03 6.4569193e-01 3.2056447e-02\n",
      " 9.5987767e-03 2.2633269e-03 2.1423383e-01 1.3892028e-01 1.7882723e-02\n",
      " 1.6750379e-03 2.9036608e-01 8.4146664e-02 1.4947980e-06 8.2143903e-04\n",
      " 4.6798109e-06 9.5987767e-03 7.4932752e-05 7.6085776e-01 6.0631096e-02\n",
      " 1.8009846e-01 1.8469627e-01 4.3282178e-01 1.2817191e-01 1.8469627e-01\n",
      " 1.1177201e-01 2.1949026e-01 3.1728068e-01 6.5380293e-03 2.3615130e-03\n",
      " 3.2426977e-01 3.3136293e-01]\n",
      "\n",
      "Corruption type: gaussian_noise\n",
      "Drift? Yes!\n",
      "Feature-wise p-values:\n",
      "[1.82668434e-03 2.47250140e-01 3.91811222e-01 4.67981090e-06\n",
      " 3.24269772e-01 1.08709060e-01 2.77532637e-01 1.58444494e-01\n",
      " 3.68379533e-01 3.76089692e-01 8.21439025e-04 3.17280680e-01\n",
      " 4.28200292e-04 2.99890526e-02 6.64067790e-02 2.56981980e-03\n",
      " 9.40461397e-01 1.85271092e-02 1.34077845e-02 5.58902144e-01\n",
      " 2.99890526e-02 3.31363641e-02 2.79501034e-03 2.71081198e-02\n",
      " 9.35326874e-01 2.30296478e-01 2.30296478e-01 8.17310661e-02\n",
      " 3.30103422e-03 2.44745538e-02 2.96938539e-01 1.84696272e-01]\n",
      "\n",
      "Corruption type: glass_blur\n",
      "Drift? No!\n",
      "Feature-wise p-values:\n",
      "[0.5214393  0.22484422 0.07264524 0.703953   0.95439506 0.13525918\n",
      " 0.2040103  0.99603903 0.99938554 0.36077085 0.04728955 0.175591\n",
      " 0.06640678 0.06443148 0.04880444 0.39181122 0.95439506 0.1281719\n",
      " 0.33855996 0.95439506 0.99603903 0.21423383 0.01852711 0.04581556\n",
      " 0.44987935 0.36077085 0.36077085 0.18938541 0.2531025  0.21949026\n",
      " 0.34586054 0.92433244]\n",
      "\n",
      "Corruption type: impulse_noise\n",
      "Drift? Yes!\n",
      "Feature-wise p-values:\n",
      "[3.03831301e-03 9.93825142e-06 2.28473302e-02 4.66182028e-05\n",
      " 9.66126621e-01 4.76280041e-03 7.06746895e-03 2.30296478e-01\n",
      " 2.04010293e-01 3.30103422e-03 3.64939439e-08 3.06144648e-04\n",
      " 9.82231603e-15 8.84124702e-08 1.39627218e-05 3.48194499e-06\n",
      " 5.19605577e-02 8.75658516e-05 5.15948003e-03 1.89385414e-01\n",
      " 5.52912503e-02 1.44202784e-02 1.05211875e-05 1.60680898e-02\n",
      " 7.60857761e-01 1.38738527e-04 6.44314811e-02 1.46482944e-01\n",
      " 1.20087499e-02 3.69503891e-06 2.36485265e-02 4.72895466e-02]\n",
      "\n"
     ]
    }
   ],
   "source": [
    "for x, c in zip(X_c, corruption):\n",
    "    idx = np.random.randint(10000, size=1000)\n",
    "    preds = cd.predict(x[idx], return_p_val=True)\n",
    "    print(f'Corruption type: {c}')\n",
    "    print('Drift? {}'.format(labels[preds['data']['is_drift']]))\n",
    "    print('Feature-wise p-values:')\n",
    "    print(preds['data']['p_val'])\n",
    "    print('')"
   ]
  },
  {
   "cell_type": "code",
   "execution_count": 140,
   "metadata": {},
   "outputs": [],
   "source": [
    "dataset = 'cifar10'\n",
    "model = 'resnet32'\n",
    "new_clf = fetch_tf_model(dataset, model)\n",
    "acc = new_clf.evaluate(scale_by_instance(X_test), y_test, batch_size=128, verbose=0)[1]"
   ]
  },
  {
   "cell_type": "code",
   "execution_count": 141,
   "metadata": {},
   "outputs": [],
   "source": [
    "dataset = 'cifar10'\n",
    "model = 'resnet32'\n",
    "drift_clf = fetch_tf_model(dataset, model)\n",
    "acc = drift_clf.evaluate(scale_by_instance(X_test), y_test, batch_size=128, verbose=0)[1]"
   ]
  },
  {
   "cell_type": "code",
   "execution_count": 148,
   "metadata": {},
   "outputs": [
    {
     "name": "stdout",
     "output_type": "stream",
     "text": [
      "Chosen: 500\n",
      "orig data :500\n",
      "Drift? Yes!\n",
      "Corruption type: brightness, data:50\n",
      "Drift? Yes!\n",
      "Corruption type: contrast, data:50\n",
      "Drift? No!\n",
      "Corruption type: defocus_blur, data:50\n",
      "Drift? No!\n",
      "Corruption type: elastic_transform, data:50\n",
      "Drift? Yes!\n",
      "Corruption type: fog, data:50\n",
      "Drift? Yes!\n",
      "Corruption type: frost, data:50\n",
      "Drift? No!\n",
      "Corruption type: gaussian_blur, data:50\n",
      "Drift? No!\n",
      "Corruption type: gaussian_noise, data:50\n",
      "Drift? No!\n",
      "Corruption type: glass_blur, data:50\n",
      "Drift? No!\n",
      "Corruption type: impulse_noise, data:50\n",
      "1000\n",
      "*** Orig Acc for all : 0.7519999742507935\n",
      "*** Orig Acc for new_clf : 0.7639999985694885\n",
      "*** Orig Acc for drift_clf : 0.7400000095367432\n",
      "\n",
      "Retraining periodic\n",
      "Epoch 1/3\n",
      "8/8 [==============================] - 9s 1s/step - loss: 0.7922 - sparse_categorical_accuracy: 0.8250\n",
      "Epoch 2/3\n",
      "8/8 [==============================] - 8s 1s/step - loss: 0.5094 - sparse_categorical_accuracy: 0.8840\n",
      "Epoch 3/3\n",
      "8/8 [==============================] - 8s 1s/step - loss: 0.3382 - sparse_categorical_accuracy: 0.9240\n",
      "Retrained took: 28730\n",
      " Iter : 0\n",
      "******** for 500\n",
      "**************KS: 0\n",
      "**************exec KS: [369]\n",
      "*** Acc for all : 0.7519999742507935\n",
      "Chosen: 500\n",
      "orig data :500\n",
      "Drift? Yes!\n",
      "Corruption type: brightness, data:50\n",
      "Drift? Yes!\n",
      "Corruption type: contrast, data:50\n",
      "Drift? No!\n",
      "Corruption type: defocus_blur, data:50\n",
      "Drift? No!\n",
      "Corruption type: elastic_transform, data:50\n",
      "Drift? Yes!\n",
      "Corruption type: fog, data:50\n",
      "Drift? Yes!\n",
      "Corruption type: frost, data:50\n",
      "Drift? No!\n",
      "Corruption type: gaussian_blur, data:50\n",
      "Drift? No!\n",
      "Corruption type: gaussian_noise, data:50\n",
      "Drift? No!\n",
      "Corruption type: glass_blur, data:50\n",
      "Drift? No!\n",
      "Corruption type: impulse_noise, data:50\n",
      "1000\n",
      "*** Orig Acc for all : 0.7580000162124634\n",
      "*** Orig Acc for new_clf : 0.8050000071525574\n",
      "*** Orig Acc for drift_clf : 0.7459999918937683\n",
      "\n",
      "Retraining periodic\n",
      "Epoch 1/3\n",
      "8/8 [==============================] - 8s 1s/step - loss: 0.6928 - sparse_categorical_accuracy: 0.8370\n",
      "Epoch 2/3\n",
      "8/8 [==============================] - 8s 1s/step - loss: 0.4346 - sparse_categorical_accuracy: 0.9050\n",
      "Epoch 3/3\n",
      "8/8 [==============================] - 8s 997ms/step - loss: 0.2718 - sparse_categorical_accuracy: 0.9560\n",
      "Retrained took: 28114\n",
      "KS drift\n",
      "Retraining drifter\n",
      "Epoch 1/3\n",
      "8/8 [==============================] - 8s 1s/step - loss: 0.8827 - sparse_categorical_accuracy: 0.7990\n",
      "Epoch 2/3\n",
      "8/8 [==============================] - 8s 1s/step - loss: 0.4944 - sparse_categorical_accuracy: 0.8810\n",
      "Epoch 3/3\n",
      "8/8 [==============================] - 9s 1s/step - loss: 0.2882 - sparse_categorical_accuracy: 0.9520\n",
      "Retrained\n",
      " Iter : 0\n",
      "******** for 500\n",
      "**************KS: 1\n",
      "**************exec KS: [369, 409]\n",
      "*** Acc for all : 0.7580000162124634\n",
      "Chosen: 500\n",
      "orig data :500\n",
      "Drift? Yes!\n",
      "Corruption type: brightness, data:50\n",
      "Drift? Yes!\n",
      "Corruption type: contrast, data:50\n",
      "Drift? Yes!\n",
      "Corruption type: defocus_blur, data:50\n",
      "Drift? No!\n",
      "Corruption type: elastic_transform, data:50\n",
      "Drift? Yes!\n",
      "Corruption type: fog, data:50\n",
      "Drift? Yes!\n",
      "Corruption type: frost, data:50\n",
      "Drift? No!\n",
      "Corruption type: gaussian_blur, data:50\n",
      "Drift? No!\n",
      "Corruption type: gaussian_noise, data:50\n",
      "Drift? No!\n",
      "Corruption type: glass_blur, data:50\n",
      "Drift? No!\n",
      "Corruption type: impulse_noise, data:50\n",
      "1000\n",
      "*** Orig Acc for all : 0.75\n",
      "*** Orig Acc for new_clf : 0.7760000228881836\n",
      "*** Orig Acc for drift_clf : 0.7459999918937683\n",
      "\n",
      "Retraining periodic\n",
      "Epoch 1/3\n",
      "8/8 [==============================] - 9s 1s/step - loss: 0.6320 - sparse_categorical_accuracy: 0.8400\n",
      "Epoch 2/3\n",
      "8/8 [==============================] - 10s 1s/step - loss: 0.4340 - sparse_categorical_accuracy: 0.8990\n",
      "Epoch 3/3\n",
      "8/8 [==============================] - 10s 1s/step - loss: 0.3030 - sparse_categorical_accuracy: 0.9450\n",
      "Retrained took: 32895\n",
      "KS drift\n",
      "Retraining drifter\n",
      "Epoch 1/3\n",
      "8/8 [==============================] - 10s 1s/step - loss: 0.7980 - sparse_categorical_accuracy: 0.8260\n",
      "Epoch 2/3\n",
      "8/8 [==============================] - 9s 1s/step - loss: 0.5217 - sparse_categorical_accuracy: 0.8850\n",
      "Epoch 3/3\n",
      "8/8 [==============================] - 9s 1s/step - loss: 0.3310 - sparse_categorical_accuracy: 0.9410\n",
      "Retrained\n",
      " Iter : 0\n",
      "******** for 500\n",
      "**************KS: 1\n",
      "**************exec KS: [369, 409, 408]\n",
      "*** Acc for all : 0.75\n",
      "Chosen: 100\n",
      "orig data :900\n",
      "Drift? Yes!\n",
      "Corruption type: brightness, data:10\n",
      "Drift? No!\n",
      "Corruption type: contrast, data:10\n",
      "Drift? No!\n",
      "Corruption type: defocus_blur, data:10\n",
      "Drift? No!\n",
      "Corruption type: elastic_transform, data:10\n",
      "Drift? No!\n",
      "Corruption type: fog, data:10\n",
      "Drift? Yes!\n",
      "Corruption type: frost, data:10\n",
      "Drift? No!\n",
      "Corruption type: gaussian_blur, data:10\n",
      "Drift? No!\n",
      "Corruption type: gaussian_noise, data:10\n",
      "Drift? No!\n",
      "Corruption type: glass_blur, data:10\n",
      "Drift? No!\n",
      "Corruption type: impulse_noise, data:10\n",
      "1000\n",
      "*** Orig Acc for all : 0.8999999761581421\n",
      "*** Orig Acc for new_clf : 0.878000020980835\n",
      "*** Orig Acc for drift_clf : 0.8399999737739563\n",
      "\n",
      "Retraining periodic\n",
      "Epoch 1/3\n",
      "8/8 [==============================] - 8s 1s/step - loss: 0.3713 - sparse_categorical_accuracy: 0.9200\n",
      "Epoch 2/3\n",
      "8/8 [==============================] - 8s 1s/step - loss: 0.2680 - sparse_categorical_accuracy: 0.9480\n",
      "Epoch 3/3\n",
      "8/8 [==============================] - 9s 1s/step - loss: 0.2037 - sparse_categorical_accuracy: 0.9760\n",
      "Retrained took: 29997\n",
      " Iter : 0\n",
      "******** for 100\n",
      "**************KS: 0\n",
      "**************exec KS: [369, 409, 408, 453]\n",
      "*** Acc for all : 0.8999999761581421\n",
      "Chosen: 50\n",
      "orig data :950\n",
      "Drift? No!\n",
      "Corruption type: brightness, data:5\n",
      "Drift? No!\n",
      "Corruption type: contrast, data:5\n",
      "Drift? No!\n",
      "Corruption type: defocus_blur, data:5\n",
      "Drift? No!\n",
      "Corruption type: elastic_transform, data:5\n",
      "Drift? No!\n",
      "Corruption type: fog, data:5\n",
      "Drift? No!\n",
      "Corruption type: frost, data:5\n",
      "Drift? No!\n",
      "Corruption type: gaussian_blur, data:5\n",
      "Drift? No!\n",
      "Corruption type: gaussian_noise, data:5\n",
      "Drift? No!\n",
      "Corruption type: glass_blur, data:5\n",
      "Drift? No!\n",
      "Corruption type: impulse_noise, data:5\n",
      "1000\n",
      "*** Orig Acc for all : 0.9179999828338623\n",
      "*** Orig Acc for new_clf : 0.9100000262260437\n",
      "*** Orig Acc for drift_clf : 0.8569999933242798\n",
      "\n",
      "Retraining periodic\n",
      "Epoch 1/3\n",
      "8/8 [==============================] - 9s 1s/step - loss: 0.3232 - sparse_categorical_accuracy: 0.9410\n",
      "Epoch 2/3\n",
      "8/8 [==============================] - 8s 1s/step - loss: 0.2431 - sparse_categorical_accuracy: 0.9660\n",
      "Epoch 3/3\n",
      "8/8 [==============================] - 8s 1s/step - loss: 0.1839 - sparse_categorical_accuracy: 0.9850\n",
      "Retrained took: 28934\n",
      " Iter : 0\n",
      "******** for 50\n",
      "**************KS: 0\n",
      "**************exec KS: [369, 409, 408, 453, 381]\n",
      "*** Acc for all : 0.9179999828338623\n",
      "Chosen: 100\n",
      "orig data :900\n",
      "Drift? Yes!\n",
      "Corruption type: brightness, data:10\n",
      "Drift? No!\n",
      "Corruption type: contrast, data:10\n",
      "Drift? No!\n",
      "Corruption type: defocus_blur, data:10\n",
      "Drift? No!\n",
      "Corruption type: elastic_transform, data:10\n",
      "Drift? No!\n",
      "Corruption type: fog, data:10\n",
      "Drift? Yes!\n",
      "Corruption type: frost, data:10\n",
      "Drift? No!\n",
      "Corruption type: gaussian_blur, data:10\n",
      "Drift? No!\n",
      "Corruption type: gaussian_noise, data:10\n",
      "Drift? No!\n",
      "Corruption type: glass_blur, data:10\n",
      "Drift? Yes!\n",
      "Corruption type: impulse_noise, data:10\n",
      "1000\n",
      "*** Orig Acc for all : 0.878000020980835\n",
      "*** Orig Acc for new_clf : 0.8820000290870667\n",
      "*** Orig Acc for drift_clf : 0.8220000267028809\n",
      "\n",
      "Retraining periodic\n",
      "Epoch 1/3\n",
      "8/8 [==============================] - 9s 1s/step - loss: 0.3988 - sparse_categorical_accuracy: 0.9150\n",
      "Epoch 2/3\n",
      "8/8 [==============================] - 9s 1s/step - loss: 0.2807 - sparse_categorical_accuracy: 0.9520\n",
      "Epoch 3/3\n",
      "8/8 [==============================] - 9s 1s/step - loss: 0.2016 - sparse_categorical_accuracy: 0.9770\n",
      "Retrained took: 31087\n",
      " Iter : 0\n",
      "******** for 100\n",
      "**************KS: 0\n",
      "**************exec KS: [369, 409, 408, 453, 381, 378]\n",
      "*** Acc for all : 0.878000020980835\n",
      "Chosen: 250\n",
      "orig data :750\n",
      "Drift? Yes!\n",
      "Corruption type: brightness, data:25\n",
      "Drift? Yes!\n",
      "Corruption type: contrast, data:25\n",
      "Drift? No!\n",
      "Corruption type: defocus_blur, data:25\n",
      "Drift? No!\n",
      "Corruption type: elastic_transform, data:25\n",
      "Drift? No!\n",
      "Corruption type: fog, data:25\n",
      "Drift? Yes!\n",
      "Corruption type: frost, data:25\n",
      "Drift? No!\n",
      "Corruption type: gaussian_blur, data:25\n",
      "Drift? No!\n",
      "Corruption type: gaussian_noise, data:25\n",
      "Drift? No!\n",
      "Corruption type: glass_blur, data:25\n",
      "Drift? No!\n",
      "Corruption type: impulse_noise, data:25\n",
      "1000\n"
     ]
    },
    {
     "name": "stdout",
     "output_type": "stream",
     "text": [
      "*** Orig Acc for all : 0.824999988079071\n",
      "*** Orig Acc for new_clf : 0.8859999775886536\n",
      "*** Orig Acc for drift_clf : 0.7829999923706055\n",
      "\n",
      "Retraining periodic\n",
      "Epoch 1/3\n",
      "8/8 [==============================] - 8s 1s/step - loss: 0.4739 - sparse_categorical_accuracy: 0.9030\n",
      "Epoch 2/3\n",
      "8/8 [==============================] - 8s 1s/step - loss: 0.3524 - sparse_categorical_accuracy: 0.9310\n",
      "Epoch 3/3\n",
      "8/8 [==============================] - 9s 1s/step - loss: 0.2417 - sparse_categorical_accuracy: 0.9650\n",
      "Retrained took: 29099\n",
      " Iter : 0\n",
      "******** for 250\n",
      "**************KS: 0\n",
      "**************exec KS: [369, 409, 408, 453, 381, 378, 408]\n",
      "*** Acc for all : 0.824999988079071\n",
      "Chosen: 500\n",
      "orig data :500\n",
      "Drift? Yes!\n",
      "Corruption type: brightness, data:50\n",
      "Drift? Yes!\n",
      "Corruption type: contrast, data:50\n",
      "Drift? No!\n",
      "Corruption type: defocus_blur, data:50\n",
      "Drift? No!\n",
      "Corruption type: elastic_transform, data:50\n",
      "Drift? Yes!\n",
      "Corruption type: fog, data:50\n",
      "Drift? Yes!\n",
      "Corruption type: frost, data:50\n",
      "Drift? No!\n",
      "Corruption type: gaussian_blur, data:50\n",
      "Drift? No!\n",
      "Corruption type: gaussian_noise, data:50\n",
      "Drift? No!\n",
      "Corruption type: glass_blur, data:50\n",
      "Drift? Yes!\n",
      "Corruption type: impulse_noise, data:50\n",
      "1000\n",
      "*** Orig Acc for all : 0.7300000190734863\n",
      "*** Orig Acc for new_clf : 0.8270000219345093\n",
      "*** Orig Acc for drift_clf : 0.7260000109672546\n",
      "\n",
      "Retraining periodic\n",
      "Epoch 1/3\n",
      "8/8 [==============================] - 8s 1s/step - loss: 0.6173 - sparse_categorical_accuracy: 0.8530\n",
      "Epoch 2/3\n",
      "8/8 [==============================] - 8s 1s/step - loss: 0.4241 - sparse_categorical_accuracy: 0.9100\n",
      "Epoch 3/3\n",
      "8/8 [==============================] - 9s 1s/step - loss: 0.2906 - sparse_categorical_accuracy: 0.9510\n",
      "Retrained took: 29149\n",
      "KS drift\n",
      "Retraining drifter\n",
      "Epoch 1/3\n",
      "8/8 [==============================] - 9s 1s/step - loss: 0.8303 - sparse_categorical_accuracy: 0.8220\n",
      "Epoch 2/3\n",
      "8/8 [==============================] - 9s 1s/step - loss: 0.5144 - sparse_categorical_accuracy: 0.8940\n",
      "Epoch 3/3\n",
      "8/8 [==============================] - 8s 1s/step - loss: 0.3526 - sparse_categorical_accuracy: 0.9280\n",
      "Retrained\n",
      " Iter : 0\n",
      "******** for 500\n",
      "**************KS: 1\n",
      "**************exec KS: [369, 409, 408, 453, 381, 378, 408, 396]\n",
      "*** Acc for all : 0.7300000190734863\n",
      "Chosen: 500\n",
      "orig data :500\n",
      "Drift? Yes!\n",
      "Corruption type: brightness, data:50\n",
      "Drift? Yes!\n",
      "Corruption type: contrast, data:50\n",
      "Drift? No!\n",
      "Corruption type: defocus_blur, data:50\n",
      "Drift? No!\n",
      "Corruption type: elastic_transform, data:50\n",
      "Drift? Yes!\n",
      "Corruption type: fog, data:50\n",
      "Drift? Yes!\n",
      "Corruption type: frost, data:50\n",
      "Drift? No!\n",
      "Corruption type: gaussian_blur, data:50\n",
      "Drift? No!\n",
      "Corruption type: gaussian_noise, data:50\n",
      "Drift? No!\n",
      "Corruption type: glass_blur, data:50\n",
      "Drift? No!\n",
      "Corruption type: impulse_noise, data:50\n",
      "1000\n",
      "*** Orig Acc for all : 0.7450000047683716\n",
      "*** Orig Acc for new_clf : 0.843999981880188\n",
      "*** Orig Acc for drift_clf : 0.7540000081062317\n",
      "\n",
      "Retraining periodic\n",
      "Epoch 1/3\n",
      "8/8 [==============================] - 9s 1s/step - loss: 0.5983 - sparse_categorical_accuracy: 0.8560\n",
      "Epoch 2/3\n",
      "8/8 [==============================] - 8s 1s/step - loss: 0.3738 - sparse_categorical_accuracy: 0.9180\n",
      "Epoch 3/3\n",
      "8/8 [==============================] - 8s 1s/step - loss: 0.2524 - sparse_categorical_accuracy: 0.9630\n",
      "Retrained took: 29124\n",
      "KS drift\n",
      "Retraining drifter\n",
      "Epoch 1/3\n",
      "8/8 [==============================] - 8s 1s/step - loss: 0.7423 - sparse_categorical_accuracy: 0.8310\n",
      "Epoch 2/3\n",
      "8/8 [==============================] - 8s 1s/step - loss: 0.4280 - sparse_categorical_accuracy: 0.8980\n",
      "Epoch 3/3\n",
      "8/8 [==============================] - 8s 1s/step - loss: 0.2866 - sparse_categorical_accuracy: 0.9530\n",
      "Retrained\n",
      " Iter : 0\n",
      "******** for 500\n",
      "**************KS: 1\n",
      "**************exec KS: [369, 409, 408, 453, 381, 378, 408, 396, 360]\n",
      "*** Acc for all : 0.7450000047683716\n",
      "Chosen: 500\n",
      "orig data :500\n",
      "Drift? Yes!\n",
      "Corruption type: brightness, data:50\n",
      "Drift? Yes!\n",
      "Corruption type: contrast, data:50\n",
      "Drift? No!\n",
      "Corruption type: defocus_blur, data:50\n",
      "Drift? No!\n",
      "Corruption type: elastic_transform, data:50\n",
      "Drift? Yes!\n",
      "Corruption type: fog, data:50\n",
      "Drift? Yes!\n",
      "Corruption type: frost, data:50\n",
      "Drift? No!\n",
      "Corruption type: gaussian_blur, data:50\n",
      "Drift? No!\n",
      "Corruption type: gaussian_noise, data:50\n",
      "Drift? No!\n",
      "Corruption type: glass_blur, data:50\n",
      "Drift? Yes!\n",
      "Corruption type: impulse_noise, data:50\n",
      "1000\n",
      "*** Orig Acc for all : 0.7590000033378601\n",
      "*** Orig Acc for new_clf : 0.8560000061988831\n",
      "*** Orig Acc for drift_clf : 0.7799999713897705\n",
      "\n",
      "Retraining periodic\n",
      "Epoch 1/3\n",
      "8/8 [==============================] - 9s 1s/step - loss: 0.5800 - sparse_categorical_accuracy: 0.8670\n",
      "Epoch 2/3\n",
      "8/8 [==============================] - 9s 1s/step - loss: 0.3715 - sparse_categorical_accuracy: 0.9260\n",
      "Epoch 3/3\n",
      "8/8 [==============================] - 8s 1s/step - loss: 0.2524 - sparse_categorical_accuracy: 0.9680\n",
      "Retrained took: 29310\n",
      "KS drift\n",
      "Retraining drifter\n",
      "Epoch 1/3\n",
      "8/8 [==============================] - 8s 1s/step - loss: 0.7193 - sparse_categorical_accuracy: 0.8430\n",
      "Epoch 2/3\n",
      "8/8 [==============================] - 8s 982ms/step - loss: 0.4493 - sparse_categorical_accuracy: 0.9020\n",
      "Epoch 3/3\n",
      "8/8 [==============================] - 9s 1s/step - loss: 0.2808 - sparse_categorical_accuracy: 0.9570\n",
      "Retrained\n",
      " Iter : 0\n",
      "******** for 500\n",
      "**************KS: 1\n",
      "**************exec KS: [369, 409, 408, 453, 381, 378, 408, 396, 360, 390]\n",
      "*** Acc for all : 0.7590000033378601\n"
     ]
    }
   ],
   "source": [
    "##### continous loop for detecting drift using various methods (MMD, KS)\n",
    "import random\n",
    "import time\n",
    "import copy\n",
    "current_milli_time = lambda: int(round(time.time() * 1000))\n",
    "\n",
    "counter_mmd = 0\n",
    "counter_ks = 0\n",
    "orig_set_size = 1000\n",
    "# corrupted_set_size = 1000\n",
    "class_size = 10\n",
    "\n",
    "exec_times = {\"KS\": [], \"MMD\": []}\n",
    "drifter_acc = {\"KS\": 0, \"MMD\": 0}\n",
    "accuracy_by_time = []\n",
    "\n",
    "result = {\"method\": \"KS\", \"model_acc\": 100, \"corrupted\":0, \"exec\":0,\"drift\":2}\n",
    "\n",
    "result = {\"method\": \"KS\", \"model_acc\": 100,\"model_acc_periodic\": 100,\"model_acc_drift\": 100, \"corrupted\":0, \"exec\":0,\"drift\":2}\n",
    "\n",
    "results = []\n",
    "\n",
    "## get 1000 - K from orig + K from corrupted data\n",
    "for k in range(0,10):\n",
    "    possible_sizes = [50,100,250,500]\n",
    "#     print(random.choice(possible_sizes))\n",
    "    corrupted_set_size = random.choice(possible_sizes)\n",
    "    print(f\"Chosen: {corrupted_set_size}\")\n",
    "    result[\"corrupted\"] = corrupted_set_size/orig_set_size\n",
    "    accuracy_by_time = []\n",
    "    drifter_acc[\"KS\"] = 0\n",
    "    for i in range(0,1):\n",
    "\n",
    "        ## select randomly from orig\n",
    "        idx = np.random.randint(10000, size=orig_set_size-corrupted_set_size) \n",
    "        acc = clf.evaluate(scale_by_instance(X_test[idx]), y_test[idx], batch_size=128, verbose=0)[1]\n",
    "        temp = X_test[idx]\n",
    "        temp_y = y_test[idx]\n",
    "        print(f\"orig data :{len(X_test[idx])}\")\n",
    "#         print('Test set accuracy:')\n",
    "#         print('Original {:.4f}'.format(acc))\n",
    "        clf_accuracy_loop = {'original': acc}\n",
    "        for x, c in zip(X_c, corruption):\n",
    "            idx = np.random.randint(10000, size=int(corrupted_set_size/class_size))\n",
    "    #         print(\"idx\",idx)\n",
    "            preds = cd.predict(x[idx], return_p_val=True)\n",
    "            acc = clf.evaluate(scale_by_instance(x[idx]), y_test[idx], batch_size=128, verbose=0)[1]\n",
    "            print('Drift? {}'.format(labels[preds['data']['is_drift']]))\n",
    "            print(f'Corruption type: {c}, data:{len(x[idx])}')\n",
    "\n",
    "            temp = np.concatenate((temp, x[idx]), axis=0)\n",
    "            temp_y = np.concatenate((temp_y, y_test[idx]), axis=0)\n",
    "\n",
    "        print(len(temp))\n",
    "        acc = clf.evaluate(scale_by_instance(temp), temp_y, batch_size=128, verbose=0)[1]\n",
    "        accuracy_by_time.append(acc)\n",
    "        print(f\"*** Orig Acc for all : {acc}\")\n",
    "        acc2 = new_clf.evaluate(scale_by_instance(temp), temp_y, batch_size=128, verbose=0)[1]\n",
    "        print(f\"*** Orig Acc for new_clf : {acc2}\")\n",
    "        \n",
    "        acc3 = drift_clf.evaluate(scale_by_instance(temp), temp_y, batch_size=128, verbose=0)[1]\n",
    "        print(f\"*** Orig Acc for drift_clf : {acc3}\")\n",
    "        print(f\"\")\n",
    "        result[\"model_acc\"] = acc\n",
    "        result[\"model_acc_periodic\"] = acc2\n",
    "        result[\"model_acc_drift\"]= acc3\n",
    "        \n",
    "        ### retrain periodic\n",
    "        print(\"Retraining periodic\")\n",
    "        retrain_begin = current_milli_time()\n",
    "        new_clf.fit(scale_by_instance(temp), temp_y, batch_size=128, epochs = 3)\n",
    "        print(f\"Retrained took: { current_milli_time() - retrain_begin}\")\n",
    "\n",
    "\n",
    "    #         begin_time = current_milli_time()\n",
    "    #         preds_mmd = cd_mmd.predict(temp, return_p_val=True)\n",
    "    #         end_time = current_milli_time()\n",
    "    #         exec_times[\"MMD\"].append(end_time - begin_time)\n",
    "\n",
    "        begin_time = current_milli_time()\n",
    "        preds_ks = cd.predict(temp, return_p_val=True)\n",
    "        end_time = current_milli_time()\n",
    "        exec_times[\"KS\"].append(end_time - begin_time)\n",
    "        result[\"exec\"] = end_time - begin_time\n",
    "\n",
    "    #     labels = ['No!', 'Yes!']\n",
    "    #     print('Drift? {}'.format(labels[preds_temp['data']['is_drift']]))\n",
    "    #         if preds_mmd['data']['is_drift']:\n",
    "    #             drifter_acc[\"MMD\"] = drifter_acc[\"MMD\"] + 1\n",
    "    #             print(\"MMD drift\")\n",
    "        if preds_ks['data']['is_drift']:\n",
    "            drifter_acc[\"KS\"] = drifter_acc[\"KS\"] + 1\n",
    "            result[\"drift\"] = 1\n",
    "            print(\"KS drift\")\n",
    "            print(\"Retraining drifter\")\n",
    "            drift_clf.fit(scale_by_instance(temp), temp_y, batch_size=128, epochs = 3)\n",
    "            print(\"Retrained\")\n",
    "        else:\n",
    "            result[\"drift\"] = 0\n",
    "            \n",
    "        results.append(copy.copy(result))\n",
    "        print(f\" Iter : {i}\")\n",
    "    print(f\"******** for {corrupted_set_size}\")\n",
    "    print(f\"**************KS: {drifter_acc['KS']}\")\n",
    "    #     print(f\"MMD: {drifter_acc['MMD']}\")\n",
    "    print(f\"**************exec KS: {exec_times['KS']}\")\n",
    "    print(f\"*** Acc for all : {acc}\")\n",
    "    #     print(f\"exec MMD: {exec_times['MMD']}\")"
   ]
  },
  {
   "cell_type": "code",
   "execution_count": 149,
   "metadata": {},
   "outputs": [],
   "source": [
    "import csv\n",
    "csv_columns = [\"method\", \"model_acc\", \"model_acc_periodic\",\"model_acc_drift\",\"corrupted\", \"exec\",\"drift\"]\n",
    "csv_file = \"retraining.csv\"\n",
    "\n",
    "\n",
    "\n",
    "with open(csv_file, 'w') as csvfile:\n",
    "    writer = csv.DictWriter(csvfile, fieldnames=csv_columns)\n",
    "    writer.writeheader()\n",
    "    for data in results:\n",
    "        writer.writerow(data)"
   ]
  },
  {
   "cell_type": "code",
   "execution_count": 176,
   "metadata": {},
   "outputs": [
    {
     "ename": "FileNotFoundError",
     "evalue": "[Errno 2] File retraining.csv does not exist: 'retraining.csv'",
     "output_type": "error",
     "traceback": [
      "\u001b[0;31m---------------------------------------------------------------------------\u001b[0m",
      "\u001b[0;31mFileNotFoundError\u001b[0m                         Traceback (most recent call last)",
      "\u001b[0;32m<ipython-input-176-4a57e98d8844>\u001b[0m in \u001b[0;36m<module>\u001b[0;34m\u001b[0m\n\u001b[1;32m      5\u001b[0m \u001b[0;31m# sns.set_palette(sns.color_palette(get_colors()))\u001b[0m\u001b[0;34m\u001b[0m\u001b[0;34m\u001b[0m\u001b[0;34m\u001b[0m\u001b[0m\n\u001b[1;32m      6\u001b[0m \u001b[0;34m\u001b[0m\u001b[0m\n\u001b[0;32m----> 7\u001b[0;31m \u001b[0mdf\u001b[0m \u001b[0;34m=\u001b[0m \u001b[0mpd\u001b[0m\u001b[0;34m.\u001b[0m\u001b[0mread_csv\u001b[0m\u001b[0;34m(\u001b[0m\u001b[0;34m'retraining.csv'\u001b[0m\u001b[0;34m)\u001b[0m\u001b[0;34m\u001b[0m\u001b[0;34m\u001b[0m\u001b[0m\n\u001b[0m\u001b[1;32m      8\u001b[0m \u001b[0;31m# fig,ax = plt.subplots()\u001b[0m\u001b[0;34m\u001b[0m\u001b[0;34m\u001b[0m\u001b[0;34m\u001b[0m\u001b[0m\n\u001b[1;32m      9\u001b[0m \u001b[0;31m# fig = plt.figure()\u001b[0m\u001b[0;34m\u001b[0m\u001b[0;34m\u001b[0m\u001b[0;34m\u001b[0m\u001b[0m\n",
      "\u001b[0;32m~/opt/anaconda3/lib/python3.7/site-packages/pandas/io/parsers.py\u001b[0m in \u001b[0;36mparser_f\u001b[0;34m(filepath_or_buffer, sep, delimiter, header, names, index_col, usecols, squeeze, prefix, mangle_dupe_cols, dtype, engine, converters, true_values, false_values, skipinitialspace, skiprows, skipfooter, nrows, na_values, keep_default_na, na_filter, verbose, skip_blank_lines, parse_dates, infer_datetime_format, keep_date_col, date_parser, dayfirst, cache_dates, iterator, chunksize, compression, thousands, decimal, lineterminator, quotechar, quoting, doublequote, escapechar, comment, encoding, dialect, error_bad_lines, warn_bad_lines, delim_whitespace, low_memory, memory_map, float_precision)\u001b[0m\n\u001b[1;32m    674\u001b[0m         )\n\u001b[1;32m    675\u001b[0m \u001b[0;34m\u001b[0m\u001b[0m\n\u001b[0;32m--> 676\u001b[0;31m         \u001b[0;32mreturn\u001b[0m \u001b[0m_read\u001b[0m\u001b[0;34m(\u001b[0m\u001b[0mfilepath_or_buffer\u001b[0m\u001b[0;34m,\u001b[0m \u001b[0mkwds\u001b[0m\u001b[0;34m)\u001b[0m\u001b[0;34m\u001b[0m\u001b[0;34m\u001b[0m\u001b[0m\n\u001b[0m\u001b[1;32m    677\u001b[0m \u001b[0;34m\u001b[0m\u001b[0m\n\u001b[1;32m    678\u001b[0m     \u001b[0mparser_f\u001b[0m\u001b[0;34m.\u001b[0m\u001b[0m__name__\u001b[0m \u001b[0;34m=\u001b[0m \u001b[0mname\u001b[0m\u001b[0;34m\u001b[0m\u001b[0;34m\u001b[0m\u001b[0m\n",
      "\u001b[0;32m~/opt/anaconda3/lib/python3.7/site-packages/pandas/io/parsers.py\u001b[0m in \u001b[0;36m_read\u001b[0;34m(filepath_or_buffer, kwds)\u001b[0m\n\u001b[1;32m    446\u001b[0m \u001b[0;34m\u001b[0m\u001b[0m\n\u001b[1;32m    447\u001b[0m     \u001b[0;31m# Create the parser.\u001b[0m\u001b[0;34m\u001b[0m\u001b[0;34m\u001b[0m\u001b[0;34m\u001b[0m\u001b[0m\n\u001b[0;32m--> 448\u001b[0;31m     \u001b[0mparser\u001b[0m \u001b[0;34m=\u001b[0m \u001b[0mTextFileReader\u001b[0m\u001b[0;34m(\u001b[0m\u001b[0mfp_or_buf\u001b[0m\u001b[0;34m,\u001b[0m \u001b[0;34m**\u001b[0m\u001b[0mkwds\u001b[0m\u001b[0;34m)\u001b[0m\u001b[0;34m\u001b[0m\u001b[0;34m\u001b[0m\u001b[0m\n\u001b[0m\u001b[1;32m    449\u001b[0m \u001b[0;34m\u001b[0m\u001b[0m\n\u001b[1;32m    450\u001b[0m     \u001b[0;32mif\u001b[0m \u001b[0mchunksize\u001b[0m \u001b[0;32mor\u001b[0m \u001b[0miterator\u001b[0m\u001b[0;34m:\u001b[0m\u001b[0;34m\u001b[0m\u001b[0;34m\u001b[0m\u001b[0m\n",
      "\u001b[0;32m~/opt/anaconda3/lib/python3.7/site-packages/pandas/io/parsers.py\u001b[0m in \u001b[0;36m__init__\u001b[0;34m(self, f, engine, **kwds)\u001b[0m\n\u001b[1;32m    878\u001b[0m             \u001b[0mself\u001b[0m\u001b[0;34m.\u001b[0m\u001b[0moptions\u001b[0m\u001b[0;34m[\u001b[0m\u001b[0;34m\"has_index_names\"\u001b[0m\u001b[0;34m]\u001b[0m \u001b[0;34m=\u001b[0m \u001b[0mkwds\u001b[0m\u001b[0;34m[\u001b[0m\u001b[0;34m\"has_index_names\"\u001b[0m\u001b[0;34m]\u001b[0m\u001b[0;34m\u001b[0m\u001b[0;34m\u001b[0m\u001b[0m\n\u001b[1;32m    879\u001b[0m \u001b[0;34m\u001b[0m\u001b[0m\n\u001b[0;32m--> 880\u001b[0;31m         \u001b[0mself\u001b[0m\u001b[0;34m.\u001b[0m\u001b[0m_make_engine\u001b[0m\u001b[0;34m(\u001b[0m\u001b[0mself\u001b[0m\u001b[0;34m.\u001b[0m\u001b[0mengine\u001b[0m\u001b[0;34m)\u001b[0m\u001b[0;34m\u001b[0m\u001b[0;34m\u001b[0m\u001b[0m\n\u001b[0m\u001b[1;32m    881\u001b[0m \u001b[0;34m\u001b[0m\u001b[0m\n\u001b[1;32m    882\u001b[0m     \u001b[0;32mdef\u001b[0m \u001b[0mclose\u001b[0m\u001b[0;34m(\u001b[0m\u001b[0mself\u001b[0m\u001b[0;34m)\u001b[0m\u001b[0;34m:\u001b[0m\u001b[0;34m\u001b[0m\u001b[0;34m\u001b[0m\u001b[0m\n",
      "\u001b[0;32m~/opt/anaconda3/lib/python3.7/site-packages/pandas/io/parsers.py\u001b[0m in \u001b[0;36m_make_engine\u001b[0;34m(self, engine)\u001b[0m\n\u001b[1;32m   1112\u001b[0m     \u001b[0;32mdef\u001b[0m \u001b[0m_make_engine\u001b[0m\u001b[0;34m(\u001b[0m\u001b[0mself\u001b[0m\u001b[0;34m,\u001b[0m \u001b[0mengine\u001b[0m\u001b[0;34m=\u001b[0m\u001b[0;34m\"c\"\u001b[0m\u001b[0;34m)\u001b[0m\u001b[0;34m:\u001b[0m\u001b[0;34m\u001b[0m\u001b[0;34m\u001b[0m\u001b[0m\n\u001b[1;32m   1113\u001b[0m         \u001b[0;32mif\u001b[0m \u001b[0mengine\u001b[0m \u001b[0;34m==\u001b[0m \u001b[0;34m\"c\"\u001b[0m\u001b[0;34m:\u001b[0m\u001b[0;34m\u001b[0m\u001b[0;34m\u001b[0m\u001b[0m\n\u001b[0;32m-> 1114\u001b[0;31m             \u001b[0mself\u001b[0m\u001b[0;34m.\u001b[0m\u001b[0m_engine\u001b[0m \u001b[0;34m=\u001b[0m \u001b[0mCParserWrapper\u001b[0m\u001b[0;34m(\u001b[0m\u001b[0mself\u001b[0m\u001b[0;34m.\u001b[0m\u001b[0mf\u001b[0m\u001b[0;34m,\u001b[0m \u001b[0;34m**\u001b[0m\u001b[0mself\u001b[0m\u001b[0;34m.\u001b[0m\u001b[0moptions\u001b[0m\u001b[0;34m)\u001b[0m\u001b[0;34m\u001b[0m\u001b[0;34m\u001b[0m\u001b[0m\n\u001b[0m\u001b[1;32m   1115\u001b[0m         \u001b[0;32melse\u001b[0m\u001b[0;34m:\u001b[0m\u001b[0;34m\u001b[0m\u001b[0;34m\u001b[0m\u001b[0m\n\u001b[1;32m   1116\u001b[0m             \u001b[0;32mif\u001b[0m \u001b[0mengine\u001b[0m \u001b[0;34m==\u001b[0m \u001b[0;34m\"python\"\u001b[0m\u001b[0;34m:\u001b[0m\u001b[0;34m\u001b[0m\u001b[0;34m\u001b[0m\u001b[0m\n",
      "\u001b[0;32m~/opt/anaconda3/lib/python3.7/site-packages/pandas/io/parsers.py\u001b[0m in \u001b[0;36m__init__\u001b[0;34m(self, src, **kwds)\u001b[0m\n\u001b[1;32m   1889\u001b[0m         \u001b[0mkwds\u001b[0m\u001b[0;34m[\u001b[0m\u001b[0;34m\"usecols\"\u001b[0m\u001b[0;34m]\u001b[0m \u001b[0;34m=\u001b[0m \u001b[0mself\u001b[0m\u001b[0;34m.\u001b[0m\u001b[0musecols\u001b[0m\u001b[0;34m\u001b[0m\u001b[0;34m\u001b[0m\u001b[0m\n\u001b[1;32m   1890\u001b[0m \u001b[0;34m\u001b[0m\u001b[0m\n\u001b[0;32m-> 1891\u001b[0;31m         \u001b[0mself\u001b[0m\u001b[0;34m.\u001b[0m\u001b[0m_reader\u001b[0m \u001b[0;34m=\u001b[0m \u001b[0mparsers\u001b[0m\u001b[0;34m.\u001b[0m\u001b[0mTextReader\u001b[0m\u001b[0;34m(\u001b[0m\u001b[0msrc\u001b[0m\u001b[0;34m,\u001b[0m \u001b[0;34m**\u001b[0m\u001b[0mkwds\u001b[0m\u001b[0;34m)\u001b[0m\u001b[0;34m\u001b[0m\u001b[0;34m\u001b[0m\u001b[0m\n\u001b[0m\u001b[1;32m   1892\u001b[0m         \u001b[0mself\u001b[0m\u001b[0;34m.\u001b[0m\u001b[0munnamed_cols\u001b[0m \u001b[0;34m=\u001b[0m \u001b[0mself\u001b[0m\u001b[0;34m.\u001b[0m\u001b[0m_reader\u001b[0m\u001b[0;34m.\u001b[0m\u001b[0munnamed_cols\u001b[0m\u001b[0;34m\u001b[0m\u001b[0;34m\u001b[0m\u001b[0m\n\u001b[1;32m   1893\u001b[0m \u001b[0;34m\u001b[0m\u001b[0m\n",
      "\u001b[0;32mpandas/_libs/parsers.pyx\u001b[0m in \u001b[0;36mpandas._libs.parsers.TextReader.__cinit__\u001b[0;34m()\u001b[0m\n",
      "\u001b[0;32mpandas/_libs/parsers.pyx\u001b[0m in \u001b[0;36mpandas._libs.parsers.TextReader._setup_parser_source\u001b[0;34m()\u001b[0m\n",
      "\u001b[0;31mFileNotFoundError\u001b[0m: [Errno 2] File retraining.csv does not exist: 'retraining.csv'"
     ]
    }
   ],
   "source": [
    "import seaborn as sns\n",
    "import pandas as pd\n",
    "# sns.sns.color_palette(\"hls\", 8)\n",
    "sns.set_color_codes(\"dark\")\n",
    "# sns.set_palette(sns.color_palette(get_colors()))\n",
    "\n",
    "df = pd.read_csv('retraining.csv')\n",
    "# fig,ax = plt.subplots()\n",
    "# fig = plt.figure()\n",
    "f, ax = plt.subplots()\n",
    "# ax2 = ax.twinx()\n",
    "\n",
    "ax= sns.barplot(\n",
    "    data=df, \n",
    "    x=\"corrupted\", y=\"drift\", hue=\"method\",ci=95,palette=sns.color_palette(get_colors())\n",
    ")\n",
    "\n",
    "# # Define some hatches\n",
    "# hatches = ['...',  '\\\\', '',  '\\\\','-',  '\\\\','-',  '\\\\','-',  '\\\\','-',  '\\\\','-',  '\\\\','-',  '\\\\']\n",
    "hatches = [\"...\",\"...\",\"...\",\"...\",\"...\",\"...\",\"...\",\"...\",\"...\",\"...\",\"...\",\"...\"]\n",
    "hatches = [\"////\",\"////\",\"////\",\"////\",\"////\",\"////\",\"////\",\"////\",\"////\",\"////\",\"////\",\"////\",\"////\"]\n",
    "\n",
    "# Loop over the bars\n",
    "for i,thisbar in enumerate(ax.patches):\n",
    "    # Set a different hatch for each bar\n",
    "#     print(i)\n",
    "    thisbar.set_hatch(hatches[i])\n",
    "\n",
    "ax.legend(fontsize=20)\n",
    "ax.set_ylabel('Acc',fontsize=20);\n",
    "ax.set_xlabel('Corrupted Data Ratio',fontsize=20);\n",
    "\n",
    "\n",
    "fig2,ax2 = plt.subplots()\n",
    "# ax2 = ax.twinx()\n",
    "ax2= sns.lineplot( ax = ax2,\n",
    "    data=df.loc[df['method'] == \"KS\"], \n",
    "    x=\"corrupted\", y=\"model_acc\",  sort = False, marker='x'\n",
    ")\n",
    "# ax2.grid(False)\n",
    "\n",
    "# ax2.legend(fontsize=20)\n",
    "ax2.set_ylabel('Model Accuracy',fontsize=20);\n",
    "ax2.set_xlabel('Corrupted Data Ratio',fontsize=20);\n",
    "\n",
    "\n",
    "fig,ax3 = plt.subplots()\n",
    "a= sns.barplot(ax=ax3,\n",
    "    data=df, \n",
    "    x=\"method\", y=\"exec\",ci=95\n",
    ")\n",
    "for i,thisbar in enumerate(a.patches):\n",
    "    # Set a different hatch for each bar\n",
    "#     print(i)\n",
    "    thisbar.set_hatch(hatches[i])\n",
    "\n",
    "ax3.legend(fontsize=20)\n",
    "ax3.set_ylabel('Execution time',fontsize=20);\n",
    "ax3.set_xlabel('Corrupted Data Ratio',fontsize=20);"
   ]
  },
  {
   "cell_type": "code",
   "execution_count": 164,
   "metadata": {},
   "outputs": [
    {
     "data": {
      "text/plain": [
       "(0.65, 0.87)"
      ]
     },
     "execution_count": 164,
     "metadata": {},
     "output_type": "execute_result"
    },
    {
     "data": {
      "image/png": "[encoded data removed]",
      "text/plain": [
       "<Figure size 432x288 with 1 Axes>"
      ]
     },
     "metadata": {
      "needs_background": "light"
     },
     "output_type": "display_data"
    }
   ],
   "source": [
    "df = pd.read_csv('mmd-periodic.csv')\n",
    " \n",
    "f, ax = plt.subplots()\n",
    " \n",
    "\n",
    "ax= sns.barplot(\n",
    "    data=df, \n",
    "    x=\"mode\", y=\"accuracy\",ci=95,palette=sns.color_palette(get_colors())\n",
    ")\n",
    "hatches = [\"////\",\"////\",\"...\",\"////\",\"////\",\"////\",\"////\",\"////\",\"////\",\"////\",\"////\",\"////\",\"////\"]\n",
    "\n",
    "# Loop over the bars\n",
    "for i,thisbar in enumerate(ax.patches):\n",
    "    # Set a different hatch for each bar\n",
    "#     print(i)\n",
    "    thisbar.set_hatch(hatches[i])\n",
    "\n",
    "# ax.legend(fontsize=20)\n",
    "ax.set_ylabel('Acc',fontsize=20);\n",
    "ax.set_xlabel('Mode of retraining',fontsize=20);\n",
    "ax.set_ylim([0.65, 0.87])"
   ]
  },
  {
   "cell_type": "code",
   "execution_count": 175,
   "metadata": {},
   "outputs": [
    {
     "data": {
      "image/png": "[encoded data removed]",
      "text/plain": [
       "<Figure size 432x288 with 1 Axes>"
      ]
     },
     "metadata": {
      "needs_background": "light"
     },
     "output_type": "display_data"
    },
    {
     "data": {
      "image/png": "[encoded data removed]",
      "text/plain": [
       "<Figure size 432x288 with 1 Axes>"
      ]
     },
     "metadata": {
      "needs_background": "light"
     },
     "output_type": "display_data"
    }
   ],
   "source": [
    "df = pd.read_csv('mmd-periodic-exec.csv')\n",
    "\n",
    "f, ax = plt.subplots()\n",
    "\n",
    "ax= sns.barplot(\n",
    "    data=df, \n",
    "    x=\"mode\", y=\"retraining\",ci=95,palette=sns.color_palette(get_colors())\n",
    ")\n",
    "f2, ax2 = plt.subplots()\n",
    "# ax2 = ax.twinx()\n",
    "ax2= sns.barplot(ax =ax2,\n",
    "    data=df, \n",
    "    x=\"mode\", y=\"exec\",ci=95,palette=sns.color_palette(get_colors())\n",
    ")\n",
    "hatches = [\"////\",\"...\",\"////\",\"////\",\"////\",\"////\",\"////\",\"////\",\"////\",\"////\",\"////\",\"////\"]\n",
    "\n",
    "# Loop over the bars\n",
    "for i,thisbar in enumerate(ax.patches):\n",
    "    # Set a different hatch for each bar\n",
    "#     print(i)\n",
    "    thisbar.set_hatch(hatches[i])\n",
    "    \n",
    "for i,thisbar in enumerate(ax2.patches):\n",
    "    # Set a different hatch for each bar\n",
    "#     print(i)\n",
    "    thisbar.set_hatch(hatches[i])\n",
    "\n",
    "# ax.legend(fontsize=20)\n",
    "ax.set_ylabel('Number of retraining',fontsize=20);\n",
    "ax.set_xlabel('Method',fontsize=20);\n",
    "\n",
    "ax2.set_ylabel('Retraining time',fontsize=20);\n",
    "ax2.set_xlabel('Method',fontsize=20);\n",
    "# ax.set_ylim([0.65, 0.87])"
   ]
  },
  {
   "cell_type": "code",
   "execution_count": 152,
   "metadata": {},
   "outputs": [
    {
     "data": {
      "image/png": "[encoded data removed]",
      "text/plain": [
       "<Figure size 432x72 with 1 Axes>"
      ]
     },
     "metadata": {
      "needs_background": "light"
     },
     "output_type": "display_data"
    }
   ],
   "source": [
    "sns.palplot(get_colors())"
   ]
  },
  {
   "cell_type": "code",
   "execution_count": 39,
   "metadata": {},
   "outputs": [],
   "source": [
    "dataset = 'cifar10'\n",
    "model = 'resnet32'\n",
    "new_clf = fetch_tf_model(dataset, model)\n",
    "acc = new_clf.evaluate(scale_by_instance(X_test), y_test, batch_size=128, verbose=0)[1]\n",
    "\n",
    "# new_clf.fit(scale_by_instance(X_c[_]), y_test, batch_size=128, epochs = 5)"
   ]
  },
  {
   "cell_type": "code",
   "execution_count": 155,
   "metadata": {},
   "outputs": [],
   "source": [
    "def get_colors():\n",
    "    return np.array([\n",
    "        [0.1, 0.1, 0.1],          # black\n",
    "         [0.7, 0.7, 0.7],          # dark gray\n",
    "        [1, 1, 0.9],               # light yellow\n",
    "        [0.984375, 0.7265625, 0], # dark yellow\n",
    "        [0.4, 0.4, 0.4],          # very dark gray\n",
    "       \n",
    "        [0.9, 0.9, 0.9],          # light gray\n",
    "        \n",
    "        \n",
    "    ])"
   ]
  },
  {
   "cell_type": "code",
   "execution_count": 41,
   "metadata": {},
   "outputs": [
    {
     "name": "stdout",
     "output_type": "stream",
     "text": [
      "Test set accuracy:\n",
      "Original 0.9000\n",
      "Drift? Yes!\n",
      "Corruption type: gaussian_noise\n",
      "Drift? No!\n",
      "Corruption type: motion_blur\n",
      "Drift? Yes!\n",
      "Corruption type: brightness\n",
      "Drift? No!\n",
      "Corruption type: pixelate\n",
      "1020\n",
      "*** Acc for all : 0.49803921580314636\n",
      "8/8 [==============================] - 8s 941ms/step - loss: 2.4388 - sparse_categorical_accuracy: 0.5863\n",
      "KS drift\n",
      " Iter : 0\n",
      "Test set accuracy:\n",
      "Original 0.8500\n",
      "Drift? Yes!\n",
      "Corruption type: gaussian_noise\n",
      "Drift? No!\n",
      "Corruption type: motion_blur\n",
      "Drift? Yes!\n",
      "Corruption type: brightness\n",
      "Drift? No!\n",
      "Corruption type: pixelate\n",
      "1020\n",
      "*** Acc for all : 0.5343137383460999\n",
      "8/8 [==============================] - 7s 933ms/step - loss: 1.4975 - sparse_categorical_accuracy: 0.6833\n",
      "KS drift\n",
      " Iter : 1\n",
      "Test set accuracy:\n",
      "Original 0.8500\n",
      "Drift? No!\n",
      "Corruption type: gaussian_noise\n",
      "Drift? Yes!\n",
      "Corruption type: motion_blur\n",
      "Drift? Yes!\n",
      "Corruption type: brightness\n",
      "Drift? Yes!\n",
      "Corruption type: pixelate\n",
      "1020\n",
      "*** Acc for all : 0.522549033164978\n",
      "8/8 [==============================] - 8s 979ms/step - loss: 1.4450 - sparse_categorical_accuracy: 0.6912\n",
      "KS drift\n",
      " Iter : 2\n",
      "Test set accuracy:\n",
      "Original 0.9000\n",
      "Drift? Yes!\n",
      "Corruption type: gaussian_noise\n",
      "Drift? Yes!\n",
      "Corruption type: motion_blur\n",
      "Drift? Yes!\n",
      "Corruption type: brightness\n",
      "Drift? No!\n",
      "Corruption type: pixelate\n",
      "1020\n",
      "*** Acc for all : 0.5333333611488342\n",
      "8/8 [==============================] - 8s 988ms/step - loss: 1.0367 - sparse_categorical_accuracy: 0.7618\n",
      "KS drift\n",
      " Iter : 3\n",
      "Test set accuracy:\n",
      "Original 1.0000\n",
      "Drift? No!\n",
      "Corruption type: gaussian_noise\n",
      "Drift? Yes!\n",
      "Corruption type: motion_blur\n",
      "Drift? Yes!\n",
      "Corruption type: brightness\n",
      "Drift? No!\n",
      "Corruption type: pixelate\n",
      "1020\n",
      "*** Acc for all : 0.550000011920929\n",
      "8/8 [==============================] - 8s 947ms/step - loss: 1.0414 - sparse_categorical_accuracy: 0.7618\n",
      "KS drift\n",
      " Iter : 4\n",
      "******** for 250\n",
      "**************KS: 5\n",
      "**************exec KS: [374, 399, 376, 461, 367]\n",
      "*** Acc for all : 0.550000011920929\n"
     ]
    }
   ],
   "source": [
    "#### retrain\n",
    "\n",
    "##### continous loop for detecting drift using various methods (MMD, KS)\n",
    "import random\n",
    "import time\n",
    "current_milli_time = lambda: int(round(time.time() * 1000))\n",
    "\n",
    "counter_mmd = 0\n",
    "counter_ks = 0\n",
    "orig_set_size = 20\n",
    "corrupted_set_size = 1000\n",
    "\n",
    "exec_times = {\"KS\": [], \"MMD\": []}\n",
    "drifter_acc = {\"KS\": 0, \"MMD\": 0}\n",
    "accuracy_by_time = []\n",
    "accuracy_new_time = []\n",
    "for corrupted_set_size in [250]:\n",
    "    exec_times = {\"KS\": [], \"MMD\": []}\n",
    "    drifter_acc = {\"KS\": 0, \"MMD\": 0}\n",
    "    accuracy_by_time = []\n",
    "    for i in range(0,5):\n",
    "\n",
    "        ## select randomly from orig\n",
    "        idx = np.random.randint(10000, size=orig_set_size)\n",
    "        acc = clf.evaluate(scale_by_instance(X_test[idx]), y_test[idx], batch_size=128, verbose=0)[1]\n",
    "        temp = X_test[idx]\n",
    "        temp_y = y_test[idx]\n",
    "        print('Test set accuracy:')\n",
    "        print('Original {:.4f}'.format(acc))\n",
    "        clf_accuracy_loop = {'original': acc}\n",
    "        for x, c in zip(X_c, corruption):\n",
    "            idx = np.random.randint(10000, size=corrupted_set_size)\n",
    "    #         print(\"idx\",idx)\n",
    "            preds = cd.predict(x[idx], return_p_val=True)\n",
    "            acc = clf.evaluate(scale_by_instance(x[idx]), y_test[idx], batch_size=128, verbose=0)[1]\n",
    "            print('Drift? {}'.format(labels[preds['data']['is_drift']]))\n",
    "            print(f'Corruption type: {c}')\n",
    "\n",
    "            temp = np.concatenate((temp, x[idx]), axis=0)\n",
    "            temp_y = np.concatenate((temp_y, y_test[idx]), axis=0)\n",
    "\n",
    "        print(len(temp))\n",
    "        acc_new = new_clf.evaluate(scale_by_instance(temp), temp_y, batch_size=128, verbose=0)[1]\n",
    "        accuracy_new_time.append(acc_new)\n",
    "        acc = clf.evaluate(scale_by_instance(temp), temp_y, batch_size=128, verbose=0)[1]\n",
    "        accuracy_by_time.append(acc)\n",
    "        print(f\"*** Acc for all : {acc}\")\n",
    "        new_clf.fit(scale_by_instance(temp), temp_y, batch_size=128, epochs = 1)\n",
    "        \n",
    "    \n",
    "        \n",
    "\n",
    "    #         begin_time = current_milli_time()\n",
    "    #         preds_mmd = cd_mmd.predict(temp, return_p_val=True)\n",
    "    #         end_time = current_milli_time()\n",
    "    #         exec_times[\"MMD\"].append(end_time - begin_time)\n",
    "\n",
    "        begin_time = current_milli_time()\n",
    "        preds_ks = cd.predict(temp, return_p_val=True)\n",
    "        end_time = current_milli_time()\n",
    "        exec_times[\"KS\"].append(end_time - begin_time)\n",
    "\n",
    "    #     labels = ['No!', 'Yes!']\n",
    "    #     print('Drift? {}'.format(labels[preds_temp['data']['is_drift']]))\n",
    "    #         if preds_mmd['data']['is_drift']:\n",
    "    #             drifter_acc[\"MMD\"] = drifter_acc[\"MMD\"] + 1\n",
    "    #             print(\"MMD drift\")\n",
    "        if preds_ks['data']['is_drift']:\n",
    "            drifter_acc[\"KS\"] = drifter_acc[\"KS\"] + 1 \n",
    "            print(\"KS drift\")\n",
    "        print(f\" Iter : {i}\")\n",
    "    print(f\"******** for {corrupted_set_size}\")\n",
    "    print(f\"**************KS: {drifter_acc['KS']}\")\n",
    "    #     print(f\"MMD: {drifter_acc['MMD']}\")\n",
    "    print(f\"**************exec KS: {exec_times['KS']}\")\n",
    "    print(f\"*** Acc for all : {acc}\")\n",
    "    #     print(f\"exec MMD: {exec_times['MMD']}\")"
   ]
  },
  {
   "cell_type": "code",
   "execution_count": null,
   "metadata": {},
   "outputs": [],
   "source": []
  },
  {
   "cell_type": "code",
   "execution_count": 42,
   "metadata": {},
   "outputs": [
    {
     "name": "stdout",
     "output_type": "stream",
     "text": [
      "[0.49803921580314636, 0.5343137383460999, 0.522549033164978, 0.5333333611488342, 0.550000011920929]\n",
      "[0.49803921580314636, 0.5794117450714111, 0.5666666626930237, 0.6078431606292725, 0.6098039150238037]\n"
     ]
    }
   ],
   "source": [
    "print(accuracy_by_time)\n",
    "print(accuracy_new_time)\n",
    "\n",
    "# plt.plot(np.cumsum(np.random.randn(1000,1)))\n",
    "# plt.show()"
   ]
  },
  {
   "cell_type": "markdown",
   "metadata": {},
   "source": [
    "#### BBSDs\n",
    "\n",
    "For **BBSDs**, we use the classifier's softmax outputs for black-box shift detection. This method is based on [Detecting and Correcting for Label Shift with Black Box Predictors](https://arxiv.org/abs/1802.03916). The ResNet classifier is trained on data standardised by instance so we need to rescale the data."
   ]
  },
  {
   "cell_type": "code",
   "execution_count": 15,
   "metadata": {},
   "outputs": [],
   "source": [
    "X_train = scale_by_instance(X_train)\n",
    "X_test = scale_by_instance(X_test)\n",
    "for i in range(n_corr):\n",
    "    X_c[i] = scale_by_instance(X_c[i])\n",
    "X_ref = scale_by_instance(X_ref)\n",
    "X_h0 = scale_by_instance(X_h0)"
   ]
  },
  {
   "cell_type": "markdown",
   "metadata": {},
   "source": [
    "Initialisation of the drift detector. Here we use the output of the softmax layer to detect the drift, but other hidden layers can be extracted as well by setting *'layer'* to the index of the desired hidden layer in the model:"
   ]
  },
  {
   "cell_type": "code",
   "execution_count": 16,
   "metadata": {},
   "outputs": [],
   "source": [
    "# use output softmax layer\n",
    "preprocess_kwargs = {'model': HiddenOutput(model=clf, layer=-1), 'batch_size': 128}\n",
    "\n",
    "p_val = .05\n",
    "cd = KSDrift(\n",
    "    p_val=p_val,\n",
    "    X_ref=X_ref,\n",
    "    preprocess_kwargs=preprocess_kwargs\n",
    ")"
   ]
  },
  {
   "cell_type": "markdown",
   "metadata": {},
   "source": [
    "Again we can see that the p-value used by the detector for the multivariate data with 10 features (number of CIFAR-10 classes) is equal to *p_val / 10* because of the [Bonferroni correction](https://mathworld.wolfram.com/BonferroniCorrection.html)."
   ]
  },
  {
   "cell_type": "code",
   "execution_count": 17,
   "metadata": {},
   "outputs": [],
   "source": [
    "assert cd.p_val / cd.n_features == p_val / 10"
   ]
  },
  {
   "cell_type": "markdown",
   "metadata": {},
   "source": [
    "There is no drift on the original held out test set:"
   ]
  },
  {
   "cell_type": "code",
   "execution_count": 18,
   "metadata": {},
   "outputs": [
    {
     "name": "stdout",
     "output_type": "stream",
     "text": [
      "Drift? No!\n",
      "[0.11774229 0.52796143 0.19387017 0.20236294 0.496191   0.72781175\n",
      " 0.12345381 0.420929   0.8367454  0.7604178 ]\n"
     ]
    }
   ],
   "source": [
    "preds_h0 = cd.predict(X_h0)\n",
    "print('Drift? {}'.format(labels[preds_h0['data']['is_drift']]))\n",
    "print(preds_h0['data']['p_val'])"
   ]
  },
  {
   "cell_type": "markdown",
   "metadata": {},
   "source": [
    "We compare this with the perturbed data:"
   ]
  },
  {
   "cell_type": "code",
   "execution_count": 19,
   "metadata": {},
   "outputs": [
    {
     "name": "stdout",
     "output_type": "stream",
     "text": [
      "Corruption type: gaussian_noise\n",
      "Drift? Yes!\n",
      "Feature-wise p-values:\n",
      "[0. 0. 0. 0. 0. 0. 0. 0. 0. 0.]\n",
      "\n",
      "Corruption type: motion_blur\n",
      "Drift? Yes!\n",
      "Feature-wise p-values:\n",
      "[0. 0. 0. 0. 0. 0. 0. 0. 0. 0.]\n",
      "\n",
      "Corruption type: brightness\n",
      "Drift? Yes!\n",
      "Feature-wise p-values:\n",
      "[0.0000000e+00 4.2024049e-15 2.8963613e-33 4.8499879e-07 2.3718185e-15\n",
      " 1.2473309e-05 2.9714003e-30 1.0611427e-09 4.6048109e-12 4.1857830e-17]\n",
      "\n",
      "Corruption type: pixelate\n",
      "Drift? Yes!\n",
      "Feature-wise p-values:\n",
      "[0. 0. 0. 0. 0. 0. 0. 0. 0. 0.]\n",
      "\n"
     ]
    }
   ],
   "source": [
    "for x, c in zip(X_c, corruption):\n",
    "    preds = cd.predict(x)\n",
    "    print(f'Corruption type: {c}')\n",
    "    print('Drift? {}'.format(labels[preds['data']['is_drift']]))\n",
    "    print('Feature-wise p-values:')\n",
    "    print(preds['data']['p_val'])\n",
    "    print('')"
   ]
  },
  {
   "cell_type": "markdown",
   "metadata": {},
   "source": [
    "### Label drift\n",
    "\n",
    "We can also check what happens when we introduce class imbalances between the reference data *X_ref* and the tested data *X_imb*. The reference data will use $75$% of the instances of the first 5 classes and only $25$% of the last 5. The data used for drift testing then uses respectively $25$% and $75$% of the test instances for the first and last 5 classes."
   ]
  },
  {
   "cell_type": "code",
   "execution_count": 20,
   "metadata": {},
   "outputs": [
    {
     "name": "stdout",
     "output_type": "stream",
     "text": [
      "(5000, 32, 32, 3) (5000, 32, 32, 3) (5000,)\n"
     ]
    }
   ],
   "source": [
    "np.random.seed(0)\n",
    "# get index for each class in the test set\n",
    "num_classes = len(np.unique(y_test))\n",
    "idx_by_class = [np.where(y_test == c)[0] for c in range(num_classes)]\n",
    "# sample imbalanced data for different classes for X_ref and X_imb\n",
    "perc_ref = .75\n",
    "perc_ref_by_class = [perc_ref if c < 5 else 1 - perc_ref for c in range(num_classes)]\n",
    "n_by_class = n_test // num_classes\n",
    "X_ref = []\n",
    "X_imb, y_imb = [], []\n",
    "for _ in range(num_classes):\n",
    "    idx_class_ref = np.random.choice(n_by_class, size=int(perc_ref_by_class[_] * n_by_class), replace=False)\n",
    "    idx_ref = idx_by_class[_][idx_class_ref]\n",
    "    idx_class_imb = np.delete(np.arange(n_by_class), idx_class_ref, axis=0)\n",
    "    idx_imb = idx_by_class[_][idx_class_imb]\n",
    "    assert idx_ref != idx_imb\n",
    "    X_ref.append(X_test[idx_ref])\n",
    "    X_imb.append(X_test[idx_imb])\n",
    "    y_imb.append(y_test[idx_imb])\n",
    "X_ref = np.concatenate(X_ref)\n",
    "X_imb = np.concatenate(X_imb)\n",
    "y_imb = np.concatenate(y_imb)\n",
    "print(X_ref.shape, X_imb.shape, y_imb.shape)"
   ]
  },
  {
   "cell_type": "markdown",
   "metadata": {},
   "source": [
    "Update reference dataset for the detector and make predictions. Note that we store the preprocessed reference data since the `preprocess_X_ref` kwarg is by default True:"
   ]
  },
  {
   "cell_type": "code",
   "execution_count": 21,
   "metadata": {},
   "outputs": [],
   "source": [
    "cd.X_ref = cd.preprocess_fn(X_ref)"
   ]
  },
  {
   "cell_type": "code",
   "execution_count": 22,
   "metadata": {},
   "outputs": [
    {
     "name": "stdout",
     "output_type": "stream",
     "text": [
      "Drift? Yes!\n",
      "[6.10830360e-20 1.32319470e-20 7.62410424e-29 1.05537245e-17\n",
      " 7.68910424e-23 1.57479264e-15 5.77457112e-19 1.94419707e-20\n",
      " 5.02102509e-21 4.13147353e-21]\n"
     ]
    }
   ],
   "source": [
    "preds_imb = cd.predict(X_imb)\n",
    "print('Drift? {}'.format(labels[preds_imb['data']['is_drift']]))\n",
    "print(preds_imb['data']['p_val'])"
   ]
  },
  {
   "cell_type": "markdown",
   "metadata": {},
   "source": [
    "### Update reference data\n",
    "\n",
    "So far we have kept the reference data the same throughout the experiments. It is possible however that we want to test a new batch against the last *N* instances or against a batch of instances of fixed size where we give each instance we have seen up until now the same chance of being in the reference batch ([reservoir sampling](https://en.wikipedia.org/wiki/Reservoir_sampling)). The `update_X_ref` argument allows you to change the reference data update rule. It is a Dict which takes as key the update rule (*'last'* for last *N* instances or *'reservoir_sampling'*) and as value the batch size *N* of the reference data. You can also save the detector after the prediction calls to save the updated reference data."
   ]
  },
  {
   "cell_type": "code",
   "execution_count": 23,
   "metadata": {},
   "outputs": [],
   "source": [
    "N = 7500\n",
    "cd = KSDrift(\n",
    "    p_val=.05,\n",
    "    X_ref=X_ref,\n",
    "    update_X_ref={'reservoir_sampling': N},\n",
    "    preprocess_kwargs=preprocess_kwargs\n",
    ")"
   ]
  },
  {
   "cell_type": "markdown",
   "metadata": {},
   "source": [
    "The reference data is now updated with each `predict` call. Say we start with our imbalanced reference set and make a prediction on the remaining test set data *X_imb*, then the drift detector will figure out data drift has occurred."
   ]
  },
  {
   "cell_type": "code",
   "execution_count": 24,
   "metadata": {},
   "outputs": [
    {
     "name": "stdout",
     "output_type": "stream",
     "text": [
      "Drift? Yes!\n"
     ]
    }
   ],
   "source": [
    "preds_imb = cd.predict(X_imb)\n",
    "print('Drift? {}'.format(labels[preds_imb['data']['is_drift']]))"
   ]
  },
  {
   "cell_type": "markdown",
   "metadata": {},
   "source": [
    "We can now see that the reference data consists of *N* instances, obtained through reservoir sampling."
   ]
  },
  {
   "cell_type": "code",
   "execution_count": 25,
   "metadata": {},
   "outputs": [],
   "source": [
    "assert cd.X_ref.shape[0] == N"
   ]
  },
  {
   "cell_type": "markdown",
   "metadata": {},
   "source": [
    "We then draw a random sample from the training set and compare it with the updated reference data. This still highlights that there is data drift but will update the reference data again:"
   ]
  },
  {
   "cell_type": "code",
   "execution_count": 26,
   "metadata": {},
   "outputs": [],
   "source": [
    "np.random.seed(0)\n",
    "perc_train = .5\n",
    "n_train = X_train.shape[0]\n",
    "idx_train = np.random.choice(n_train, size=int(perc_train * n_train), replace=False)"
   ]
  },
  {
   "cell_type": "code",
   "execution_count": 27,
   "metadata": {},
   "outputs": [
    {
     "name": "stdout",
     "output_type": "stream",
     "text": [
      "Drift? Yes!\n"
     ]
    }
   ],
   "source": [
    "preds_train = cd.predict(X_train[idx_train])\n",
    "print('Drift? {}'.format(labels[preds_train['data']['is_drift']]))"
   ]
  },
  {
   "cell_type": "markdown",
   "metadata": {},
   "source": [
    "When we draw a new sample from the training set, it highlights that it is not drifting anymore against the reservoir in *X_ref*."
   ]
  },
  {
   "cell_type": "code",
   "execution_count": 28,
   "metadata": {},
   "outputs": [
    {
     "name": "stdout",
     "output_type": "stream",
     "text": [
      "Drift? No!\n"
     ]
    }
   ],
   "source": [
    "np.random.seed(1)\n",
    "perc_train = .1\n",
    "idx_train = np.random.choice(n_train, size=int(perc_train * n_train), replace=False)\n",
    "preds_train = cd.predict(X_train[idx_train])\n",
    "print('Drift? {}'.format(labels[preds_train['data']['is_drift']]))"
   ]
  },
  {
   "cell_type": "markdown",
   "metadata": {},
   "source": [
    "### Multivariate correction mechanism\n",
    "\n",
    "Instead of the Bonferroni correction for multivariate data, we can also use the less conservative [False Discovery Rate](http://www.math.tau.ac.il/~ybenja/MyPapers/benjamini_hochberg1995.pdf) (FDR) correction. See [here](https://riffyn.com/riffyn-blog/2017/10/29/false-discovery-rate) or [here](https://matthew-brett.github.io/teaching/fdr.html) for nice explanations. While the Bonferroni correction controls the probability of at least one false positive, the FDR correction controls for an expected amount of false positives. The `p_val` argument at initialisation time can be interpreted as the acceptable q-value when the FDR correction is applied."
   ]
  },
  {
   "cell_type": "code",
   "execution_count": 29,
   "metadata": {},
   "outputs": [
    {
     "name": "stdout",
     "output_type": "stream",
     "text": [
      "Drift? Yes!\n"
     ]
    }
   ],
   "source": [
    "cd = KSDrift(\n",
    "    p_val=.05,\n",
    "    correction='fdr',\n",
    "    X_ref=X_ref,\n",
    "    preprocess_kwargs=preprocess_kwargs\n",
    ")\n",
    "\n",
    "preds_imb = cd.predict(X_imb)\n",
    "print('Drift? {}'.format(labels[preds_imb['data']['is_drift']]))"
   ]
  },
  {
   "cell_type": "markdown",
   "metadata": {},
   "source": [
    "### Train vs. test set drift\n",
    "\n",
    "Let us do a last check and see whether there is data drift between the original train and test sets. We will use both the **BBSDs** and **Untrained AutoEncoder** preprocessing techniques. We start with BBSDs:"
   ]
  },
  {
   "cell_type": "code",
   "execution_count": 30,
   "metadata": {},
   "outputs": [
    {
     "name": "stdout",
     "output_type": "stream",
     "text": [
      "Drift? Yes!\n"
     ]
    }
   ],
   "source": [
    "cd = KSDrift(\n",
    "    p_val=.05,\n",
    "    X_ref=X_train,\n",
    "    preprocess_kwargs=preprocess_kwargs\n",
    ")\n",
    "\n",
    "preds_test = cd.predict(X_test)\n",
    "print('Drift? {}'.format(labels[preds_test['data']['is_drift']]))"
   ]
  },
  {
   "cell_type": "markdown",
   "metadata": {},
   "source": [
    "So when we use the softmax output of the classification model, we pick up drift. It is important to notice that this is drift with respect to the classifier output. This means that the detector picked up a difference between the distributions of the softmax probabilities of the model on the train and test sets.\n",
    "\n",
    "When we use the UAE to preprocess the data we do not care about the distribution of the labels being predicted and only take random projections of the input on the latent dimension into account."
   ]
  },
  {
   "cell_type": "code",
   "execution_count": 31,
   "metadata": {},
   "outputs": [
    {
     "name": "stdout",
     "output_type": "stream",
     "text": [
      "Drift? No!\n"
     ]
    }
   ],
   "source": [
    "cd = KSDrift(\n",
    "    p_val=.05,\n",
    "    X_ref=X_train,\n",
    "    preprocess_kwargs={'model': uae, 'batch_size': 128}\n",
    ")\n",
    "\n",
    "preds_test = cd.predict(X_test)\n",
    "print('Drift? {}'.format(labels[preds_test['data']['is_drift']]))"
   ]
  },
  {
   "cell_type": "markdown",
   "metadata": {},
   "source": [
    "The UAE detector does not pick up drift. This means that the input data of the classification model does not seem to drift between the train and test set, but the model output does!"
   ]
  },
  {
   "cell_type": "markdown",
   "metadata": {},
   "source": [
    "### Adversarial autoencoder as a malicious drift detector\n",
    "\n",
    "We can leverage the adversarial scores obtained from an [adversarial autoencoder](https://arxiv.org/abs/2002.09364)  trained on normal data and transform it into a data drift detector. The score function of the adversarial autoencoder becomes the preprocessing function for the drift detector. The K-S test is then a simple univariate test on the adversarial scores. Importantly, an adversarial drift detector flags **malicious data drift**. We can fetch the pretrained adversarial detector from a [Google Cloud Bucket](https://console.cloud.google.com/storage/browser/seldon-models/alibi-detect/ad/cifar10/resnet32) or train one from scratch:"
   ]
  },
  {
   "cell_type": "code",
   "execution_count": 32,
   "metadata": {},
   "outputs": [],
   "source": [
    "load_pretrained = True"
   ]
  },
  {
   "cell_type": "code",
   "execution_count": 33,
   "metadata": {
    "scrolled": true
   },
   "outputs": [
    {
     "name": "stderr",
     "output_type": "stream",
     "text": [
      "WARNING:alibi_detect.utils.fetching:Directory /home/avl/git/fork-alibi-detect/examples/my_path/base does not exist and is now created.\n"
     ]
    },
    {
     "name": "stdout",
     "output_type": "stream",
     "text": [
      "Downloading data from https://storage.googleapis.com/seldon-models/alibi-detect/ad/cifar10/resnet32/base/model/encoder_net.h5\n",
      "1867776/1862024 [==============================] - 0s 0us/step\n",
      "Downloading data from https://storage.googleapis.com/seldon-models/alibi-detect/ad/cifar10/resnet32/base/model/decoder_net.h5\n",
      "3522560/3514976 [==============================] - 0s 0us/step\n",
      "Downloading data from https://storage.googleapis.com/seldon-models/alibi-detect/ad/cifar10/resnet32/base/model/model.h5\n",
      "4300800/4295560 [==============================] - 0s 0us/step\n",
      "Downloading data from https://storage.googleapis.com/seldon-models/alibi-detect/ad/cifar10/resnet32/base/model/checkpoint\n",
      "8192/71 [=====================================================================================================================================================================================================================================================================================================================================================================================================================================================================================================================================================================================================================================================================================================================================================================================================================================================================================================================================================================================================================================================================================================================================================================================================================================================================================================================================================================================================================================================================================================================================================================================================================================================================================================================================================================================================================================================================================================================================================================================================================================================================================================================================================================================================================================================================================================================================================================================================================================================================================================================================================================================================================================================================================================================================================================================================================================================================================================================================================================================================================================================================================================================================================================================================================================================================================================================================================================================================================================================================================================================================================================================================] - 0s 0us/step\n",
      "Downloading data from https://storage.googleapis.com/seldon-models/alibi-detect/ad/cifar10/resnet32/base/model/ae.ckpt.index\n",
      "8192/1291 [==============================================================================================================================================================================================] - 0s 0us/step\n",
      "Downloading data from https://storage.googleapis.com/seldon-models/alibi-detect/ad/cifar10/resnet32/base/model/ae.ckpt.data-00000-of-00002\n",
      "8192/2462 [===================================================================================================] - 0s 0us/step\n",
      "Downloading data from https://storage.googleapis.com/seldon-models/alibi-detect/ad/cifar10/resnet32/base/model/ae.ckpt.data-00001-of-00002\n",
      "5341184/5337900 [==============================] - 0s 0us/step\n",
      "WARNING:tensorflow:No training configuration found in save file: the model was *not* compiled. Compile it manually.\n"
     ]
    },
    {
     "name": "stderr",
     "output_type": "stream",
     "text": [
      "WARNING:tensorflow:No training configuration found in save file: the model was *not* compiled. Compile it manually.\n"
     ]
    },
    {
     "name": "stdout",
     "output_type": "stream",
     "text": [
      "WARNING:tensorflow:No training configuration found in save file: the model was *not* compiled. Compile it manually.\n"
     ]
    },
    {
     "name": "stderr",
     "output_type": "stream",
     "text": [
      "WARNING:tensorflow:No training configuration found in save file: the model was *not* compiled. Compile it manually.\n"
     ]
    },
    {
     "name": "stdout",
     "output_type": "stream",
     "text": [
      "WARNING:tensorflow:Error in loading the saved optimizer state. As a result, your model is starting with a freshly initialized optimizer.\n"
     ]
    },
    {
     "name": "stderr",
     "output_type": "stream",
     "text": [
      "WARNING:tensorflow:Error in loading the saved optimizer state. As a result, your model is starting with a freshly initialized optimizer.\n",
      "WARNING:alibi_detect.ad.adversarialae:No threshold level set. Need to infer threshold using `infer_threshold`.\n"
     ]
    }
   ],
   "source": [
    "# change filepath to (absolute) directory where model is downloaded\n",
    "filepath = os.path.join(os.getcwd(), 'my_path')\n",
    "if load_pretrained:\n",
    "    detector_type = 'adversarial'\n",
    "    detector_name = 'base'\n",
    "    ad = fetch_detector(filepath, detector_type, dataset, detector_name, model=model)\n",
    "    filepath = os.path.join(filepath, detector_name)\n",
    "else:  # train detector from scratch\n",
    "    # define encoder and decoder networks\n",
    "    encoder_net = tf.keras.Sequential(\n",
    "            [\n",
    "                InputLayer(input_shape=(32, 32, 3)),\n",
    "                Conv2D(32, 4, strides=2, padding='same', \n",
    "                       activation=tf.nn.relu, kernel_regularizer=l1(1e-5)),\n",
    "                Conv2D(64, 4, strides=2, padding='same', \n",
    "                       activation=tf.nn.relu, kernel_regularizer=l1(1e-5)),\n",
    "                Conv2D(256, 4, strides=2, padding='same', \n",
    "                       activation=tf.nn.relu, kernel_regularizer=l1(1e-5)),\n",
    "                Flatten(),\n",
    "                Dense(40)\n",
    "            ]\n",
    "        )\n",
    "    \n",
    "    decoder_net = tf.keras.Sequential(\n",
    "        [\n",
    "                InputLayer(input_shape=(40,)),\n",
    "                Dense(4 * 4 * 128, activation=tf.nn.relu),\n",
    "                Reshape(target_shape=(4, 4, 128)),\n",
    "                Conv2DTranspose(256, 4, strides=2, padding='same', \n",
    "                                activation=tf.nn.relu, kernel_regularizer=l1(1e-5)),\n",
    "                Conv2DTranspose(64, 4, strides=2, padding='same', \n",
    "                                activation=tf.nn.relu, kernel_regularizer=l1(1e-5)),\n",
    "                Conv2DTranspose(3, 4, strides=2, padding='same', \n",
    "                                activation=None, kernel_regularizer=l1(1e-5))\n",
    "            ]\n",
    "        )\n",
    "    \n",
    "    # initialise and train detector\n",
    "    ad = AdversarialAE(\n",
    "        encoder_net=encoder_net, \n",
    "        decoder_net=decoder_net, \n",
    "        model=clf\n",
    "    )\n",
    "    ad.fit(X_train, epochs=50, batch_size=128, verbose=True)\n",
    "    \n",
    "    # save the trained adversarial detector\n",
    "    save_detector(ad, filepath)"
   ]
  },
  {
   "cell_type": "markdown",
   "metadata": {},
   "source": [
    "Initialise the drift detector:"
   ]
  },
  {
   "cell_type": "code",
   "execution_count": 34,
   "metadata": {},
   "outputs": [],
   "source": [
    "np.random.seed(0)\n",
    "idx = np.random.choice(n_test, size=n_test // 2, replace=False)\n",
    "X_ref = scale_by_instance(X_test[idx])\n",
    "\n",
    "cd = KSDrift(\n",
    "    p_val=.05,\n",
    "    X_ref=X_ref,\n",
    "    preprocess_fn=ad.score,  # adversarial score fn = preprocess step\n",
    "    preprocess_kwargs={'batch_size': 128}\n",
    ")"
   ]
  },
  {
   "cell_type": "markdown",
   "metadata": {},
   "source": [
    "Make drift predictions on the original test set and corrupted data:"
   ]
  },
  {
   "cell_type": "code",
   "execution_count": 35,
   "metadata": {},
   "outputs": [
    {
     "name": "stdout",
     "output_type": "stream",
     "text": [
      "H0: Accuracy 0.9286 -- Drift? No!\n",
      "imbalance: Accuracy 0.9282 -- Drift? No!\n",
      "gaussian_noise: Accuracy 0.2208 -- Drift? Yes!\n",
      "motion_blur: Accuracy 0.6339 -- Drift? Yes!\n",
      "brightness: Accuracy 0.8913 -- Drift? Yes!\n",
      "pixelate: Accuracy 0.3666 -- Drift? Yes!\n"
     ]
    }
   ],
   "source": [
    "clf_accuracy['h0'] = clf.evaluate(X_h0, y_h0, batch_size=128, verbose=0)[1]\n",
    "preds_h0 = cd.predict(X_h0)\n",
    "print('H0: Accuracy {:.4f} -- Drift? {}'.format(\n",
    "    clf_accuracy['h0'], labels[preds_h0['data']['is_drift']]))\n",
    "clf_accuracy['imb'] = clf.evaluate(X_imb, y_imb, batch_size=128, verbose=0)[1]\n",
    "preds_imb = cd.predict(X_imb)\n",
    "print('imbalance: Accuracy {:.4f} -- Drift? {}'.format(\n",
    "    clf_accuracy['imb'], labels[preds_imb['data']['is_drift']]))\n",
    "for x, c in zip(X_c, corruption):\n",
    "    preds = cd.predict(x)\n",
    "    print('{}: Accuracy {:.4f} -- Drift? {}'.format(\n",
    "        c, clf_accuracy[c],labels[preds['data']['is_drift']]))"
   ]
  },
  {
   "cell_type": "markdown",
   "metadata": {},
   "source": [
    "While *X_imb* clearly exhibits input data drift due to the introduced class imbalances, it is not flagged by the adversarial drift detector since the performance of the classifier is not affected and the drift is not malicious. We can visualise this by plotting the adversarial scores together with the harmfulness of the data corruption as reflected by the drop in classifier accuracy:"
   ]
  },
  {
   "cell_type": "code",
   "execution_count": 36,
   "metadata": {},
   "outputs": [],
   "source": [
    "adv_scores = {}\n",
    "score = ad.score(X_ref, batch_size=128)\n",
    "adv_scores['original'] = {'mean': score.mean(), 'std': score.std()}\n",
    "score = ad.score(X_h0, batch_size=128)\n",
    "adv_scores['h0'] = {'mean': score.mean(), 'std': score.std()}\n",
    "score = ad.score(X_imb, batch_size=128)\n",
    "adv_scores['imb'] = {'mean': score.mean(), 'std': score.std()}\n",
    "\n",
    "for x, c in zip(X_c, corruption):\n",
    "    score_x = ad.score(x, batch_size=128)\n",
    "    adv_scores[c] = {'mean': score_x.mean(), 'std': score_x.std()}"
   ]
  },
  {
   "cell_type": "code",
   "execution_count": 37,
   "metadata": {},
   "outputs": [
    {
     "data": {
      "image/png": "[encoded data removed]",
      "text/plain": [
       "<Figure size 432x288 with 2 Axes>"
      ]
     },
     "metadata": {
      "needs_background": "light"
     },
     "output_type": "display_data"
    }
   ],
   "source": [
    "mu = [v['mean'] for _, v in adv_scores.items()]\n",
    "stdev = [v['std'] for _, v in adv_scores.items()]\n",
    "xlabels = list(adv_scores.keys())\n",
    "acc = [clf_accuracy[label] for label in xlabels]\n",
    "xticks = np.arange(len(mu))\n",
    "\n",
    "width = .35\n",
    "\n",
    "fig, ax = plt.subplots()\n",
    "ax2 = ax.twinx()\n",
    "\n",
    "p1 = ax.bar(xticks, mu, width, yerr=stdev, capsize=2)\n",
    "color = 'tab:red'\n",
    "p2 = ax2.bar(xticks + width, acc, width, color=color)\n",
    "\n",
    "ax.set_title('Adversarial Scores and Accuracy by Corruption Type')\n",
    "ax.set_xticks(xticks + width / 2)\n",
    "ax.set_xticklabels(xlabels, rotation=45)\n",
    "ax.legend((p1[0], p2[0]), ('Score', 'Accuracy'), loc='upper right', ncol=2)\n",
    "ax.set_ylabel('Adversarial Score')\n",
    "\n",
    "color = 'tab:red'\n",
    "ax2.set_ylabel('Accuracy')\n",
    "ax2.set_ylim((-.26,1.2))\n",
    "ax.set_ylim((-2,9))\n",
    "\n",
    "plt.show()"
   ]
  },
  {
   "cell_type": "markdown",
   "metadata": {},
   "source": [
    "We can therefore **use the scores of the detector itself to quantify the harmfulness of the drift**! We can generalise this to all the corruptions at each severity level in CIFAR-10-C:"
   ]
  },
  {
   "cell_type": "code",
   "execution_count": 38,
   "metadata": {},
   "outputs": [],
   "source": [
    "def accuracy(y_true: np.ndarray, y_pred: np.ndarray) -> float:\n",
    "    return (y_true == y_pred).astype(int).sum() / y_true.shape[0]"
   ]
  },
  {
   "cell_type": "code",
   "execution_count": 39,
   "metadata": {},
   "outputs": [
    {
     "name": "stdout",
     "output_type": "stream",
     "text": [
      "\n",
      "Severity: 1 of 5\n",
      "Loading corrupted dataset...\n",
      "Preprocess data...\n",
      "Make predictions on corrupted dataset...\n",
      "Compute adversarial scores on corrupted dataset...\n",
      "Get labels for malicious corruptions...\n",
      "\n",
      "Severity: 2 of 5\n",
      "Loading corrupted dataset...\n",
      "Preprocess data...\n",
      "Make predictions on corrupted dataset...\n",
      "Compute adversarial scores on corrupted dataset...\n",
      "Get labels for malicious corruptions...\n",
      "\n",
      "Severity: 3 of 5\n",
      "Loading corrupted dataset...\n",
      "Preprocess data...\n",
      "Make predictions on corrupted dataset...\n",
      "Compute adversarial scores on corrupted dataset...\n",
      "Get labels for malicious corruptions...\n",
      "\n",
      "Severity: 4 of 5\n",
      "Loading corrupted dataset...\n",
      "Preprocess data...\n",
      "Make predictions on corrupted dataset...\n",
      "Compute adversarial scores on corrupted dataset...\n",
      "Get labels for malicious corruptions...\n",
      "\n",
      "Severity: 5 of 5\n",
      "Loading corrupted dataset...\n",
      "Preprocess data...\n",
      "Make predictions on corrupted dataset...\n",
      "Compute adversarial scores on corrupted dataset...\n",
      "Get labels for malicious corruptions...\n"
     ]
    }
   ],
   "source": [
    "severities = [1, 2, 3, 4, 5]\n",
    "\n",
    "score_drift = {\n",
    "    1: {'all': [], 'harm': [], 'noharm': [], 'acc': 0},\n",
    "    2: {'all': [], 'harm': [], 'noharm': [], 'acc': 0},\n",
    "    3: {'all': [], 'harm': [], 'noharm': [], 'acc': 0},\n",
    "    4: {'all': [], 'harm': [], 'noharm': [], 'acc': 0},\n",
    "    5: {'all': [], 'harm': [], 'noharm': [], 'acc': 0},\n",
    "}\n",
    "\n",
    "y_pred = predict_batch(clf, X_test, batch_size=256, return_class=True)\n",
    "score_x = ad.score(X_test, batch_size=256)\n",
    "\n",
    "for s in severities:\n",
    "    print('\\nSeverity: {} of {}'.format(s, len(severities)))\n",
    "    \n",
    "    print('Loading corrupted dataset...')\n",
    "    X_corr, y_corr = fetch_cifar10c(corruption=corruptions, severity=s, return_X_y=True)\n",
    "    X_corr = X_corr.astype('float32')\n",
    "    \n",
    "    print('Preprocess data...')\n",
    "    X_corr = scale_by_instance(X_corr)\n",
    "    \n",
    "    print('Make predictions on corrupted dataset...')\n",
    "    y_pred_corr = predict_batch(clf, X_corr, batch_size=256, return_class=True)\n",
    "    \n",
    "    print('Compute adversarial scores on corrupted dataset...')\n",
    "    score_corr = ad.score(X_corr, batch_size=256)\n",
    "    \n",
    "    print('Get labels for malicious corruptions...')\n",
    "    labels_corr = np.zeros(score_corr.shape[0])\n",
    "    repeat = y_corr.shape[0] // y_test.shape[0]\n",
    "    y_pred_repeat = np.tile(y_pred, (repeat,))\n",
    "    # malicious/harmful corruption: original prediction correct but \n",
    "    # prediction on corrupted data incorrect\n",
    "    idx_orig_right = np.where(y_pred_repeat == y_corr)[0]\n",
    "    idx_corr_wrong = np.where(y_pred_corr != y_corr)[0]\n",
    "    idx_harmful = np.intersect1d(idx_orig_right, idx_corr_wrong)\n",
    "    labels_corr[idx_harmful] = 1\n",
    "    labels = np.concatenate([np.zeros(X_test.shape[0]), labels_corr]).astype(int)\n",
    "    # harmless corruption: original prediction correct and prediction\n",
    "    # on corrupted data correct\n",
    "    idx_corr_right = np.where(y_pred_corr == y_corr)[0]\n",
    "    idx_harmless = np.intersect1d(idx_orig_right, idx_corr_right)\n",
    "    \n",
    "    score_drift[s]['all'] = score_corr\n",
    "    score_drift[s]['harm'] = score_corr[idx_harmful]\n",
    "    score_drift[s]['noharm'] = score_corr[idx_harmless]\n",
    "    score_drift[s]['acc'] = accuracy(y_corr, y_pred_corr)"
   ]
  },
  {
   "cell_type": "markdown",
   "metadata": {},
   "source": [
    "We now compute mean scores and standard deviations per severity level and plot the results. The plot shows the mean adversarial scores (lhs) and ResNet-32 accuracies (rhs) for increasing data corruption severity levels. Level 0 corresponds to the original test set. Harmful scores  are scores from instances which have been flipped from the correct to an incorrect prediction because of the corruption. Not harmful means that the prediction was unchanged after the corruption."
   ]
  },
  {
   "cell_type": "code",
   "execution_count": 40,
   "metadata": {},
   "outputs": [],
   "source": [
    "mu_noharm, std_noharm = [], []\n",
    "mu_harm, std_harm = [], []\n",
    "acc = [clf_accuracy['original']]\n",
    "for k, v in score_drift.items():\n",
    "    mu_noharm.append(v['noharm'].mean())\n",
    "    std_noharm.append(v['noharm'].std())\n",
    "    mu_harm.append(v['harm'].mean())\n",
    "    std_harm.append(v['harm'].std())\n",
    "    acc.append(v['acc'])"
   ]
  },
  {
   "cell_type": "code",
   "execution_count": 41,
   "metadata": {},
   "outputs": [
    {
     "data": {
      "image/png": "[encoded data removed]",
      "text/plain": [
       "<Figure size 432x288 with 2 Axes>"
      ]
     },
     "metadata": {
      "needs_background": "light"
     },
     "output_type": "display_data"
    }
   ],
   "source": [
    "plot_labels = ['0', '1', '2', '3', '4', '5']\n",
    "\n",
    "N = 6\n",
    "ind = np.arange(N)\n",
    "width = .35\n",
    "\n",
    "fig_bar_cd, ax = plt.subplots()\n",
    "ax2 = ax.twinx()\n",
    "\n",
    "p0 = ax.bar(ind[0], score_x.mean(), yerr=score_x.std(), capsize=2)\n",
    "p1 = ax.bar(ind[1:], mu_noharm, width, yerr=std_noharm, capsize=2)\n",
    "p2 = ax.bar(ind[1:] + width, mu_harm, width, yerr=std_harm, capsize=2)\n",
    "\n",
    "ax.set_title('Adversarial Scores and Accuracy by Corruption Severity')\n",
    "ax.set_xticks(ind + width / 2)\n",
    "ax.set_xticklabels(plot_labels)\n",
    "ax.set_ylim((-1,6))\n",
    "ax.legend((p1[0], p2[0]), ('Not Harmful', 'Harmful'), loc='upper right', ncol=2)\n",
    "ax.set_ylabel('Score')\n",
    "ax.set_xlabel('Corruption Severity')\n",
    "\n",
    "color = 'tab:red'\n",
    "ax2.set_ylabel('Accuracy', color=color)\n",
    "ax2.plot(acc, color=color)\n",
    "ax2.tick_params(axis='y', labelcolor=color)\n",
    "\n",
    "plt.show()"
   ]
  }
 ],
 "metadata": {
  "kernelspec": {
   "display_name": "Python 3.7.6 64-bit ('base': conda)",
   "language": "python",
   "name": "python37664bitbaseconda15d24054bb054f9cb80d270846c6fc83"
  },
  "language_info": {
   "codemirror_mode": {
    "name": "ipython",
    "version": 3
   },
   "file_extension": ".py",
   "mimetype": "text/x-python",
   "name": "python",
   "nbconvert_exporter": "python",
   "pygments_lexer": "ipython3",
   "version": "3.7.6"
  }
 },
 "nbformat": 4,
 "nbformat_minor": 4
}
