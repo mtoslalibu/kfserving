{
 "cells": [
  {
   "cell_type": "markdown",
   "metadata": {},
   "source": [
    "# Maximum Mean Discrepancy drift detector on CIFAR-10\n",
    "\n",
    "### Method\n",
    "\n",
    "The [Maximum Mean Discrepancy (MMD)](http://jmlr.csail.mit.edu/papers/v13/gretton12a.html) detector is a kernel-based method for multivariate 2 sample testing. The MMD is a distance-based measure between 2 distributions *p* and *q* based on the mean embeddings $\\mu_{p}$ and $\\mu_{q}$ in a reproducing kernel Hilbert space $F$:\n",
    "\n",
    "\\begin{align}\n",
    "MMD(F, p, q) & = || \\mu_{p} - \\mu_{q} ||^2_{F} \\\\\n",
    "\\end{align}\n",
    "\n",
    "We can compute unbiased estimates of $MMD^2$ from the samples of the 2 distributions after applying the kernel trick. We use by default a [radial basis function kernel](https://en.wikipedia.org/wiki/Radial_basis_function_kernel), but users are free to pass their own kernel of preference to the detector. We obtain a $p$-value via a [permutation test](https://en.wikipedia.org/wiki/Resampling_(statistics)) on the values of $MMD^2$. This method is also described in [Failing Loudly: An Empirical Study of Methods for Detecting Dataset Shift](https://arxiv.org/abs/1810.11953).\n",
    "\n",
    "### Dataset\n",
    "\n",
    "[CIFAR10](https://www.cs.toronto.edu/~kriz/cifar.html) consists of 60,000 32 by 32 RGB images equally distributed over 10 classes. We evaluate the drift detector on the CIFAR-10-C dataset ([Hendrycks & Dietterich, 2019](https://arxiv.org/abs/1903.12261)). The instances in\n",
    "CIFAR-10-C have been corrupted and perturbed by various types of noise, blur, brightness etc. at different levels of severity, leading to a gradual decline in the classification model performance. We also check for drift against the original test set with class imbalances. "
   ]
  },
  {
   "cell_type": "code",
   "execution_count": 1,
   "metadata": {},
   "outputs": [],
   "source": [
    "import matplotlib.pyplot as plt\n",
    "import os\n",
    "import numpy as np\n",
    "import tensorflow as tf\n",
    "from tensorflow.keras.layers import Conv2D, Dense, Flatten, InputLayer, Reshape\n",
    "\n",
    "from alibi_detect.cd import MMDDrift\n",
    "from alibi_detect.cd.preprocess import UAE, HiddenOutput\n",
    "from alibi_detect.models.resnet import scale_by_instance\n",
    "from alibi_detect.utils.fetching import fetch_tf_model\n",
    "from alibi_detect.utils.kernels import gaussian_kernel\n",
    "from alibi_detect.utils.prediction import predict_batch\n",
    "from alibi_detect.utils.saving import save_detector, load_detector\n",
    "from alibi_detect.datasets import fetch_cifar10c, corruption_types_cifar10c"
   ]
  },
  {
   "cell_type": "markdown",
   "metadata": {},
   "source": [
    "### Load data\n",
    "\n",
    "Original CIFAR-10 data:"
   ]
  },
  {
   "cell_type": "code",
   "execution_count": 2,
   "metadata": {},
   "outputs": [],
   "source": [
    "(X_train, y_train), (X_test, y_test) = tf.keras.datasets.cifar10.load_data()\n",
    "X_train = X_train.astype('float32') / 255\n",
    "X_test = X_test.astype('float32') / 255\n",
    "y_train = y_train.astype('int64').reshape(-1,)\n",
    "y_test = y_test.astype('int64').reshape(-1,)"
   ]
  },
  {
   "cell_type": "markdown",
   "metadata": {},
   "source": [
    "For CIFAR-10-C, we can select from the following corruption types at 5 severity levels:"
   ]
  },
  {
   "cell_type": "code",
   "execution_count": 3,
   "metadata": {},
   "outputs": [
    {
     "name": "stdout",
     "output_type": "stream",
     "text": [
      "['brightness', 'contrast', 'defocus_blur', 'elastic_transform', 'fog', 'frost', 'gaussian_blur', 'gaussian_noise', 'glass_blur', 'impulse_noise', 'jpeg_compression', 'motion_blur', 'pixelate', 'saturate', 'shot_noise', 'snow', 'spatter', 'speckle_noise', 'zoom_blur']\n"
     ]
    }
   ],
   "source": [
    "corruptions = corruption_types_cifar10c()\n",
    "print(corruptions)"
   ]
  },
  {
   "cell_type": "markdown",
   "metadata": {},
   "source": [
    "Let's pick a subset of the corruptions at corruption level 5. Each corruption type consists of perturbations on all of the original test set images."
   ]
  },
  {
   "cell_type": "code",
   "execution_count": 4,
   "metadata": {},
   "outputs": [],
   "source": [
    "corruption = ['gaussian_noise', 'motion_blur', 'brightness', 'pixelate']\n",
    "X_corr, y_corr = fetch_cifar10c(corruption=corruption, severity=5, return_X_y=True)\n",
    "X_corr = X_corr.astype('float32') / 255"
   ]
  },
  {
   "cell_type": "markdown",
   "metadata": {},
   "source": [
    "We split the original test set in a reference dataset and a dataset which should not be rejected under the *H<sub>0</sub>* of the MMD test. We also split the corrupted data by corruption type:"
   ]
  },
  {
   "cell_type": "code",
   "execution_count": 5,
   "metadata": {},
   "outputs": [
    {
     "name": "stdout",
     "output_type": "stream",
     "text": [
      "(5000, 32, 32, 3) (5000, 32, 32, 3)\n"
     ]
    }
   ],
   "source": [
    "np.random.seed(0)\n",
    "n_test = X_test.shape[0]\n",
    "idx = np.random.choice(n_test, size=n_test // 2, replace=False)\n",
    "idx_h0 = np.delete(np.arange(n_test), idx, axis=0)\n",
    "X_ref,y_ref = X_test[idx], y_test[idx]\n",
    "X_h0, y_h0 = X_test[idx_h0], y_test[idx_h0]\n",
    "print(X_ref.shape, X_h0.shape)"
   ]
  },
  {
   "cell_type": "code",
   "execution_count": 6,
   "metadata": {},
   "outputs": [
    {
     "name": "stdout",
     "output_type": "stream",
     "text": [
      "Class Ref H0\n",
      "0     472 528\n",
      "1     510 490\n",
      "2     498 502\n",
      "3     492 508\n",
      "4     501 499\n",
      "5     495 505\n",
      "6     493 507\n",
      "7     501 499\n",
      "8     516 484\n",
      "9     522 478\n"
     ]
    }
   ],
   "source": [
    "# check that the classes are more or less balanced\n",
    "classes, counts_ref = np.unique(y_ref, return_counts=True)\n",
    "counts_h0 = np.unique(y_h0, return_counts=True)[1]\n",
    "print('Class Ref H0')\n",
    "for cl, cref, ch0 in zip(classes, counts_ref, counts_h0):\n",
    "    assert cref + ch0 == n_test // 10\n",
    "    print('{}     {} {}'.format(cl, cref, ch0))"
   ]
  },
  {
   "cell_type": "code",
   "execution_count": 7,
   "metadata": {},
   "outputs": [],
   "source": [
    "X_c = []\n",
    "n_corr = len(corruption)\n",
    "for i in range(n_corr):\n",
    "    X_c.append(X_corr[i * n_test:(i + 1) * n_test])"
   ]
  },
  {
   "cell_type": "markdown",
   "metadata": {},
   "source": [
    "We can visualise the same instance for each corruption type:"
   ]
  },
  {
   "cell_type": "code",
   "execution_count": 8,
   "metadata": {
    "tags": [
     "hide_input"
    ]
   },
   "outputs": [
    {
     "data": {
      "image/png": "[encoded data removed]",
      "text/plain": [
       "<Figure size 432x288 with 1 Axes>"
      ]
     },
     "metadata": {
      "needs_background": "light"
     },
     "output_type": "display_data"
    },
    {
     "data": {
      "image/png": "[encoded data removed]",
      "text/plain": [
       "<Figure size 432x288 with 1 Axes>"
      ]
     },
     "metadata": {
      "needs_background": "light"
     },
     "output_type": "display_data"
    },
    {
     "data": {
      "image/png": "[encoded data removed]",
      "text/plain": [
       "<Figure size 432x288 with 1 Axes>"
      ]
     },
     "metadata": {
      "needs_background": "light"
     },
     "output_type": "display_data"
    },
    {
     "data": {
      "image/png": "[encoded data removed]",
      "text/plain": [
       "<Figure size 432x288 with 1 Axes>"
      ]
     },
     "metadata": {
      "needs_background": "light"
     },
     "output_type": "display_data"
    },
    {
     "data": {
      "image/png": "[encoded data removed]",
      "text/plain": [
       "<Figure size 432x288 with 1 Axes>"
      ]
     },
     "metadata": {
      "needs_background": "light"
     },
     "output_type": "display_data"
    }
   ],
   "source": [
    "i = 4\n",
    "\n",
    "n_test = X_test.shape[0]\n",
    "plt.title('Original')\n",
    "plt.axis('off')\n",
    "plt.imshow(X_test[i])\n",
    "plt.show()\n",
    "for _ in range(len(corruption)):\n",
    "    plt.title(corruption[_])\n",
    "    plt.axis('off')\n",
    "    plt.imshow(X_corr[n_test * _+ i])\n",
    "    plt.show()"
   ]
  },
  {
   "cell_type": "markdown",
   "metadata": {},
   "source": [
    "We can also verify that the performance of a classification model on CIFAR-10 drops significantly on this perturbed dataset:"
   ]
  },
  {
   "cell_type": "code",
   "execution_count": 9,
   "metadata": {},
   "outputs": [
    {
     "name": "stdout",
     "output_type": "stream",
     "text": [
      "Test set accuracy:\n",
      "Original 0.9278\n",
      "gaussian_noise 0.2208\n",
      "motion_blur 0.6339\n",
      "brightness 0.8913\n",
      "pixelate 0.3666\n"
     ]
    }
   ],
   "source": [
    "dataset = 'cifar10'\n",
    "model = 'resnet32'\n",
    "clf = fetch_tf_model(dataset, model)\n",
    "acc = clf.evaluate(scale_by_instance(X_test), y_test, batch_size=128, verbose=0)[1]\n",
    "print('Test set accuracy:')\n",
    "print('Original {:.4f}'.format(acc))\n",
    "clf_accuracy = {'original': acc}\n",
    "for _ in range(len(corruption)):\n",
    "    acc = clf.evaluate(scale_by_instance(X_c[_]), y_test, batch_size=128, verbose=0)[1]\n",
    "    clf_accuracy[corruption[_]] = acc\n",
    "    print('{} {:.4f}'.format(corruption[_], acc))"
   ]
  },
  {
   "cell_type": "markdown",
   "metadata": {},
   "source": [
    "Given the drop in performance, it is important that we detect the harmful data drift!\n",
    "\n",
    "### Detect drift\n",
    "\n",
    "We are trying to detect data drift on high-dimensional (*32x32x3*) data using a multivariate MMD permutation test. It therefore makes sense to apply dimensionality reduction first. Some dimensionality reduction methods also used in [Failing Loudly: An Empirical Study of Methods for Detecting Dataset Shift](https://arxiv.org/pdf/1810.11953.pdf) are readily available: **UAE** (Untrained AutoEncoder), **BBSDs** (black-box shift detection using the classifier's softmax outputs) and **PCA**. \n",
    "\n",
    "#### Untrained AutoEncoder\n",
    "\n",
    "First we try UAE:"
   ]
  },
  {
   "cell_type": "code",
   "execution_count": 15,
   "metadata": {
    "scrolled": false
   },
   "outputs": [],
   "source": [
    "tf.random.set_seed(0)\n",
    "\n",
    "# define encoder\n",
    "encoding_dim = 32\n",
    "encoder_net = tf.keras.Sequential(\n",
    "  [\n",
    "      InputLayer(input_shape=(32, 32, 3)),\n",
    "      Conv2D(64, 4, strides=2, padding='same', activation=tf.nn.relu),\n",
    "      Conv2D(128, 4, strides=2, padding='same', activation=tf.nn.relu),\n",
    "      Conv2D(512, 4, strides=2, padding='same', activation=tf.nn.relu),\n",
    "      Flatten(),\n",
    "      Dense(encoding_dim,)\n",
    "  ]\n",
    ")\n",
    "uae = UAE(encoder_net=encoder_net)\n",
    "preprocess_kwargs = {'model': uae, 'batch_size': 128}\n",
    "\n",
    "# initialise drift detector\n",
    "cd_mmd = MMDDrift(\n",
    "    p_val=.05,          # p-value for permutation test \n",
    "    X_ref=X_ref,        # reference data to test against\n",
    "    preprocess_kwargs=preprocess_kwargs,\n",
    "    kernel=gaussian_kernel,  # use the default Gaussian kernel in MMD\n",
    "    kernel_kwargs={'sigma': np.array([1.])},\n",
    "    chunk_size=1000,\n",
    "    n_permutations=5    # nb of permutations in the test, set to 5 for runtime\n",
    ")                       # purposes; should be much higher for a real test\n",
    "\n",
    "# # we can also save/load an initialised detector\n",
    "# filepath = 'my_path'  # change to directory where detector is saved\n",
    "# save_detector(cd, filepath)\n",
    "# cd = load_detector(filepath, **{'preprocess_kwargs': preprocess_kwargs})"
   ]
  },
  {
   "cell_type": "markdown",
   "metadata": {},
   "source": [
    "The optional `chunk_size` variable will be used to compute the maximum mean discrepancy distance between the 2 samples in chunks using [dask](https://dask.org/) to avoid potential out-of-memory errors. In terms of speed, the optimal `chunk_size` is application and hardware dependent, so it is often worth to test a few different values, including *None*. *None* means that the computation is done in-memory in NumPy.\n",
    "\n",
    "Let's check whether the detector thinks drift occurred within the original test set:"
   ]
  },
  {
   "cell_type": "code",
   "execution_count": 16,
   "metadata": {
    "scrolled": false
   },
   "outputs": [
    {
     "name": "stdout",
     "output_type": "stream",
     "text": [
      "Drift? No!\n"
     ]
    }
   ],
   "source": [
    "preds_h0 = cd.predict(X_h0, return_p_val=True)\n",
    "labels = ['No!', 'Yes!']\n",
    "print('Drift? {}'.format(labels[preds_h0['data']['is_drift']]))"
   ]
  },
  {
   "cell_type": "markdown",
   "metadata": {},
   "source": [
    "As expected, no drift occurred. The p-value of the permutation test is above the $0.05$ threshold:"
   ]
  },
  {
   "cell_type": "code",
   "execution_count": 13,
   "metadata": {},
   "outputs": [
    {
     "name": "stdout",
     "output_type": "stream",
     "text": [
      "0.8\n"
     ]
    }
   ],
   "source": [
    "print(preds_h0['data']['p_val'])"
   ]
  },
  {
   "cell_type": "code",
   "execution_count": 18,
   "metadata": {},
   "outputs": [
    {
     "name": "stdout",
     "output_type": "stream",
     "text": [
      "Test set accuracy:\n",
      "Original 0.9500\n",
      "Drift? No!\n",
      "Corruption type: gaussian_noise\n",
      "Drift? No!\n",
      "Corruption type: motion_blur\n",
      "Drift? Yes!\n",
      "Corruption type: brightness\n",
      "Drift? No!\n",
      "Corruption type: pixelate\n",
      "100\n",
      "*** Acc for all : 0.6000000238418579\n",
      "MMD drift\n",
      " Iter : 0\n",
      "Test set accuracy:\n",
      "Original 1.0000\n",
      "Drift? No!\n",
      "Corruption type: gaussian_noise\n",
      "Drift? Yes!\n",
      "Corruption type: motion_blur\n",
      "Drift? Yes!\n",
      "Corruption type: brightness\n",
      "Drift? Yes!\n",
      "Corruption type: pixelate\n",
      "100\n",
      "*** Acc for all : 0.6200000047683716\n",
      "MMD drift\n",
      " Iter : 1\n",
      "Test set accuracy:\n",
      "Original 0.8500\n",
      "Drift? No!\n",
      "Corruption type: gaussian_noise\n",
      "Drift? No!\n",
      "Corruption type: motion_blur\n",
      "Drift? Yes!\n",
      "Corruption type: brightness\n",
      "Drift? No!\n",
      "Corruption type: pixelate\n",
      "100\n",
      "*** Acc for all : 0.6200000047683716\n",
      "MMD drift\n",
      " Iter : 2\n",
      "Test set accuracy:\n",
      "Original 0.8500\n",
      "Drift? No!\n",
      "Corruption type: gaussian_noise\n",
      "Drift? Yes!\n",
      "Corruption type: motion_blur\n",
      "Drift? Yes!\n",
      "Corruption type: brightness\n",
      "Drift? No!\n",
      "Corruption type: pixelate\n",
      "100\n",
      "*** Acc for all : 0.5699999928474426\n",
      "MMD drift\n",
      " Iter : 3\n",
      "Test set accuracy:\n",
      "Original 0.9000\n",
      "Drift? Yes!\n",
      "Corruption type: gaussian_noise\n",
      "Drift? Yes!\n",
      "Corruption type: motion_blur\n",
      "Drift? Yes!\n",
      "Corruption type: brightness\n",
      "Drift? No!\n",
      "Corruption type: pixelate\n",
      "100\n",
      "*** Acc for all : 0.5299999713897705\n",
      "MMD drift\n",
      " Iter : 4\n",
      "******** for 20\n",
      "**************MMD: 5\n",
      "**************exec MMD: [14143, 14164, 15543, 16499, 13209]\n",
      "*** Acc for all : 0.5299999713897705\n",
      "Test set accuracy:\n",
      "Original 1.0000\n",
      "Drift? No!\n",
      "Corruption type: gaussian_noise\n",
      "Drift? Yes!\n",
      "Corruption type: motion_blur\n",
      "Drift? Yes!\n",
      "Corruption type: brightness\n",
      "Drift? Yes!\n",
      "Corruption type: pixelate\n",
      "420\n",
      "*** Acc for all : 0.6095238327980042\n",
      "MMD drift\n",
      " Iter : 0\n",
      "Test set accuracy:\n",
      "Original 0.9500\n",
      "Drift? No!\n",
      "Corruption type: gaussian_noise\n",
      "Drift? No!\n",
      "Corruption type: motion_blur\n",
      "Drift? Yes!\n",
      "Corruption type: brightness\n",
      "Drift? Yes!\n",
      "Corruption type: pixelate\n",
      "420\n",
      "*** Acc for all : 0.5452380776405334\n",
      "MMD drift\n",
      " Iter : 1\n",
      "Test set accuracy:\n",
      "Original 0.8500\n",
      "Drift? No!\n",
      "Corruption type: gaussian_noise\n",
      "Drift? Yes!\n",
      "Corruption type: motion_blur\n",
      "Drift? Yes!\n",
      "Corruption type: brightness\n",
      "Drift? Yes!\n",
      "Corruption type: pixelate\n",
      "420\n",
      "*** Acc for all : 0.5285714268684387\n",
      "MMD drift\n",
      " Iter : 2\n",
      "Test set accuracy:\n",
      "Original 0.8000\n",
      "Drift? No!\n",
      "Corruption type: gaussian_noise\n",
      "Drift? No!\n",
      "Corruption type: motion_blur\n",
      "Drift? Yes!\n",
      "Corruption type: brightness\n",
      "Drift? Yes!\n",
      "Corruption type: pixelate\n",
      "420\n",
      "*** Acc for all : 0.538095235824585\n",
      "MMD drift\n",
      " Iter : 3\n",
      "Test set accuracy:\n",
      "Original 0.8500\n",
      "Drift? Yes!\n",
      "Corruption type: gaussian_noise\n",
      "Drift? Yes!\n",
      "Corruption type: motion_blur\n",
      "Drift? Yes!\n",
      "Corruption type: brightness\n",
      "Drift? No!\n",
      "Corruption type: pixelate\n",
      "420\n",
      "*** Acc for all : 0.538095235824585\n",
      "MMD drift\n",
      " Iter : 4\n",
      "******** for 100\n",
      "**************MMD: 5\n",
      "**************exec MMD: [13884, 14162, 14145, 15390, 15203]\n",
      "*** Acc for all : 0.538095235824585\n",
      "Test set accuracy:\n",
      "Original 0.8500\n",
      "Drift? Yes!\n",
      "Corruption type: gaussian_noise\n",
      "Drift? Yes!\n",
      "Corruption type: motion_blur\n",
      "Drift? Yes!\n",
      "Corruption type: brightness\n",
      "Drift? Yes!\n",
      "Corruption type: pixelate\n",
      "1020\n",
      "*** Acc for all : 0.5284313559532166\n",
      "MMD drift\n",
      " Iter : 0\n",
      "Test set accuracy:\n",
      "Original 0.8500\n",
      "Drift? No!\n",
      "Corruption type: gaussian_noise\n",
      "Drift? Yes!\n",
      "Corruption type: motion_blur\n",
      "Drift? Yes!\n",
      "Corruption type: brightness\n",
      "Drift? No!\n",
      "Corruption type: pixelate\n",
      "1020\n",
      "*** Acc for all : 0.5656862854957581\n",
      "MMD drift\n",
      " Iter : 1\n",
      "Test set accuracy:\n",
      "Original 0.9500\n",
      "Drift? Yes!\n",
      "Corruption type: gaussian_noise\n",
      "Drift? Yes!\n",
      "Corruption type: motion_blur\n",
      "Drift? Yes!\n",
      "Corruption type: brightness\n",
      "Drift? No!\n",
      "Corruption type: pixelate\n",
      "1020\n",
      "*** Acc for all : 0.5313725471496582\n",
      "MMD drift\n",
      " Iter : 2\n",
      "Test set accuracy:\n",
      "Original 1.0000\n",
      "Drift? Yes!\n",
      "Corruption type: gaussian_noise\n",
      "Drift? No!\n",
      "Corruption type: motion_blur\n",
      "Drift? Yes!\n",
      "Corruption type: brightness\n",
      "Drift? No!\n",
      "Corruption type: pixelate\n",
      "1020\n",
      "*** Acc for all : 0.5519607663154602\n",
      "MMD drift\n",
      " Iter : 3\n",
      "Test set accuracy:\n",
      "Original 0.9000\n",
      "Drift? Yes!\n",
      "Corruption type: gaussian_noise\n",
      "Drift? Yes!\n",
      "Corruption type: motion_blur\n",
      "Drift? Yes!\n",
      "Corruption type: brightness\n",
      "Drift? No!\n",
      "Corruption type: pixelate\n",
      "1020\n",
      "*** Acc for all : 0.5372549295425415\n",
      "MMD drift\n",
      " Iter : 4\n",
      "******** for 250\n",
      "**************MMD: 5\n",
      "**************exec MMD: [16741, 16947, 16518, 17133, 17215]\n",
      "*** Acc for all : 0.5372549295425415\n"
     ]
    }
   ],
   "source": [
    "##### continous loop for detecting drift using various methods (MMD, KS)\n",
    "import random\n",
    "import time\n",
    "current_milli_time = lambda: int(round(time.time() * 1000))\n",
    "\n",
    "counter_mmd = 0\n",
    "counter_ks = 0\n",
    "orig_set_size = 20\n",
    "corrupted_set_size = 1000\n",
    "\n",
    "exec_times = {\"KS\": [], \"MMD\": []}\n",
    "drifter_acc = {\"KS\": 0, \"MMD\": 0}\n",
    "accuracy_by_time = []\n",
    "for corrupted_set_size in [20, 100, 250]:\n",
    "    exec_times = {\"KS\": [], \"MMD\": []}\n",
    "    drifter_acc = {\"KS\": 0, \"MMD\": 0}\n",
    "    accuracy_by_time = []\n",
    "    for i in range(0,5):\n",
    "\n",
    "        ## select randomly from orig\n",
    "        idx = np.random.randint(10000, size=orig_set_size)\n",
    "        acc = clf.evaluate(scale_by_instance(X_test[idx]), y_test[idx], batch_size=128, verbose=0)[1]\n",
    "        temp = X_test[idx]\n",
    "        temp_y = y_test[idx]\n",
    "        print('Test set accuracy:')\n",
    "        print('Original {:.4f}'.format(acc))\n",
    "        clf_accuracy_loop = {'original': acc}\n",
    "        for x, c in zip(X_c, corruption):\n",
    "            idx = np.random.randint(10000, size=corrupted_set_size)\n",
    "    #         print(\"idx\",idx)\n",
    "            preds = cd.predict(x[idx], return_p_val=True)\n",
    "            acc = clf.evaluate(scale_by_instance(x[idx]), y_test[idx], batch_size=128, verbose=0)[1]\n",
    "            print('Drift? {}'.format(labels[preds['data']['is_drift']]))\n",
    "            print(f'Corruption type: {c}')\n",
    "\n",
    "            temp = np.concatenate((temp, x[idx]), axis=0)\n",
    "            temp_y = np.concatenate((temp_y, y_test[idx]), axis=0)\n",
    "\n",
    "        print(len(temp))\n",
    "        acc = clf.evaluate(scale_by_instance(temp), temp_y, batch_size=128, verbose=0)[1]\n",
    "        accuracy_by_time.append(acc)\n",
    "        print(f\"*** Acc for all : {acc}\")\n",
    "\n",
    "\n",
    "        begin_time = current_milli_time()\n",
    "        preds_mmd = cd_mmd.predict(temp, return_p_val=True)\n",
    "        end_time = current_milli_time()\n",
    "        exec_times[\"MMD\"].append(end_time - begin_time)\n",
    "\n",
    "#         begin_time = current_milli_time()\n",
    "#         preds_ks = cd.predict(temp, return_p_val=True)\n",
    "#         end_time = current_milli_time()\n",
    "#         exec_times[\"KS\"].append(end_time - begin_time)\n",
    "\n",
    "\n",
    "        if preds_mmd['data']['is_drift']:\n",
    "            drifter_acc[\"MMD\"] = drifter_acc[\"MMD\"] + 1\n",
    "            print(\"MMD drift\")\n",
    "#         if preds_ks['data']['is_drift']:\n",
    "#             drifter_acc[\"KS\"] = drifter_acc[\"KS\"] + 1 \n",
    "#             print(\"KS drift\")\n",
    "        print(f\" Iter : {i}\")\n",
    "    print(f\"******** for {corrupted_set_size}\")\n",
    "    print(f\"**************MMD: {drifter_acc['MMD']}\")\n",
    "    #     print(f\"MMD: {drifter_acc['MMD']}\")\n",
    "    print(f\"**************exec MMD: {exec_times['MMD']}\")\n",
    "    print(f\"*** Acc for all : {acc}\")\n",
    "    #     print(f\"exec MMD: {exec_times['MMD']}\")"
   ]
  },
  {
   "cell_type": "markdown",
   "metadata": {},
   "source": [
    "Let's now check the predictions on the perturbed data:"
   ]
  },
  {
   "cell_type": "code",
   "execution_count": 13,
   "metadata": {
    "scrolled": true
   },
   "outputs": [
    {
     "name": "stdout",
     "output_type": "stream",
     "text": [
      "Corruption type: gaussian_noise\n",
      "Drift? Yes!\n",
      "Feature-wise p-values:\n",
      "0.0\n",
      "\n",
      "Corruption type: motion_blur\n",
      "Drift? Yes!\n",
      "Feature-wise p-values:\n",
      "0.0\n",
      "\n",
      "Corruption type: brightness\n",
      "Drift? Yes!\n",
      "Feature-wise p-values:\n",
      "0.0\n",
      "\n",
      "Corruption type: pixelate\n",
      "Drift? Yes!\n",
      "Feature-wise p-values:\n",
      "0.0\n",
      "\n"
     ]
    }
   ],
   "source": [
    "for x, c in zip(X_c, corruption):\n",
    "    preds = cd.predict(x, return_p_val=True)\n",
    "    print(f'Corruption type: {c}')\n",
    "    print('Drift? {}'.format(labels[preds['data']['is_drift']]))\n",
    "    print('Feature-wise p-values:')\n",
    "    print(preds['data']['p_val'])\n",
    "    print('')"
   ]
  },
  {
   "cell_type": "markdown",
   "metadata": {},
   "source": [
    "#### BBSDs\n",
    "\n",
    "For **BBSDs**, we use the classifier's softmax outputs for black-box shift detection. This method is based on [Detecting and Correcting for Label Shift with Black Box Predictors](https://arxiv.org/abs/1802.03916). The ResNet classifier is trained on data standardised by instance so we need to rescale the data."
   ]
  },
  {
   "cell_type": "code",
   "execution_count": 14,
   "metadata": {},
   "outputs": [],
   "source": [
    "X_train = scale_by_instance(X_train)\n",
    "X_test = scale_by_instance(X_test)\n",
    "for i in range(n_corr):\n",
    "    X_c[i] = scale_by_instance(X_c[i])\n",
    "X_ref = scale_by_instance(X_ref)\n",
    "X_h0 = scale_by_instance(X_h0)"
   ]
  },
  {
   "cell_type": "markdown",
   "metadata": {},
   "source": [
    "Initialisation of the drift detector. Here we use the output of the softmax layer to detect the drift, but other hidden layers can be extracted as well by setting *'layer'* to the index of the desired hidden layer in the model:"
   ]
  },
  {
   "cell_type": "code",
   "execution_count": 15,
   "metadata": {},
   "outputs": [],
   "source": [
    "# use output softmax layer\n",
    "preprocess_kwargs = {'model': HiddenOutput(model=clf, layer=-1), 'batch_size': 128}\n",
    "\n",
    "cd = MMDDrift(\n",
    "    p_val=.05,\n",
    "    X_ref=X_ref,\n",
    "    preprocess_kwargs=preprocess_kwargs,\n",
    "    kernel_kwargs={'sigma': np.array([1.])},\n",
    "    chunk_size=1000,\n",
    "    n_permutations=5\n",
    ")"
   ]
  },
  {
   "cell_type": "markdown",
   "metadata": {},
   "source": [
    "There is no drift on the original held out test set:"
   ]
  },
  {
   "cell_type": "code",
   "execution_count": 16,
   "metadata": {
    "scrolled": true
   },
   "outputs": [
    {
     "name": "stdout",
     "output_type": "stream",
     "text": [
      "Drift? No!\n",
      "0.4\n"
     ]
    }
   ],
   "source": [
    "preds_h0 = cd.predict(X_h0)\n",
    "print('Drift? {}'.format(labels[preds_h0['data']['is_drift']]))\n",
    "print(preds_h0['data']['p_val'])"
   ]
  },
  {
   "cell_type": "markdown",
   "metadata": {},
   "source": [
    "We compare this with the perturbed data:"
   ]
  },
  {
   "cell_type": "code",
   "execution_count": 17,
   "metadata": {
    "scrolled": true
   },
   "outputs": [
    {
     "name": "stdout",
     "output_type": "stream",
     "text": [
      "Corruption type: gaussian_noise\n",
      "Drift? Yes!\n",
      "Feature-wise p-values:\n",
      "0.0\n",
      "\n",
      "Corruption type: motion_blur\n",
      "Drift? Yes!\n",
      "Feature-wise p-values:\n",
      "0.0\n",
      "\n",
      "Corruption type: brightness\n",
      "Drift? Yes!\n",
      "Feature-wise p-values:\n",
      "0.0\n",
      "\n",
      "Corruption type: pixelate\n",
      "Drift? Yes!\n",
      "Feature-wise p-values:\n",
      "0.0\n",
      "\n"
     ]
    }
   ],
   "source": [
    "for x, c in zip(X_c, corruption):\n",
    "    preds = cd.predict(x)\n",
    "    print(f'Corruption type: {c}')\n",
    "    print('Drift? {}'.format(labels[preds['data']['is_drift']]))\n",
    "    print('Feature-wise p-values:')\n",
    "    print(preds['data']['p_val'])\n",
    "    print('')"
   ]
  },
  {
   "cell_type": "markdown",
   "metadata": {},
   "source": [
    "### Kernel bandwidth\n",
    "\n",
    "So far we have defined a specific bandwidth `sigma` for the Gaussian kernel. We can however also sum over a number of different kernel bandwidths or infer `sigma` from *X_ref* and *X* using the following heuristic: compute the pairwise distances between each of the instances in *X_ref* and *X*, and set `sigma` to the median distance.\n",
    "\n",
    "Let's first try a range of bandwidths:"
   ]
  },
  {
   "cell_type": "code",
   "execution_count": 18,
   "metadata": {},
   "outputs": [],
   "source": [
    "cd = MMDDrift(\n",
    "    p_val=.05,\n",
    "    X_ref=X_ref,\n",
    "    preprocess_kwargs=preprocess_kwargs,\n",
    "    kernel_kwargs={'sigma': np.array([.5, 1., 5.])},\n",
    "    chunk_size=1000,\n",
    "    n_permutations=5\n",
    ")"
   ]
  },
  {
   "cell_type": "code",
   "execution_count": 19,
   "metadata": {
    "scrolled": false
   },
   "outputs": [
    {
     "name": "stdout",
     "output_type": "stream",
     "text": [
      "Original test set sample\n",
      "Drift? No!\n",
      "0.2\n",
      "\n",
      "Corruption type: gaussian_noise\n",
      "Drift? Yes!\n",
      "Feature-wise p-values:\n",
      "0.0\n",
      "\n",
      "Corruption type: motion_blur\n",
      "Drift? Yes!\n",
      "Feature-wise p-values:\n",
      "0.0\n",
      "\n",
      "Corruption type: brightness\n",
      "Drift? Yes!\n",
      "Feature-wise p-values:\n",
      "0.0\n",
      "\n",
      "Corruption type: pixelate\n",
      "Drift? Yes!\n",
      "Feature-wise p-values:\n",
      "0.0\n",
      "\n"
     ]
    }
   ],
   "source": [
    "preds_h0 = cd.predict(X_h0)\n",
    "print('Original test set sample')\n",
    "print('Drift? {}'.format(labels[preds_h0['data']['is_drift']]))\n",
    "print(preds_h0['data']['p_val'])\n",
    "print('')\n",
    "\n",
    "for x, c in zip(X_c, corruption):\n",
    "    preds = cd.predict(x)\n",
    "    print(f'Corruption type: {c}')\n",
    "    print('Drift? {}'.format(labels[preds['data']['is_drift']]))\n",
    "    print('Feature-wise p-values:')\n",
    "    print(preds['data']['p_val'])\n",
    "    print('')"
   ]
  },
  {
   "cell_type": "markdown",
   "metadata": {},
   "source": [
    "A bandwidth can also be inferred from *X_ref* and *X* using the heuristic:"
   ]
  },
  {
   "cell_type": "code",
   "execution_count": 20,
   "metadata": {},
   "outputs": [],
   "source": [
    "cd = MMDDrift(\n",
    "    p_val=.05,\n",
    "    X_ref=X_ref,\n",
    "    preprocess_kwargs=preprocess_kwargs,\n",
    "    chunk_size=1000,\n",
    "    n_permutations=5\n",
    ")"
   ]
  },
  {
   "cell_type": "code",
   "execution_count": 21,
   "metadata": {},
   "outputs": [
    {
     "name": "stdout",
     "output_type": "stream",
     "text": [
      "Drift? No!\n",
      "0.2\n"
     ]
    }
   ],
   "source": [
    "preds_h0 = cd.predict(X_h0)\n",
    "print('Drift? {}'.format(labels[preds_h0['data']['is_drift']]))\n",
    "print(preds_h0['data']['p_val'])"
   ]
  },
  {
   "cell_type": "code",
   "execution_count": 22,
   "metadata": {},
   "outputs": [
    {
     "name": "stdout",
     "output_type": "stream",
     "text": [
      "Inferred bandwidth: 1.4132\n"
     ]
    }
   ],
   "source": [
    "print('Inferred bandwidth: {:.4f}'.format(cd.permutation_test.keywords['sigma'].item()))"
   ]
  },
  {
   "cell_type": "markdown",
   "metadata": {},
   "source": [
    "### Label drift\n",
    "\n",
    "We can also check what happens when we introduce class imbalances between the reference data *X_ref* and the tested data *X_imb*. The reference data will use $75$% of the instances of the first 5 classes and only $25$% of the last 5. The data used for drift testing then uses respectively $25$% and $75$% of the test instances for the first and last 5 classes."
   ]
  },
  {
   "cell_type": "code",
   "execution_count": 23,
   "metadata": {},
   "outputs": [
    {
     "name": "stdout",
     "output_type": "stream",
     "text": [
      "(5000, 32, 32, 3) (5000, 32, 32, 3) (5000,)\n"
     ]
    }
   ],
   "source": [
    "np.random.seed(0)\n",
    "# get index for each class in the test set\n",
    "num_classes = len(np.unique(y_test))\n",
    "idx_by_class = [np.where(y_test == c)[0] for c in range(num_classes)]\n",
    "# sample imbalanced data for different classes for X_ref and X_imb\n",
    "perc_ref = .75\n",
    "perc_ref_by_class = [perc_ref if c < 5 else 1 - perc_ref for c in range(num_classes)]\n",
    "n_by_class = n_test // num_classes\n",
    "X_ref = []\n",
    "X_imb, y_imb = [], []\n",
    "for _ in range(num_classes):\n",
    "    idx_class_ref = np.random.choice(n_by_class, size=int(perc_ref_by_class[_] * n_by_class), replace=False)\n",
    "    idx_ref = idx_by_class[_][idx_class_ref]\n",
    "    idx_class_imb = np.delete(np.arange(n_by_class), idx_class_ref, axis=0)\n",
    "    idx_imb = idx_by_class[_][idx_class_imb]\n",
    "    assert idx_ref != idx_imb\n",
    "    X_ref.append(X_test[idx_ref])\n",
    "    X_imb.append(X_test[idx_imb])\n",
    "    y_imb.append(y_test[idx_imb])\n",
    "X_ref = np.concatenate(X_ref)\n",
    "X_imb = np.concatenate(X_imb)\n",
    "y_imb = np.concatenate(y_imb)\n",
    "print(X_ref.shape, X_imb.shape, y_imb.shape)"
   ]
  },
  {
   "cell_type": "markdown",
   "metadata": {},
   "source": [
    "Update reference dataset for the detector and make predictions:"
   ]
  },
  {
   "cell_type": "code",
   "execution_count": 24,
   "metadata": {},
   "outputs": [],
   "source": [
    "cd.X_ref = cd.preprocess_fn(X_ref)"
   ]
  },
  {
   "cell_type": "code",
   "execution_count": 25,
   "metadata": {},
   "outputs": [
    {
     "name": "stdout",
     "output_type": "stream",
     "text": [
      "Drift? Yes!\n",
      "0.0\n"
     ]
    }
   ],
   "source": [
    "preds_imb = cd.predict(X_imb)\n",
    "print('Drift? {}'.format(labels[preds_imb['data']['is_drift']]))\n",
    "print(preds_imb['data']['p_val'])"
   ]
  }
 ],
 "metadata": {
  "kernelspec": {
   "display_name": "Python 3.7.6 64-bit ('base': conda)",
   "language": "python",
   "name": "python37664bitbaseconda15d24054bb054f9cb80d270846c6fc83"
  },
  "language_info": {
   "codemirror_mode": {
    "name": "ipython",
    "version": 3
   },
   "file_extension": ".py",
   "mimetype": "text/x-python",
   "name": "python",
   "nbconvert_exporter": "python",
   "pygments_lexer": "ipython3",
   "version": "3.7.6"
  }
 },
 "nbformat": 4,
 "nbformat_minor": 4
}
