{
 "cells": [
  {
   "cell_type": "markdown",
   "metadata": {},
   "source": [
    "# Maximum Mean Discrepancy drift detector on CIFAR-10\n",
    "\n",
    "### Method\n",
    "\n",
    "The [Maximum Mean Discrepancy (MMD)](http://jmlr.csail.mit.edu/papers/v13/gretton12a.html) detector is a kernel-based method for multivariate 2 sample testing. The MMD is a distance-based measure between 2 distributions *p* and *q* based on the mean embeddings $\\mu_{p}$ and $\\mu_{q}$ in a reproducing kernel Hilbert space $F$:\n",
    "\n",
    "\\begin{align}\n",
    "MMD(F, p, q) & = || \\mu_{p} - \\mu_{q} ||^2_{F} \\\\\n",
    "\\end{align}\n",
    "\n",
    "We can compute unbiased estimates of $MMD^2$ from the samples of the 2 distributions after applying the kernel trick. We use by default a [radial basis function kernel](https://en.wikipedia.org/wiki/Radial_basis_function_kernel), but users are free to pass their own kernel of preference to the detector. We obtain a $p$-value via a [permutation test](https://en.wikipedia.org/wiki/Resampling_(statistics)) on the values of $MMD^2$. This method is also described in [Failing Loudly: An Empirical Study of Methods for Detecting Dataset Shift](https://arxiv.org/abs/1810.11953).\n",
    "\n",
    "### Dataset\n",
    "\n",
    "[CIFAR10](https://www.cs.toronto.edu/~kriz/cifar.html) consists of 60,000 32 by 32 RGB images equally distributed over 10 classes. We evaluate the drift detector on the CIFAR-10-C dataset ([Hendrycks & Dietterich, 2019](https://arxiv.org/abs/1903.12261)). The instances in\n",
    "CIFAR-10-C have been corrupted and perturbed by various types of noise, blur, brightness etc. at different levels of severity, leading to a gradual decline in the classification model performance. We also check for drift against the original test set with class imbalances. "
   ]
  },
  {
   "cell_type": "code",
   "execution_count": 1,
   "metadata": {},
   "outputs": [],
   "source": [
    "import matplotlib.pyplot as plt\n",
    "import os\n",
    "import numpy as np\n",
    "import tensorflow as tf\n",
    "from tensorflow.keras.layers import Conv2D, Dense, Flatten, InputLayer, Reshape\n",
    "\n",
    "from alibi_detect.cd import MMDDrift\n",
    "from alibi_detect.cd.preprocess import UAE, HiddenOutput\n",
    "from alibi_detect.models.resnet import scale_by_instance\n",
    "from alibi_detect.utils.fetching import fetch_tf_model\n",
    "from alibi_detect.utils.kernels import gaussian_kernel\n",
    "from alibi_detect.utils.prediction import predict_batch\n",
    "from alibi_detect.utils.saving import save_detector, load_detector\n",
    "from alibi_detect.datasets import fetch_cifar10c, corruption_types_cifar10c"
   ]
  },
  {
   "cell_type": "markdown",
   "metadata": {},
   "source": [
    "### Load data\n",
    "\n",
    "Original CIFAR-10 data:"
   ]
  },
  {
   "cell_type": "code",
   "execution_count": 2,
   "metadata": {},
   "outputs": [],
   "source": [
    "(X_train, y_train), (X_test, y_test) = tf.keras.datasets.cifar10.load_data()\n",
    "X_train = X_train.astype('float32') / 255\n",
    "X_test = X_test.astype('float32') / 255\n",
    "y_train = y_train.astype('int64').reshape(-1,)\n",
    "y_test = y_test.astype('int64').reshape(-1,)"
   ]
  },
  {
   "cell_type": "markdown",
   "metadata": {},
   "source": [
    "For CIFAR-10-C, we can select from the following corruption types at 5 severity levels:"
   ]
  },
  {
   "cell_type": "code",
   "execution_count": 3,
   "metadata": {},
   "outputs": [
    {
     "name": "stdout",
     "output_type": "stream",
     "text": [
      "['brightness', 'contrast', 'defocus_blur', 'elastic_transform', 'fog', 'frost', 'gaussian_blur', 'gaussian_noise', 'glass_blur', 'impulse_noise', 'jpeg_compression', 'motion_blur', 'pixelate', 'saturate', 'shot_noise', 'snow', 'spatter', 'speckle_noise', 'zoom_blur']\n"
     ]
    }
   ],
   "source": [
    "corruptions = corruption_types_cifar10c()\n",
    "print(corruptions)"
   ]
  },
  {
   "cell_type": "markdown",
   "metadata": {},
   "source": [
    "Let's pick a subset of the corruptions at corruption level 5. Each corruption type consists of perturbations on all of the original test set images."
   ]
  },
  {
   "cell_type": "code",
   "execution_count": 12,
   "metadata": {},
   "outputs": [],
   "source": [
    "corruption = ['brightness', 'contrast', 'defocus_blur', 'elastic_transform', 'fog', 'frost', 'gaussian_blur', 'gaussian_noise', 'glass_blur', 'impulse_noise']\n",
    "X_corr, y_corr = fetch_cifar10c(corruption=corruption, severity=5, return_X_y=True)\n",
    "X_corr = X_corr.astype('float32') / 255"
   ]
  },
  {
   "cell_type": "markdown",
   "metadata": {},
   "source": [
    "We split the original test set in a reference dataset and a dataset which should not be rejected under the *H<sub>0</sub>* of the MMD test. We also split the corrupted data by corruption type:"
   ]
  },
  {
   "cell_type": "code",
   "execution_count": 13,
   "metadata": {},
   "outputs": [
    {
     "name": "stdout",
     "output_type": "stream",
     "text": [
      "(5000, 32, 32, 3) (5000, 32, 32, 3)\n"
     ]
    }
   ],
   "source": [
    "np.random.seed(0)\n",
    "n_test = X_test.shape[0]\n",
    "idx = np.random.choice(n_test, size=n_test // 2, replace=False)\n",
    "idx_h0 = np.delete(np.arange(n_test), idx, axis=0)\n",
    "X_ref,y_ref = X_test[idx], y_test[idx]\n",
    "X_h0, y_h0 = X_test[idx_h0], y_test[idx_h0]\n",
    "print(X_ref.shape, X_h0.shape)"
   ]
  },
  {
   "cell_type": "code",
   "execution_count": 14,
   "metadata": {},
   "outputs": [
    {
     "name": "stdout",
     "output_type": "stream",
     "text": [
      "Class Ref H0\n",
      "0     472 528\n",
      "1     510 490\n",
      "2     498 502\n",
      "3     492 508\n",
      "4     501 499\n",
      "5     495 505\n",
      "6     493 507\n",
      "7     501 499\n",
      "8     516 484\n",
      "9     522 478\n"
     ]
    }
   ],
   "source": [
    "# check that the classes are more or less balanced\n",
    "classes, counts_ref = np.unique(y_ref, return_counts=True)\n",
    "counts_h0 = np.unique(y_h0, return_counts=True)[1]\n",
    "print('Class Ref H0')\n",
    "for cl, cref, ch0 in zip(classes, counts_ref, counts_h0):\n",
    "    assert cref + ch0 == n_test // 10\n",
    "    print('{}     {} {}'.format(cl, cref, ch0))"
   ]
  },
  {
   "cell_type": "code",
   "execution_count": 15,
   "metadata": {},
   "outputs": [],
   "source": [
    "X_c = []\n",
    "n_corr = len(corruption)\n",
    "for i in range(n_corr):\n",
    "    X_c.append(X_corr[i * n_test:(i + 1) * n_test])"
   ]
  },
  {
   "cell_type": "markdown",
   "metadata": {},
   "source": [
    "We can visualise the same instance for each corruption type:"
   ]
  },
  {
   "cell_type": "code",
   "execution_count": 16,
   "metadata": {
    "tags": [
     "hide_input"
    ]
   },
   "outputs": [
    {
     "data": {
      "image/png": "[encoded data removed]",
      "text/plain": [
       "<Figure size 432x288 with 1 Axes>"
      ]
     },
     "metadata": {
      "needs_background": "light"
     },
     "output_type": "display_data"
    },
    {
     "data": {
      "image/png": "[encoded data removed]",
      "text/plain": [
       "<Figure size 432x288 with 1 Axes>"
      ]
     },
     "metadata": {
      "needs_background": "light"
     },
     "output_type": "display_data"
    },
    {
     "data": {
      "image/png": "[encoded data removed]",
      "text/plain": [
       "<Figure size 432x288 with 1 Axes>"
      ]
     },
     "metadata": {
      "needs_background": "light"
     },
     "output_type": "display_data"
    },
    {
     "data": {
      "image/png": "[encoded data removed]",
      "text/plain": [
       "<Figure size 432x288 with 1 Axes>"
      ]
     },
     "metadata": {
      "needs_background": "light"
     },
     "output_type": "display_data"
    },
    {
     "data": {
      "image/png": "[encoded data removed]",
      "text/plain": [
       "<Figure size 432x288 with 1 Axes>"
      ]
     },
     "metadata": {
      "needs_background": "light"
     },
     "output_type": "display_data"
    },
    {
     "data": {
      "image/png": "[encoded data removed]",
      "text/plain": [
       "<Figure size 432x288 with 1 Axes>"
      ]
     },
     "metadata": {
      "needs_background": "light"
     },
     "output_type": "display_data"
    },
    {
     "data": {
      "image/png": "[encoded data removed]",
      "text/plain": [
       "<Figure size 432x288 with 1 Axes>"
      ]
     },
     "metadata": {
      "needs_background": "light"
     },
     "output_type": "display_data"
    },
    {
     "data": {
      "image/png": "[encoded data removed]",
      "text/plain": [
       "<Figure size 432x288 with 1 Axes>"
      ]
     },
     "metadata": {
      "needs_background": "light"
     },
     "output_type": "display_data"
    },
    {
     "data": {
      "image/png": "[encoded data removed]",
      "text/plain": [
       "<Figure size 432x288 with 1 Axes>"
      ]
     },
     "metadata": {
      "needs_background": "light"
     },
     "output_type": "display_data"
    },
    {
     "data": {
      "image/png": "[encoded data removed]",
      "text/plain": [
       "<Figure size 432x288 with 1 Axes>"
      ]
     },
     "metadata": {
      "needs_background": "light"
     },
     "output_type": "display_data"
    },
    {
     "data": {
      "image/png": "[encoded data removed]",
      "text/plain": [
       "<Figure size 432x288 with 1 Axes>"
      ]
     },
     "metadata": {
      "needs_background": "light"
     },
     "output_type": "display_data"
    }
   ],
   "source": [
    "i = 4\n",
    "\n",
    "n_test = X_test.shape[0]\n",
    "plt.title('Original')\n",
    "plt.axis('off')\n",
    "plt.imshow(X_test[i])\n",
    "plt.show()\n",
    "for _ in range(len(corruption)):\n",
    "    plt.title(corruption[_])\n",
    "    plt.axis('off')\n",
    "    plt.imshow(X_corr[n_test * _+ i])\n",
    "    plt.show()"
   ]
  },
  {
   "cell_type": "markdown",
   "metadata": {},
   "source": [
    "We can also verify that the performance of a classification model on CIFAR-10 drops significantly on this perturbed dataset:"
   ]
  },
  {
   "cell_type": "code",
   "execution_count": 17,
   "metadata": {},
   "outputs": [
    {
     "name": "stdout",
     "output_type": "stream",
     "text": [
      "Test set accuracy:\n",
      "Original 0.9278\n",
      "brightness 0.8913\n",
      "contrast 0.7900\n",
      "defocus_blur 0.5923\n",
      "elastic_transform 0.6915\n",
      "fog 0.7534\n",
      "frost 0.6249\n",
      "gaussian_blur 0.3993\n",
      "gaussian_noise 0.2208\n",
      "glass_blur 0.3957\n",
      "impulse_noise 0.1926\n"
     ]
    }
   ],
   "source": [
    "dataset = 'cifar10'\n",
    "model = 'resnet32'\n",
    "clf = fetch_tf_model(dataset, model)\n",
    "acc = clf.evaluate(scale_by_instance(X_test), y_test, batch_size=128, verbose=0)[1]\n",
    "print('Test set accuracy:')\n",
    "print('Original {:.4f}'.format(acc))\n",
    "clf_accuracy = {'original': acc}\n",
    "for _ in range(len(corruption)):\n",
    "    acc = clf.evaluate(scale_by_instance(X_c[_]), y_test, batch_size=128, verbose=0)[1]\n",
    "    clf_accuracy[corruption[_]] = acc\n",
    "    print('{} {:.4f}'.format(corruption[_], acc))"
   ]
  },
  {
   "cell_type": "markdown",
   "metadata": {},
   "source": [
    "Given the drop in performance, it is important that we detect the harmful data drift!\n",
    "\n",
    "### Detect drift\n",
    "\n",
    "We are trying to detect data drift on high-dimensional (*32x32x3*) data using a multivariate MMD permutation test. It therefore makes sense to apply dimensionality reduction first. Some dimensionality reduction methods also used in [Failing Loudly: An Empirical Study of Methods for Detecting Dataset Shift](https://arxiv.org/pdf/1810.11953.pdf) are readily available: **UAE** (Untrained AutoEncoder), **BBSDs** (black-box shift detection using the classifier's softmax outputs) and **PCA**. \n",
    "\n",
    "#### Untrained AutoEncoder\n",
    "\n",
    "First we try UAE:"
   ]
  },
  {
   "cell_type": "code",
   "execution_count": 18,
   "metadata": {
    "scrolled": false
   },
   "outputs": [],
   "source": [
    "tf.random.set_seed(0)\n",
    "\n",
    "# define encoder\n",
    "encoding_dim = 32\n",
    "encoder_net = tf.keras.Sequential(\n",
    "  [\n",
    "      InputLayer(input_shape=(32, 32, 3)),\n",
    "      Conv2D(64, 4, strides=2, padding='same', activation=tf.nn.relu),\n",
    "      Conv2D(128, 4, strides=2, padding='same', activation=tf.nn.relu),\n",
    "      Conv2D(512, 4, strides=2, padding='same', activation=tf.nn.relu),\n",
    "      Flatten(),\n",
    "      Dense(encoding_dim,)\n",
    "  ]\n",
    ")\n",
    "uae = UAE(encoder_net=encoder_net)\n",
    "preprocess_kwargs = {'model': uae, 'batch_size': 128}\n",
    "\n",
    "# initialise drift detector\n",
    "cd_mmd = MMDDrift(\n",
    "    p_val=.05,          # p-value for permutation test \n",
    "    X_ref=X_ref,        # reference data to test against\n",
    "    preprocess_kwargs=preprocess_kwargs,\n",
    "    kernel=gaussian_kernel,  # use the default Gaussian kernel in MMD\n",
    "    kernel_kwargs={'sigma': np.array([1.])},\n",
    "    chunk_size=1000,\n",
    "    n_permutations=5    # nb of permutations in the test, set to 5 for runtime\n",
    ")                       # purposes; should be much higher for a real test\n",
    "\n",
    "# # we can also save/load an initialised detector\n",
    "# filepath = 'my_path'  # change to directory where detector is saved\n",
    "# save_detector(cd, filepath)\n",
    "# cd = load_detector(filepath, **{'preprocess_kwargs': preprocess_kwargs})"
   ]
  },
  {
   "cell_type": "markdown",
   "metadata": {},
   "source": [
    "The optional `chunk_size` variable will be used to compute the maximum mean discrepancy distance between the 2 samples in chunks using [dask](https://dask.org/) to avoid potential out-of-memory errors. In terms of speed, the optimal `chunk_size` is application and hardware dependent, so it is often worth to test a few different values, including *None*. *None* means that the computation is done in-memory in NumPy.\n",
    "\n",
    "Let's check whether the detector thinks drift occurred within the original test set:"
   ]
  },
  {
   "cell_type": "code",
   "execution_count": 20,
   "metadata": {
    "scrolled": false
   },
   "outputs": [
    {
     "name": "stdout",
     "output_type": "stream",
     "text": [
      "Drift? No!\n"
     ]
    }
   ],
   "source": [
    "preds_h0 = cd_mmd.predict(X_h0, return_p_val=True)\n",
    "labels = ['No!', 'Yes!']\n",
    "print('Drift? {}'.format(labels[preds_h0['data']['is_drift']]))"
   ]
  },
  {
   "cell_type": "markdown",
   "metadata": {},
   "source": [
    "As expected, no drift occurred. The p-value of the permutation test is above the $0.05$ threshold:"
   ]
  },
  {
   "cell_type": "code",
   "execution_count": 21,
   "metadata": {},
   "outputs": [
    {
     "name": "stdout",
     "output_type": "stream",
     "text": [
      "0.8\n"
     ]
    }
   ],
   "source": [
    "print(preds_h0['data']['p_val'])"
   ]
  },
  {
   "cell_type": "code",
   "execution_count": 44,
   "metadata": {},
   "outputs": [
    {
     "name": "stdout",
     "output_type": "stream",
     "text": [
      "Chosen: 1000\n",
      "so far iter : 0 , time 0.001\n",
      "1000\n",
      "*** Orig Acc for all : 0.5509999990463257\n",
      "*** Orig Acc for new_clf : 0.5509999990463257\n",
      "*** Orig Acc for drift_clf : 0.5509999990463257\n",
      "\n",
      "Retraining periodic\n",
      "Epoch 1/5\n",
      "8/8 [==============================] - 11s 1s/step - loss: 1.9709 - sparse_categorical_accuracy: 0.6230\n",
      "Epoch 2/5\n",
      "8/8 [==============================] - 9s 1s/step - loss: 0.9315 - sparse_categorical_accuracy: 0.7980\n",
      "Epoch 3/5\n",
      "8/8 [==============================] - 10s 1s/step - loss: 0.4320 - sparse_categorical_accuracy: 0.9110\n",
      "Epoch 4/5\n",
      "8/8 [==============================] - 9s 1s/step - loss: 0.2653 - sparse_categorical_accuracy: 0.9650\n",
      "Epoch 5/5\n",
      "8/8 [==============================] - 9s 1s/step - loss: 0.2071 - sparse_categorical_accuracy: 0.9840\n",
      "Retrained took: 57027\n",
      "MMD drift\n",
      "Retraining drifter\n",
      "Epoch 1/5\n",
      "8/8 [==============================] - 9s 1s/step - loss: 1.9709 - sparse_categorical_accuracy: 0.6230\n",
      "Epoch 2/5\n",
      "8/8 [==============================] - 9s 1s/step - loss: 0.9315 - sparse_categorical_accuracy: 0.7980\n",
      "Epoch 3/5\n",
      "8/8 [==============================] - 10s 1s/step - loss: 0.4320 - sparse_categorical_accuracy: 0.9110\n",
      "Epoch 4/5\n",
      "8/8 [==============================] - 9s 1s/step - loss: 0.2653 - sparse_categorical_accuracy: 0.9650\n",
      "Epoch 5/5\n",
      "8/8 [==============================] - 11s 1s/step - loss: 0.2071 - sparse_categorical_accuracy: 0.9840\n",
      "Retrained MMD took: 57402\n",
      "** results: {'method': 'MMD', 'model_acc': 0.5509999990463257, 'model_acc_periodic': 0.5509999990463257, 'model_acc_drift': 0.5509999990463257, 'corrupted': 1.0, 'exec': 21035, 'drift': 1, 'epoch': 0}\n",
      " Iter : 0\n",
      "******** for 1000\n",
      "Chosen: 100\n",
      "so far iter : 0 , time 141.326\n",
      "1000\n",
      "*** Orig Acc for all : 0.8870000243186951\n",
      "*** Orig Acc for new_clf : 0.8500000238418579\n",
      "*** Orig Acc for drift_clf : 0.8500000238418579\n",
      "\n",
      "Retraining periodic\n",
      "Epoch 1/5\n",
      "8/8 [==============================] - 11s 1s/step - loss: 0.6098 - sparse_categorical_accuracy: 0.8650\n",
      "Epoch 2/5\n",
      "8/8 [==============================] - 10s 1s/step - loss: 0.3796 - sparse_categorical_accuracy: 0.9250\n",
      "Epoch 3/5\n",
      "8/8 [==============================] - 10s 1s/step - loss: 0.2398 - sparse_categorical_accuracy: 0.9600\n",
      "Epoch 4/5\n",
      "8/8 [==============================] - 11s 1s/step - loss: 0.1843 - sparse_categorical_accuracy: 0.9810\n",
      "Epoch 5/5\n",
      "8/8 [==============================] - 11s 1s/step - loss: 0.1582 - sparse_categorical_accuracy: 0.9930\n",
      "Retrained took: 59907\n",
      "** results: {'method': 'MMD', 'model_acc': 0.8870000243186951, 'model_acc_periodic': 0.8500000238418579, 'model_acc_drift': 0.8500000238418579, 'corrupted': 0.1, 'exec': 24364, 'drift': 0, 'epoch': 1}\n",
      " Iter : 0\n",
      "******** for 100\n",
      "Chosen: 250\n",
      "so far iter : 0 , time 231.25\n",
      "1000\n",
      "*** Orig Acc for all : 0.8289999961853027\n",
      "*** Orig Acc for new_clf : 0.8190000057220459\n",
      "*** Orig Acc for drift_clf : 0.8009999990463257\n",
      "\n",
      "Retraining periodic\n",
      "Epoch 1/5\n",
      "8/8 [==============================] - 10s 1s/step - loss: 0.7478 - sparse_categorical_accuracy: 0.8520\n",
      "Epoch 2/5\n",
      "8/8 [==============================] - 10s 1s/step - loss: 0.4446 - sparse_categorical_accuracy: 0.9160\n",
      "Epoch 3/5\n",
      "8/8 [==============================] - 11s 1s/step - loss: 0.2879 - sparse_categorical_accuracy: 0.9520\n",
      "Epoch 4/5\n",
      "8/8 [==============================] - 9s 1s/step - loss: 0.2123 - sparse_categorical_accuracy: 0.9790\n",
      "Epoch 5/5\n",
      "8/8 [==============================] - 10s 1s/step - loss: 0.1855 - sparse_categorical_accuracy: 0.9870\n",
      "Retrained took: 57708\n",
      "MMD drift\n",
      "Retraining drifter\n",
      "Epoch 1/5\n",
      "8/8 [==============================] - 11s 1s/step - loss: 0.7993 - sparse_categorical_accuracy: 0.8380\n",
      "Epoch 2/5\n",
      "8/8 [==============================] - 11s 1s/step - loss: 0.4751 - sparse_categorical_accuracy: 0.9020\n",
      "Epoch 3/5\n",
      "8/8 [==============================] - 10s 1s/step - loss: 0.3112 - sparse_categorical_accuracy: 0.9480\n",
      "Epoch 4/5\n",
      "8/8 [==============================] - 10s 1s/step - loss: 0.2256 - sparse_categorical_accuracy: 0.9720\n",
      "Epoch 5/5\n",
      "8/8 [==============================] - 9s 1s/step - loss: 0.1938 - sparse_categorical_accuracy: 0.9800\n",
      "Retrained MMD took: 59376\n",
      "** results: {'method': 'MMD', 'model_acc': 0.8289999961853027, 'model_acc_periodic': 0.8190000057220459, 'model_acc_drift': 0.8009999990463257, 'corrupted': 0.25, 'exec': 23904, 'drift': 1, 'epoch': 2}\n",
      " Iter : 0\n",
      "******** for 250\n",
      "Chosen: 1000\n",
      "so far iter : 0 , time 377.589\n",
      "1000\n",
      "*** Orig Acc for all : 0.550000011920929\n",
      "*** Orig Acc for new_clf : 0.6209999918937683\n",
      "*** Orig Acc for drift_clf : 0.6230000257492065\n",
      "\n",
      "Retraining periodic\n",
      "Epoch 1/5\n",
      "8/8 [==============================] - 11s 1s/step - loss: 1.4632 - sparse_categorical_accuracy: 0.6910\n",
      "Epoch 2/5\n",
      "8/8 [==============================] - 10s 1s/step - loss: 0.7089 - sparse_categorical_accuracy: 0.8320\n",
      "Epoch 3/5\n",
      "8/8 [==============================] - 11s 1s/step - loss: 0.3928 - sparse_categorical_accuracy: 0.9150\n",
      "Epoch 4/5\n",
      "8/8 [==============================] - 11s 1s/step - loss: 0.2779 - sparse_categorical_accuracy: 0.9670\n",
      "Epoch 5/5\n",
      "8/8 [==============================] - 12s 1s/step - loss: 0.2133 - sparse_categorical_accuracy: 0.9790\n",
      "Retrained took: 63437\n",
      "MMD drift\n",
      "Retraining drifter\n",
      "Epoch 1/5\n",
      "8/8 [==============================] - 10s 1s/step - loss: 1.4858 - sparse_categorical_accuracy: 0.6720\n",
      "Epoch 2/5\n",
      "8/8 [==============================] - 10s 1s/step - loss: 0.7314 - sparse_categorical_accuracy: 0.8300\n",
      "Epoch 3/5\n",
      "8/8 [==============================] - 12s 1s/step - loss: 0.4140 - sparse_categorical_accuracy: 0.9100\n",
      "Epoch 4/5\n",
      "8/8 [==============================] - 10s 1s/step - loss: 0.2941 - sparse_categorical_accuracy: 0.9510\n",
      "Epoch 5/5\n",
      "8/8 [==============================] - 11s 1s/step - loss: 0.2203 - sparse_categorical_accuracy: 0.9780\n",
      "Retrained MMD took: 59587\n",
      "** results: {'method': 'MMD', 'model_acc': 0.550000011920929, 'model_acc_periodic': 0.6209999918937683, 'model_acc_drift': 0.6230000257492065, 'corrupted': 1.0, 'exec': 26659, 'drift': 1, 'epoch': 3}\n",
      " Iter : 0\n",
      "******** for 1000\n",
      "Chosen: 200\n",
      "so far iter : 0 , time 533.633\n",
      "1000\n",
      "*** Orig Acc for all : 0.8420000076293945\n",
      "*** Orig Acc for new_clf : 0.8399999737739563\n",
      "*** Orig Acc for drift_clf : 0.824999988079071\n",
      "\n",
      "Retraining periodic\n",
      "Epoch 1/5\n",
      "8/8 [==============================] - 11s 1s/step - loss: 0.6440 - sparse_categorical_accuracy: 0.8550\n",
      "Epoch 2/5\n",
      "8/8 [==============================] - 10s 1s/step - loss: 0.3989 - sparse_categorical_accuracy: 0.9110\n",
      "Epoch 3/5\n",
      "8/8 [==============================] - 11s 1s/step - loss: 0.2641 - sparse_categorical_accuracy: 0.9640\n",
      "Epoch 4/5\n",
      "8/8 [==============================] - 11s 1s/step - loss: 0.2174 - sparse_categorical_accuracy: 0.9730\n",
      "Epoch 5/5\n",
      "8/8 [==============================] - 11s 1s/step - loss: 0.1735 - sparse_categorical_accuracy: 0.9910\n",
      "Retrained took: 61210\n",
      "MMD drift\n",
      "Retraining drifter\n",
      "Epoch 1/5\n",
      "8/8 [==============================] - 10s 1s/step - loss: 0.7017 - sparse_categorical_accuracy: 0.8420\n",
      "Epoch 2/5\n",
      "8/8 [==============================] - 12s 1s/step - loss: 0.4239 - sparse_categorical_accuracy: 0.9060\n",
      "Epoch 3/5\n",
      "8/8 [==============================] - 11s 1s/step - loss: 0.2731 - sparse_categorical_accuracy: 0.9590\n",
      "Epoch 4/5\n",
      "8/8 [==============================] - 10s 1s/step - loss: 0.2164 - sparse_categorical_accuracy: 0.9750\n",
      "Epoch 5/5\n",
      "8/8 [==============================] - 11s 1s/step - loss: 0.1708 - sparse_categorical_accuracy: 0.9900\n",
      "Retrained MMD took: 62927\n",
      "** results: {'method': 'MMD', 'model_acc': 0.8420000076293945, 'model_acc_periodic': 0.8399999737739563, 'model_acc_drift': 0.824999988079071, 'corrupted': 0.2, 'exec': 23395, 'drift': 1, 'epoch': 4}\n",
      " Iter : 0\n",
      "******** for 200\n",
      "Chosen: 250\n",
      "so far iter : 0 , time 687.605\n",
      "1000\n",
      "*** Orig Acc for all : 0.8519999980926514\n",
      "*** Orig Acc for new_clf : 0.859000027179718\n",
      "*** Orig Acc for drift_clf : 0.8479999899864197\n",
      "\n",
      "Retraining periodic\n",
      "Epoch 1/5\n",
      "8/8 [==============================] - 10s 1s/step - loss: 0.5442 - sparse_categorical_accuracy: 0.8720\n",
      "Epoch 2/5\n",
      "8/8 [==============================] - 10s 1s/step - loss: 0.3657 - sparse_categorical_accuracy: 0.9270\n",
      "Epoch 3/5\n",
      "8/8 [==============================] - 10s 1s/step - loss: 0.2549 - sparse_categorical_accuracy: 0.9640\n",
      "Epoch 4/5\n"
     ]
    },
    {
     "name": "stdout",
     "output_type": "stream",
     "text": [
      "8/8 [==============================] - 11s 1s/step - loss: 0.1960 - sparse_categorical_accuracy: 0.9810\n",
      "Epoch 5/5\n",
      "8/8 [==============================] - 9s 1s/step - loss: 0.1633 - sparse_categorical_accuracy: 0.9940\n",
      "Retrained took: 58113\n",
      "** results: {'method': 'MMD', 'model_acc': 0.8519999980926514, 'model_acc_periodic': 0.859000027179718, 'model_acc_drift': 0.8479999899864197, 'corrupted': 0.25, 'exec': 23112, 'drift': 0, 'epoch': 5}\n",
      " Iter : 0\n",
      "******** for 250\n",
      "Chosen: 50\n",
      "so far iter : 0 , time 775.475\n",
      "1000\n",
      "*** Orig Acc for all : 0.9070000052452087\n",
      "*** Orig Acc for new_clf : 0.8709999918937683\n",
      "*** Orig Acc for drift_clf : 0.878000020980835\n",
      "\n",
      "Retraining periodic\n",
      "Epoch 1/5\n",
      "8/8 [==============================] - 11s 1s/step - loss: 0.4724 - sparse_categorical_accuracy: 0.9070\n",
      "Epoch 2/5\n",
      "8/8 [==============================] - 12s 2s/step - loss: 0.3140 - sparse_categorical_accuracy: 0.9470\n",
      "Epoch 3/5\n",
      "8/8 [==============================] - 10s 1s/step - loss: 0.2198 - sparse_categorical_accuracy: 0.9720\n",
      "Epoch 4/5\n",
      "8/8 [==============================] - 12s 1s/step - loss: 0.1777 - sparse_categorical_accuracy: 0.9840\n",
      "Epoch 5/5\n",
      "8/8 [==============================] - 11s 1s/step - loss: 0.1590 - sparse_categorical_accuracy: 0.9940\n",
      "Retrained took: 63545\n",
      "** results: {'method': 'MMD', 'model_acc': 0.9070000052452087, 'model_acc_periodic': 0.8709999918937683, 'model_acc_drift': 0.878000020980835, 'corrupted': 0.05, 'exec': 24391, 'drift': 0, 'epoch': 6}\n",
      " Iter : 0\n",
      "******** for 50\n",
      "Chosen: 500\n",
      "so far iter : 0 , time 868.417\n",
      "1000\n",
      "*** Orig Acc for all : 0.7509999871253967\n",
      "*** Orig Acc for new_clf : 0.7860000133514404\n",
      "*** Orig Acc for drift_clf : 0.8130000233650208\n",
      "\n",
      "Retraining periodic\n",
      "Epoch 1/5\n",
      "8/8 [==============================] - 10s 1s/step - loss: 0.6938 - sparse_categorical_accuracy: 0.8460\n",
      "Epoch 2/5\n",
      "8/8 [==============================] - 12s 2s/step - loss: 0.4457 - sparse_categorical_accuracy: 0.9120\n",
      "Epoch 3/5\n",
      "8/8 [==============================] - 12s 1s/step - loss: 0.2975 - sparse_categorical_accuracy: 0.9430\n",
      "Epoch 4/5\n",
      "8/8 [==============================] - 10s 1s/step - loss: 0.2128 - sparse_categorical_accuracy: 0.9720\n",
      "Epoch 5/5\n",
      "8/8 [==============================] - 11s 1s/step - loss: 0.1761 - sparse_categorical_accuracy: 0.9910\n",
      "Retrained took: 63989\n",
      "MMD drift\n",
      "Retraining drifter\n",
      "Epoch 1/5\n",
      "8/8 [==============================] - 10s 1s/step - loss: 0.7656 - sparse_categorical_accuracy: 0.8530\n",
      "Epoch 2/5\n",
      "8/8 [==============================] - 11s 1s/step - loss: 0.4856 - sparse_categorical_accuracy: 0.8930\n",
      "Epoch 3/5\n",
      "8/8 [==============================] - 11s 1s/step - loss: 0.3184 - sparse_categorical_accuracy: 0.9320\n",
      "Epoch 4/5\n",
      "8/8 [==============================] - 11s 1s/step - loss: 0.2362 - sparse_categorical_accuracy: 0.9690\n",
      "Epoch 5/5\n",
      "8/8 [==============================] - 12s 1s/step - loss: 0.1874 - sparse_categorical_accuracy: 0.9830\n",
      "Retrained MMD took: 62624\n",
      "** results: {'method': 'MMD', 'model_acc': 0.7509999871253967, 'model_acc_periodic': 0.7860000133514404, 'model_acc_drift': 0.8130000233650208, 'corrupted': 0.5, 'exec': 24266, 'drift': 1, 'epoch': 7}\n",
      " Iter : 0\n",
      "******** for 500\n",
      "Chosen: 50\n",
      "so far iter : 0 , time 1025.828\n",
      "1000\n",
      "*** Orig Acc for all : 0.9089999794960022\n",
      "*** Orig Acc for new_clf : 0.9190000295639038\n",
      "*** Orig Acc for drift_clf : 0.8849999904632568\n",
      "\n",
      "Retraining periodic\n",
      "Epoch 1/5\n",
      "8/8 [==============================] - 11s 1s/step - loss: 0.3681 - sparse_categorical_accuracy: 0.9340\n",
      "Epoch 2/5\n",
      "8/8 [==============================] - 10s 1s/step - loss: 0.2789 - sparse_categorical_accuracy: 0.9590\n",
      "Epoch 3/5\n",
      "8/8 [==============================] - 10s 1s/step - loss: 0.2009 - sparse_categorical_accuracy: 0.9830\n",
      "Epoch 4/5\n",
      "8/8 [==============================] - 11s 1s/step - loss: 0.1705 - sparse_categorical_accuracy: 0.9890\n",
      "Epoch 5/5\n",
      "8/8 [==============================] - 12s 1s/step - loss: 0.1527 - sparse_categorical_accuracy: 0.9970\n",
      "Retrained took: 61745\n",
      "** results: {'method': 'MMD', 'model_acc': 0.9089999794960022, 'model_acc_periodic': 0.9190000295639038, 'model_acc_drift': 0.8849999904632568, 'corrupted': 0.05, 'exec': 25068, 'drift': 0, 'epoch': 8}\n",
      " Iter : 0\n",
      "******** for 50\n",
      "Chosen: 500\n",
      "so far iter : 0 , time 1119.646\n",
      "1000\n",
      "*** Orig Acc for all : 0.7369999885559082\n",
      "*** Orig Acc for new_clf : 0.8330000042915344\n",
      "*** Orig Acc for drift_clf : 0.8109999895095825\n",
      "\n",
      "Retraining periodic\n",
      "Epoch 1/5\n",
      "8/8 [==============================] - 11s 1s/step - loss: 0.6804 - sparse_categorical_accuracy: 0.8470\n",
      "Epoch 2/5\n",
      "8/8 [==============================] - 12s 1s/step - loss: 0.4068 - sparse_categorical_accuracy: 0.9060\n",
      "Epoch 3/5\n",
      "8/8 [==============================] - 11s 1s/step - loss: 0.2932 - sparse_categorical_accuracy: 0.9490\n",
      "Epoch 4/5\n",
      "8/8 [==============================] - 11s 1s/step - loss: 0.2017 - sparse_categorical_accuracy: 0.9820\n",
      "Epoch 5/5\n",
      "8/8 [==============================] - 10s 1s/step - loss: 0.1718 - sparse_categorical_accuracy: 0.9940\n",
      "Retrained took: 64321\n",
      "MMD drift\n",
      "Retraining drifter\n",
      "Epoch 1/5\n",
      "8/8 [==============================] - 9s 1s/step - loss: 0.7012 - sparse_categorical_accuracy: 0.8390\n",
      "Epoch 2/5\n",
      "8/8 [==============================] - 10s 1s/step - loss: 0.4345 - sparse_categorical_accuracy: 0.9050\n",
      "Epoch 3/5\n",
      "8/8 [==============================] - 9s 1s/step - loss: 0.3063 - sparse_categorical_accuracy: 0.9460\n",
      "Epoch 4/5\n",
      "8/8 [==============================] - 9s 1s/step - loss: 0.2107 - sparse_categorical_accuracy: 0.9790\n",
      "Epoch 5/5\n",
      "8/8 [==============================] - 9s 1s/step - loss: 0.1744 - sparse_categorical_accuracy: 0.9930\n",
      "Retrained MMD took: 52660\n",
      "** results: {'method': 'MMD', 'model_acc': 0.7369999885559082, 'model_acc_periodic': 0.8330000042915344, 'model_acc_drift': 0.8109999895095825, 'corrupted': 0.5, 'exec': 22437, 'drift': 1, 'epoch': 9}\n",
      " Iter : 0\n",
      "******** for 500\n",
      "Chosen: 1000\n",
      "so far iter : 0 , time 1264.932\n",
      "1000\n",
      "*** Orig Acc for all : 0.5350000262260437\n",
      "*** Orig Acc for new_clf : 0.7429999709129333\n",
      "*** Orig Acc for drift_clf : 0.6930000185966492\n",
      "\n",
      "Retraining periodic\n",
      "Epoch 1/5\n",
      "8/8 [==============================] - 9s 1s/step - loss: 1.0537 - sparse_categorical_accuracy: 0.7640\n",
      "Epoch 2/5\n",
      "8/8 [==============================] - 9s 1s/step - loss: 0.5938 - sparse_categorical_accuracy: 0.8670\n",
      "Epoch 3/5\n",
      "8/8 [==============================] - 9s 1s/step - loss: 0.3404 - sparse_categorical_accuracy: 0.9280\n",
      "Epoch 4/5\n",
      "8/8 [==============================] - 9s 1s/step - loss: 0.2300 - sparse_categorical_accuracy: 0.9760\n",
      "Epoch 5/5\n",
      "8/8 [==============================] - 9s 1s/step - loss: 0.1881 - sparse_categorical_accuracy: 0.9910\n",
      "Retrained took: 51862\n",
      "MMD drift\n",
      "Retraining drifter\n",
      "Epoch 1/5\n",
      "8/8 [==============================] - 9s 1s/step - loss: 1.0579 - sparse_categorical_accuracy: 0.7460\n",
      "Epoch 2/5\n",
      "8/8 [==============================] - 9s 1s/step - loss: 0.5979 - sparse_categorical_accuracy: 0.8620\n",
      "Epoch 3/5\n",
      "8/8 [==============================] - 10s 1s/step - loss: 0.3411 - sparse_categorical_accuracy: 0.9310\n",
      "Epoch 4/5\n",
      "8/8 [==============================] - 9s 1s/step - loss: 0.2285 - sparse_categorical_accuracy: 0.9830\n",
      "Epoch 5/5\n",
      "8/8 [==============================] - 9s 1s/step - loss: 0.1875 - sparse_categorical_accuracy: 0.9930\n",
      "Retrained MMD took: 52538\n",
      "** results: {'method': 'MMD', 'model_acc': 0.5350000262260437, 'model_acc_periodic': 0.7429999709129333, 'model_acc_drift': 0.6930000185966492, 'corrupted': 1.0, 'exec': 21886, 'drift': 1, 'epoch': 10}\n",
      " Iter : 0\n",
      "******** for 1000\n",
      "Chosen: 250\n",
      "so far iter : 0 , time 1397.091\n",
      "1000\n",
      "*** Orig Acc for all : 0.8169999718666077\n",
      "*** Orig Acc for new_clf : 0.8629999756813049\n",
      "*** Orig Acc for drift_clf : 0.843999981880188\n",
      "\n",
      "Retraining periodic\n",
      "Epoch 1/5\n",
      "8/8 [==============================] - 9s 1s/step - loss: 0.5342 - sparse_categorical_accuracy: 0.8970\n",
      "Epoch 2/5\n",
      "8/8 [==============================] - 9s 1s/step - loss: 0.3752 - sparse_categorical_accuracy: 0.9180\n",
      "Epoch 3/5\n",
      "8/8 [==============================] - 10s 1s/step - loss: 0.2587 - sparse_categorical_accuracy: 0.9580\n",
      "Epoch 4/5\n",
      "8/8 [==============================] - 12s 1s/step - loss: 0.2029 - sparse_categorical_accuracy: 0.9800\n",
      "Epoch 5/5\n"
     ]
    },
    {
     "name": "stdout",
     "output_type": "stream",
     "text": [
      "8/8 [==============================] - 11s 1s/step - loss: 0.1718 - sparse_categorical_accuracy: 0.9930\n",
      "Retrained took: 57631\n",
      "** results: {'method': 'MMD', 'model_acc': 0.8169999718666077, 'model_acc_periodic': 0.8629999756813049, 'model_acc_drift': 0.843999981880188, 'corrupted': 0.25, 'exec': 24189, 'drift': 0, 'epoch': 11}\n",
      " Iter : 0\n",
      "******** for 250\n",
      "Chosen: 200\n",
      "so far iter : 0 , time 1484.18\n",
      "1000\n",
      "*** Orig Acc for all : 0.8410000205039978\n",
      "*** Orig Acc for new_clf : 0.902999997138977\n",
      "*** Orig Acc for drift_clf : 0.8550000190734863\n",
      "\n",
      "Retraining periodic\n",
      "Epoch 1/5\n",
      "8/8 [==============================] - 11s 1s/step - loss: 0.3946 - sparse_categorical_accuracy: 0.9160\n",
      "Epoch 2/5\n",
      "8/8 [==============================] - 10s 1s/step - loss: 0.2811 - sparse_categorical_accuracy: 0.9540\n",
      "Epoch 3/5\n",
      "8/8 [==============================] - 12s 1s/step - loss: 0.2169 - sparse_categorical_accuracy: 0.9830\n",
      "Epoch 4/5\n",
      "8/8 [==============================] - 12s 2s/step - loss: 0.2017 - sparse_categorical_accuracy: 0.9760\n",
      "Epoch 5/5\n",
      "8/8 [==============================] - 12s 1s/step - loss: 0.1620 - sparse_categorical_accuracy: 0.9920\n",
      "Retrained took: 65539\n",
      "MMD drift\n",
      "Retraining drifter\n",
      "Epoch 1/5\n",
      "8/8 [==============================] - 11s 1s/step - loss: 0.4830 - sparse_categorical_accuracy: 0.8930\n",
      "Epoch 2/5\n",
      "8/8 [==============================] - 9s 1s/step - loss: 0.3147 - sparse_categorical_accuracy: 0.9350\n",
      "Epoch 3/5\n",
      "8/8 [==============================] - 10s 1s/step - loss: 0.2400 - sparse_categorical_accuracy: 0.9720\n",
      "Epoch 4/5\n",
      "8/8 [==============================] - 9s 1s/step - loss: 0.2100 - sparse_categorical_accuracy: 0.9740\n",
      "Epoch 5/5\n",
      "8/8 [==============================] - 9s 1s/step - loss: 0.1677 - sparse_categorical_accuracy: 0.9910\n",
      "Retrained MMD took: 56390\n",
      "** results: {'method': 'MMD', 'model_acc': 0.8410000205039978, 'model_acc_periodic': 0.902999997138977, 'model_acc_drift': 0.8550000190734863, 'corrupted': 0.2, 'exec': 30615, 'drift': 1, 'epoch': 12}\n",
      " Iter : 0\n",
      "******** for 200\n",
      "Chosen: 1000\n",
      "so far iter : 0 , time 1641.941\n",
      "1000\n",
      "*** Orig Acc for all : 0.5550000071525574\n",
      "*** Orig Acc for new_clf : 0.7749999761581421\n",
      "*** Orig Acc for drift_clf : 0.7509999871253967\n",
      "\n",
      "Retraining periodic\n",
      "Epoch 1/5\n",
      "8/8 [==============================] - 11s 1s/step - loss: 0.9405 - sparse_categorical_accuracy: 0.7690\n",
      "Epoch 2/5\n",
      "8/8 [==============================] - 11s 1s/step - loss: 0.5172 - sparse_categorical_accuracy: 0.8760\n",
      "Epoch 3/5\n",
      "8/8 [==============================] - 11s 1s/step - loss: 0.3046 - sparse_categorical_accuracy: 0.9360\n",
      "Epoch 4/5\n",
      "8/8 [==============================] - 10s 1s/step - loss: 0.2155 - sparse_categorical_accuracy: 0.9800\n",
      "Epoch 5/5\n",
      "8/8 [==============================] - 10s 1s/step - loss: 0.1811 - sparse_categorical_accuracy: 0.9910\n",
      "Retrained took: 60718\n",
      "MMD drift\n",
      "Retraining drifter\n",
      "Epoch 1/5\n",
      "8/8 [==============================] - 10s 1s/step - loss: 0.9975 - sparse_categorical_accuracy: 0.7630\n",
      "Epoch 2/5\n",
      "8/8 [==============================] - 10s 1s/step - loss: 0.5755 - sparse_categorical_accuracy: 0.8680\n",
      "Epoch 3/5\n",
      "8/8 [==============================] - 9s 1s/step - loss: 0.3373 - sparse_categorical_accuracy: 0.9390\n",
      "Epoch 4/5\n",
      "8/8 [==============================] - 9s 1s/step - loss: 0.2371 - sparse_categorical_accuracy: 0.9720\n",
      "Epoch 5/5\n",
      "8/8 [==============================] - 10s 1s/step - loss: 0.1903 - sparse_categorical_accuracy: 0.9890\n",
      "Retrained MMD took: 54579\n",
      "** results: {'method': 'MMD', 'model_acc': 0.5550000071525574, 'model_acc_periodic': 0.7749999761581421, 'model_acc_drift': 0.7509999871253967, 'corrupted': 1.0, 'exec': 23326, 'drift': 1, 'epoch': 13}\n",
      " Iter : 0\n",
      "******** for 1000\n",
      "Chosen: 100\n",
      "so far iter : 0 , time 1786.864\n",
      "1000\n",
      "*** Orig Acc for all : 0.8970000147819519\n",
      "*** Orig Acc for new_clf : 0.9110000133514404\n",
      "*** Orig Acc for drift_clf : 0.906000018119812\n",
      "\n",
      "Retraining periodic\n",
      "Epoch 1/5\n",
      "8/8 [==============================] - 10s 1s/step - loss: 0.3357 - sparse_categorical_accuracy: 0.9430\n",
      "Epoch 2/5\n",
      "8/8 [==============================] - 10s 1s/step - loss: 0.2614 - sparse_categorical_accuracy: 0.9610\n",
      "Epoch 3/5\n",
      "8/8 [==============================] - 11s 1s/step - loss: 0.2078 - sparse_categorical_accuracy: 0.9760\n",
      "Epoch 4/5\n",
      "8/8 [==============================] - 10s 1s/step - loss: 0.1682 - sparse_categorical_accuracy: 0.9930\n",
      "Epoch 5/5\n",
      "8/8 [==============================] - 10s 1s/step - loss: 0.1548 - sparse_categorical_accuracy: 0.9960\n",
      "Retrained took: 58028\n",
      "** results: {'method': 'MMD', 'model_acc': 0.8970000147819519, 'model_acc_periodic': 0.9110000133514404, 'model_acc_drift': 0.906000018119812, 'corrupted': 0.1, 'exec': 23634, 'drift': 0, 'epoch': 14}\n",
      " Iter : 0\n",
      "******** for 100\n",
      "Chosen: 250\n",
      "so far iter : 0 , time 1874.34\n",
      "1000\n",
      "*** Orig Acc for all : 0.8330000042915344\n",
      "*** Orig Acc for new_clf : 0.878000020980835\n",
      "*** Orig Acc for drift_clf : 0.8600000143051147\n",
      "\n",
      "Retraining periodic\n",
      "Epoch 1/5\n",
      "8/8 [==============================] - 10s 1s/step - loss: 0.4316 - sparse_categorical_accuracy: 0.9050\n",
      "Epoch 2/5\n",
      "8/8 [==============================] - 11s 1s/step - loss: 0.2870 - sparse_categorical_accuracy: 0.9500\n",
      "Epoch 3/5\n",
      "8/8 [==============================] - 12s 1s/step - loss: 0.2180 - sparse_categorical_accuracy: 0.9780\n",
      "Epoch 4/5\n",
      "8/8 [==============================] - 11s 1s/step - loss: 0.1822 - sparse_categorical_accuracy: 0.9890\n",
      "Epoch 5/5\n",
      "8/8 [==============================] - 10s 1s/step - loss: 0.1629 - sparse_categorical_accuracy: 0.9950\n",
      "Retrained took: 62844\n",
      "** results: {'method': 'MMD', 'model_acc': 0.8330000042915344, 'model_acc_periodic': 0.878000020980835, 'model_acc_drift': 0.8600000143051147, 'corrupted': 0.25, 'exec': 24559, 'drift': 0, 'epoch': 15}\n",
      " Iter : 0\n",
      "******** for 250\n",
      "Chosen: 200\n",
      "so far iter : 0 , time 1967.302\n",
      "1000\n",
      "*** Orig Acc for all : 0.859000027179718\n",
      "*** Orig Acc for new_clf : 0.9039999842643738\n",
      "*** Orig Acc for drift_clf : 0.8790000081062317\n",
      "\n",
      "Retraining periodic\n",
      "Epoch 1/5\n",
      "8/8 [==============================] - 11s 1s/step - loss: 0.3613 - sparse_categorical_accuracy: 0.9240\n",
      "Epoch 2/5\n",
      "8/8 [==============================] - 11s 1s/step - loss: 0.2661 - sparse_categorical_accuracy: 0.9580\n",
      "Epoch 3/5\n",
      "8/8 [==============================] - 10s 1s/step - loss: 0.2006 - sparse_categorical_accuracy: 0.9810\n",
      "Epoch 4/5\n",
      "8/8 [==============================] - 10s 1s/step - loss: 0.1659 - sparse_categorical_accuracy: 0.9940\n",
      "Epoch 5/5\n",
      "8/8 [==============================] - 9s 1s/step - loss: 0.1542 - sparse_categorical_accuracy: 0.9960\n",
      "Retrained took: 58561\n",
      "** results: {'method': 'MMD', 'model_acc': 0.859000027179718, 'model_acc_periodic': 0.9039999842643738, 'model_acc_drift': 0.8790000081062317, 'corrupted': 0.2, 'exec': 24005, 'drift': 0, 'epoch': 16}\n",
      " Iter : 0\n",
      "******** for 200\n",
      "Chosen: 50\n",
      "so far iter : 0 , time 2056.159\n",
      "1000\n",
      "*** Orig Acc for all : 0.9110000133514404\n",
      "*** Orig Acc for new_clf : 0.9380000233650208\n",
      "*** Orig Acc for drift_clf : 0.9100000262260437\n",
      "\n",
      "Retraining periodic\n",
      "Epoch 1/5\n",
      "8/8 [==============================] - 11s 1s/step - loss: 0.2740 - sparse_categorical_accuracy: 0.9580\n",
      "Epoch 2/5\n",
      "8/8 [==============================] - 10s 1s/step - loss: 0.2219 - sparse_categorical_accuracy: 0.9710\n",
      "Epoch 3/5\n",
      "8/8 [==============================] - 10s 1s/step - loss: 0.1653 - sparse_categorical_accuracy: 0.9940\n",
      "Epoch 4/5\n",
      "8/8 [==============================] - 11s 1s/step - loss: 0.1547 - sparse_categorical_accuracy: 0.9940\n",
      "Epoch 5/5\n",
      "8/8 [==============================] - 10s 1s/step - loss: 0.1441 - sparse_categorical_accuracy: 0.9980\n",
      "Retrained took: 58919\n",
      "MMD drift\n",
      "Retraining drifter\n",
      "Epoch 1/5\n",
      "8/8 [==============================] - 8s 1s/step - loss: 0.3189 - sparse_categorical_accuracy: 0.9340\n",
      "Epoch 2/5\n",
      "8/8 [==============================] - 9s 1s/step - loss: 0.2476 - sparse_categorical_accuracy: 0.9600\n",
      "Epoch 3/5\n",
      "8/8 [==============================] - 10s 1s/step - loss: 0.1834 - sparse_categorical_accuracy: 0.9870\n",
      "Epoch 4/5\n",
      "8/8 [==============================] - 9s 1s/step - loss: 0.1651 - sparse_categorical_accuracy: 0.9880\n",
      "Epoch 5/5\n",
      "8/8 [==============================] - 8s 1s/step - loss: 0.1522 - sparse_categorical_accuracy: 0.9960\n",
      "Retrained MMD took: 50374\n",
      "** results: {'method': 'MMD', 'model_acc': 0.9110000133514404, 'model_acc_periodic': 0.9380000233650208, 'model_acc_drift': 0.9100000262260437, 'corrupted': 0.05, 'exec': 20607, 'drift': 1, 'epoch': 17}\n",
      " Iter : 0\n",
      "******** for 50\n",
      "Chosen: 500\n",
      "so far iter : 0 , time 2192.004\n"
     ]
    },
    {
     "name": "stdout",
     "output_type": "stream",
     "text": [
      "1000\n",
      "*** Orig Acc for all : 0.7620000243186951\n",
      "*** Orig Acc for new_clf : 0.875\n",
      "*** Orig Acc for drift_clf : 0.8220000267028809\n",
      "\n",
      "Retraining periodic\n",
      "Epoch 1/5\n",
      "8/8 [==============================] - 9s 1s/step - loss: 0.5220 - sparse_categorical_accuracy: 0.8750\n",
      "Epoch 2/5\n",
      "8/8 [==============================] - 9s 1s/step - loss: 0.3289 - sparse_categorical_accuracy: 0.9280\n",
      "Epoch 3/5\n",
      "8/8 [==============================] - 9s 1s/step - loss: 0.2379 - sparse_categorical_accuracy: 0.9660\n",
      "Epoch 4/5\n",
      "8/8 [==============================] - 9s 1s/step - loss: 0.1815 - sparse_categorical_accuracy: 0.9910\n",
      "Epoch 5/5\n",
      "8/8 [==============================] - 9s 1s/step - loss: 0.1637 - sparse_categorical_accuracy: 0.9940\n",
      "Retrained took: 50646\n",
      "MMD drift\n",
      "Retraining drifter\n",
      "Epoch 1/5\n",
      "8/8 [==============================] - 9s 1s/step - loss: 0.6084 - sparse_categorical_accuracy: 0.8540\n",
      "Epoch 2/5\n",
      "8/8 [==============================] - 9s 1s/step - loss: 0.3844 - sparse_categorical_accuracy: 0.9180\n",
      "Epoch 3/5\n",
      "8/8 [==============================] - 8s 1s/step - loss: 0.2683 - sparse_categorical_accuracy: 0.9600\n",
      "Epoch 4/5\n",
      "8/8 [==============================] - 8s 1s/step - loss: 0.2017 - sparse_categorical_accuracy: 0.9790\n",
      "Epoch 5/5\n",
      "8/8 [==============================] - 8s 1s/step - loss: 0.1751 - sparse_categorical_accuracy: 0.9910\n",
      "Retrained MMD took: 48146\n",
      "** results: {'method': 'MMD', 'model_acc': 0.7620000243186951, 'model_acc_periodic': 0.875, 'model_acc_drift': 0.8220000267028809, 'corrupted': 0.5, 'exec': 20391, 'drift': 1, 'epoch': 18}\n",
      " Iter : 0\n",
      "******** for 500\n",
      "Chosen: 1000\n",
      "so far iter : 0 , time 2316.956\n",
      "1000\n",
      "*** Orig Acc for all : 0.5809999704360962\n",
      "*** Orig Acc for new_clf : 0.7720000147819519\n",
      "*** Orig Acc for drift_clf : 0.718999981880188\n",
      "\n",
      "Retraining periodic\n",
      "Epoch 1/5\n",
      "8/8 [==============================] - 8s 1s/step - loss: 0.9201 - sparse_categorical_accuracy: 0.7770\n",
      "Epoch 2/5\n",
      "8/8 [==============================] - 8s 1s/step - loss: 0.5406 - sparse_categorical_accuracy: 0.8710\n",
      "Epoch 3/5\n",
      "8/8 [==============================] - 9s 1s/step - loss: 0.3106 - sparse_categorical_accuracy: 0.9460\n",
      "Epoch 4/5\n",
      "8/8 [==============================] - 8s 982ms/step - loss: 0.2202 - sparse_categorical_accuracy: 0.9800\n",
      "Epoch 5/5\n",
      "8/8 [==============================] - 8s 956ms/step - loss: 0.1760 - sparse_categorical_accuracy: 0.9920\n",
      "Retrained took: 47520\n",
      "MMD drift\n",
      "Retraining drifter\n",
      "Epoch 1/5\n",
      "8/8 [==============================] - 8s 1s/step - loss: 1.0132 - sparse_categorical_accuracy: 0.7590\n",
      "Epoch 2/5\n",
      "8/8 [==============================] - 8s 1s/step - loss: 0.6110 - sparse_categorical_accuracy: 0.8590\n",
      "Epoch 3/5\n",
      "8/8 [==============================] - 8s 1s/step - loss: 0.3470 - sparse_categorical_accuracy: 0.9260\n",
      "Epoch 4/5\n",
      "8/8 [==============================] - 9s 1s/step - loss: 0.2503 - sparse_categorical_accuracy: 0.9700\n",
      "Epoch 5/5\n",
      "8/8 [==============================] - 8s 973ms/step - loss: 0.1910 - sparse_categorical_accuracy: 0.9880\n",
      "Retrained MMD took: 47144\n",
      "** results: {'method': 'MMD', 'model_acc': 0.5809999704360962, 'model_acc_periodic': 0.7720000147819519, 'model_acc_drift': 0.718999981880188, 'corrupted': 1.0, 'exec': 17806, 'drift': 1, 'epoch': 19}\n",
      " Iter : 0\n",
      "******** for 1000\n"
     ]
    }
   ],
   "source": [
    "dataset = 'cifar10'\n",
    "model = 'resnet32'\n",
    "new_clf = fetch_tf_model(dataset, model)\n",
    "acc = new_clf.evaluate(scale_by_instance(X_test), y_test, batch_size=128, verbose=0)[1]\n",
    "\n",
    "drift_clf = fetch_tf_model(dataset, model)\n",
    "acc = drift_clf.evaluate(scale_by_instance(X_test), y_test, batch_size=128, verbose=0)[1]\n",
    "\n",
    "##### continous loop for detecting drift using various methods (MMD, KS)\n",
    "import random\n",
    "import time\n",
    "current_milli_time = lambda: int(round(time.time() * 1000))\n",
    "import copy\n",
    "counter_mmd = 0\n",
    "counter_ks = 0\n",
    "orig_set_size = 1000\n",
    "# corrupted_set_size = 1000\n",
    "class_size = 10\n",
    "result = {\"method\": \"MMD\", \"model_acc\": 100, \"corrupted\":0, \"exec\":0,\"drift\":2}\n",
    "result = {\"method\": \"MMD\", \"model_acc\": 100,\"model_acc_periodic\": 100,\"model_acc_drift\": 100, \"corrupted\":0, \"exec\":0,\"drift\":2, \"epoch\":0}\n",
    "retrained_mmd = 0\n",
    "results = []\n",
    "whole_began = current_milli_time() \n",
    "for k in range(0,20):\n",
    "    result[\"epoch\"] = k\n",
    "    \n",
    "    possible_sizes = [50, 100, 200, 250,500, 1000]\n",
    "#     print(random.choice(possible_sizes))\n",
    "    corrupted_set_size = random.choice(possible_sizes)\n",
    "    print(f\"Chosen: {corrupted_set_size}\")\n",
    "    \n",
    "    result[\"corrupted\"] = corrupted_set_size/orig_set_size\n",
    "    print(f\"so far iter : {i} , time {(current_milli_time() - whole_began)/1000}\")\n",
    "    for i in range(0,1):\n",
    "\n",
    "        ## select randomly from orig\n",
    "        idx = np.random.randint(10000, size=orig_set_size-corrupted_set_size)\n",
    "#         acc = clf.evaluate(scale_by_instance(X_test[idx]), y_test[idx], batch_size=128, verbose=0)[1]\n",
    "        temp = X_test[idx]\n",
    "        temp_y = y_test[idx]\n",
    "#         print('Test set accuracy:')\n",
    "#         print('Original {:.4f}'.format(acc))\n",
    "#         clf_accuracy_loop = {'original': acc}\n",
    "        for x, c in zip(X_c, corruption):\n",
    "            idx = np.random.randint(10000, size=int(corrupted_set_size/class_size))\n",
    "    #         print(\"idx\",idx)\n",
    "#             preds = cd_mmd.predict(x[idx], return_p_val=True)\n",
    "#             acc = clf.evaluate(scale_by_instance(x[idx]), y_test[idx], batch_size=128, verbose=0)[1]\n",
    "#             print('Drift? {}'.format(labels[preds['data']['is_drift']]))\n",
    "#             print(f'Corruption type: {c}')\n",
    "\n",
    "            temp = np.concatenate((temp, x[idx]), axis=0)\n",
    "            temp_y = np.concatenate((temp_y, y_test[idx]), axis=0)\n",
    "\n",
    "        print(len(temp))\n",
    "       \n",
    "        acc = clf.evaluate(scale_by_instance(temp), temp_y, batch_size=128, verbose=0)[1]\n",
    "#         accuracy_by_time.append(acc)\n",
    "        print(f\"*** Orig Acc for all : {acc}\")\n",
    "        acc2 = new_clf.evaluate(scale_by_instance(temp), temp_y, batch_size=128, verbose=0)[1]\n",
    "        print(f\"*** Orig Acc for new_clf : {acc2}\")\n",
    "        \n",
    "        acc3 = drift_clf.evaluate(scale_by_instance(temp), temp_y, batch_size=128, verbose=0)[1]\n",
    "        print(f\"*** Orig Acc for drift_clf : {acc3}\")\n",
    "        print(f\"\")\n",
    "        result[\"model_acc\"] = acc\n",
    "        result[\"model_acc_periodic\"] = acc2\n",
    "        result[\"model_acc_drift\"]= acc3\n",
    "        \n",
    "        print(\"Retraining periodic\")\n",
    "        retrain_begin = current_milli_time()\n",
    "        new_clf.fit(scale_by_instance(temp), temp_y, batch_size=128, epochs = 5)\n",
    "        print(f\"Retrained took: { current_milli_time() - retrain_begin}\")\n",
    "\n",
    "\n",
    "\n",
    "        begin_time = current_milli_time()\n",
    "        preds_mmd = cd_mmd.predict(temp, return_p_val=True)\n",
    "        end_time = current_milli_time()\n",
    "#         exec_times[\"MMD\"].append(end_time - begin_time)\n",
    "        result[\"exec\"] = end_time - begin_time\n",
    "\n",
    "#         begin_time = current_milli_time()\n",
    "#         preds_ks = cd.predict(temp, return_p_val=True)\n",
    "#         end_time = current_milli_time()\n",
    "#         exec_times[\"KS\"].append(end_time - begin_time)\n",
    "\n",
    "\n",
    "        if preds_mmd['data']['is_drift']:\n",
    "#             drifter_acc[\"MMD\"] = drifter_acc[\"MMD\"] + 1\n",
    "            result[\"drift\"] = 1\n",
    "            retrained_mmd = retrained_mmd+ 1\n",
    "            print(\"MMD drift\")\n",
    "            print(\"Retraining drifter\")\n",
    "            retrain_mmd_begin = current_milli_time()\n",
    "            drift_clf.fit(scale_by_instance(temp), temp_y, batch_size=128, epochs = 5)\n",
    "            print(f\"Retrained MMD took: { current_milli_time() - retrain_mmd_begin}\")\n",
    "        else:\n",
    "            result[\"drift\"] = 0\n",
    "        print(f\"** results: {result}\")\n",
    "        results.append(copy.copy(result))\n",
    "#         if preds_ks['data']['is_drift']:\n",
    "#             drifter_acc[\"KS\"] = drifter_acc[\"KS\"] + 1 \n",
    "#             print(\"KS drift\")\n",
    "        print(f\" Iter : {i}\")\n",
    "    print(f\"******** for {corrupted_set_size}\")\n",
    "# #     print(f\"**************MMD: {drifter_acc['MMD']}\")\n",
    "#     #     print(f\"MMD: {drifter_acc['MMD']}\")\n",
    "#     print(f\"**************exec MMD: {exec_times['MMD']}\")\n",
    "#     print(f\"*** Acc for all : {acc}\")\n",
    "    #     print(f\"exec MMD: {exec_times['MMD']}\")"
   ]
  },
  {
   "cell_type": "code",
   "execution_count": 46,
   "metadata": {},
   "outputs": [
    {
     "data": {
      "text/plain": [
       "12"
      ]
     },
     "execution_count": 46,
     "metadata": {},
     "output_type": "execute_result"
    }
   ],
   "source": [
    "retrained_mmd"
   ]
  },
  {
   "cell_type": "markdown",
   "metadata": {},
   "source": [
    "Let's now check the predictions on the perturbed data:"
   ]
  },
  {
   "cell_type": "code",
   "execution_count": 45,
   "metadata": {},
   "outputs": [],
   "source": [
    "import csv\n",
    "csv_columns = [\"method\", \"model_acc\", \"model_acc_periodic\",\"model_acc_drift\",\"corrupted\", \"exec\",\"drift\",\"epoch\"]\n",
    "csv_file = \"retraining-MMD-updated.csv\"\n",
    "\n",
    "\n",
    "\n",
    "with open(csv_file, 'w') as csvfile:\n",
    "    writer = csv.DictWriter(csvfile, fieldnames=csv_columns)\n",
    "    writer.writeheader()\n",
    "    for data in results:\n",
    "        writer.writerow(data)"
   ]
  },
  {
   "cell_type": "code",
   "execution_count": 32,
   "metadata": {},
   "outputs": [
    {
     "data": {
      "image/png": "[encoded data removed]",
      "text/plain": [
       "<Figure size 432x288 with 1 Axes>"
      ]
     },
     "metadata": {
      "needs_background": "light"
     },
     "output_type": "display_data"
    },
    {
     "data": {
      "image/png": "[encoded data removed]",
      "text/plain": [
       "<Figure size 432x288 with 1 Axes>"
      ]
     },
     "metadata": {
      "needs_background": "light"
     },
     "output_type": "display_data"
    }
   ],
   "source": [
    "import seaborn as sns\n",
    "import pandas as pd\n",
    "\n",
    "df = pd.read_csv('MMD-results-updated.csv')\n",
    "fig,ax = plt.subplots()\n",
    "a= sns.barplot(ax=ax,\n",
    "    data=df, \n",
    "    x=\"corrupted\", y=\"drift\",ci=95\n",
    ")\n",
    "fig2,ax2 = plt.subplots()\n",
    "ba= sns.lineplot(ax=ax2,\n",
    "    data=df, \n",
    "    x=\"corrupted\", y=\"model_acc\"\n",
    ")"
   ]
  },
  {
   "cell_type": "code",
   "execution_count": 13,
   "metadata": {
    "scrolled": true
   },
   "outputs": [
    {
     "name": "stdout",
     "output_type": "stream",
     "text": [
      "Corruption type: gaussian_noise\n",
      "Drift? Yes!\n",
      "Feature-wise p-values:\n",
      "0.0\n",
      "\n",
      "Corruption type: motion_blur\n",
      "Drift? Yes!\n",
      "Feature-wise p-values:\n",
      "0.0\n",
      "\n",
      "Corruption type: brightness\n",
      "Drift? Yes!\n",
      "Feature-wise p-values:\n",
      "0.0\n",
      "\n",
      "Corruption type: pixelate\n",
      "Drift? Yes!\n",
      "Feature-wise p-values:\n",
      "0.0\n",
      "\n"
     ]
    }
   ],
   "source": [
    "for x, c in zip(X_c, corruption):\n",
    "    preds = cd.predict(x, return_p_val=True)\n",
    "    print(f'Corruption type: {c}')\n",
    "    print('Drift? {}'.format(labels[preds['data']['is_drift']]))\n",
    "    print('Feature-wise p-values:')\n",
    "    print(preds['data']['p_val'])\n",
    "    print('')"
   ]
  },
  {
   "cell_type": "markdown",
   "metadata": {},
   "source": [
    "#### BBSDs\n",
    "\n",
    "For **BBSDs**, we use the classifier's softmax outputs for black-box shift detection. This method is based on [Detecting and Correcting for Label Shift with Black Box Predictors](https://arxiv.org/abs/1802.03916). The ResNet classifier is trained on data standardised by instance so we need to rescale the data."
   ]
  },
  {
   "cell_type": "code",
   "execution_count": 14,
   "metadata": {},
   "outputs": [],
   "source": [
    "X_train = scale_by_instance(X_train)\n",
    "X_test = scale_by_instance(X_test)\n",
    "for i in range(n_corr):\n",
    "    X_c[i] = scale_by_instance(X_c[i])\n",
    "X_ref = scale_by_instance(X_ref)\n",
    "X_h0 = scale_by_instance(X_h0)"
   ]
  },
  {
   "cell_type": "markdown",
   "metadata": {},
   "source": [
    "Initialisation of the drift detector. Here we use the output of the softmax layer to detect the drift, but other hidden layers can be extracted as well by setting *'layer'* to the index of the desired hidden layer in the model:"
   ]
  },
  {
   "cell_type": "code",
   "execution_count": 15,
   "metadata": {},
   "outputs": [],
   "source": [
    "# use output softmax layer\n",
    "preprocess_kwargs = {'model': HiddenOutput(model=clf, layer=-1), 'batch_size': 128}\n",
    "\n",
    "cd = MMDDrift(\n",
    "    p_val=.05,\n",
    "    X_ref=X_ref,\n",
    "    preprocess_kwargs=preprocess_kwargs,\n",
    "    kernel_kwargs={'sigma': np.array([1.])},\n",
    "    chunk_size=1000,\n",
    "    n_permutations=5\n",
    ")"
   ]
  },
  {
   "cell_type": "markdown",
   "metadata": {},
   "source": [
    "There is no drift on the original held out test set:"
   ]
  },
  {
   "cell_type": "code",
   "execution_count": 16,
   "metadata": {
    "scrolled": true
   },
   "outputs": [
    {
     "name": "stdout",
     "output_type": "stream",
     "text": [
      "Drift? No!\n",
      "0.4\n"
     ]
    }
   ],
   "source": [
    "preds_h0 = cd.predict(X_h0)\n",
    "print('Drift? {}'.format(labels[preds_h0['data']['is_drift']]))\n",
    "print(preds_h0['data']['p_val'])"
   ]
  },
  {
   "cell_type": "markdown",
   "metadata": {},
   "source": [
    "We compare this with the perturbed data:"
   ]
  },
  {
   "cell_type": "code",
   "execution_count": 17,
   "metadata": {
    "scrolled": true
   },
   "outputs": [
    {
     "name": "stdout",
     "output_type": "stream",
     "text": [
      "Corruption type: gaussian_noise\n",
      "Drift? Yes!\n",
      "Feature-wise p-values:\n",
      "0.0\n",
      "\n",
      "Corruption type: motion_blur\n",
      "Drift? Yes!\n",
      "Feature-wise p-values:\n",
      "0.0\n",
      "\n",
      "Corruption type: brightness\n",
      "Drift? Yes!\n",
      "Feature-wise p-values:\n",
      "0.0\n",
      "\n",
      "Corruption type: pixelate\n",
      "Drift? Yes!\n",
      "Feature-wise p-values:\n",
      "0.0\n",
      "\n"
     ]
    }
   ],
   "source": [
    "for x, c in zip(X_c, corruption):\n",
    "    preds = cd.predict(x)\n",
    "    print(f'Corruption type: {c}')\n",
    "    print('Drift? {}'.format(labels[preds['data']['is_drift']]))\n",
    "    print('Feature-wise p-values:')\n",
    "    print(preds['data']['p_val'])\n",
    "    print('')"
   ]
  },
  {
   "cell_type": "markdown",
   "metadata": {},
   "source": [
    "### Kernel bandwidth\n",
    "\n",
    "So far we have defined a specific bandwidth `sigma` for the Gaussian kernel. We can however also sum over a number of different kernel bandwidths or infer `sigma` from *X_ref* and *X* using the following heuristic: compute the pairwise distances between each of the instances in *X_ref* and *X*, and set `sigma` to the median distance.\n",
    "\n",
    "Let's first try a range of bandwidths:"
   ]
  },
  {
   "cell_type": "code",
   "execution_count": 18,
   "metadata": {},
   "outputs": [],
   "source": [
    "cd = MMDDrift(\n",
    "    p_val=.05,\n",
    "    X_ref=X_ref,\n",
    "    preprocess_kwargs=preprocess_kwargs,\n",
    "    kernel_kwargs={'sigma': np.array([.5, 1., 5.])},\n",
    "    chunk_size=1000,\n",
    "    n_permutations=5\n",
    ")"
   ]
  },
  {
   "cell_type": "code",
   "execution_count": 19,
   "metadata": {
    "scrolled": false
   },
   "outputs": [
    {
     "name": "stdout",
     "output_type": "stream",
     "text": [
      "Original test set sample\n",
      "Drift? No!\n",
      "0.2\n",
      "\n",
      "Corruption type: gaussian_noise\n",
      "Drift? Yes!\n",
      "Feature-wise p-values:\n",
      "0.0\n",
      "\n",
      "Corruption type: motion_blur\n",
      "Drift? Yes!\n",
      "Feature-wise p-values:\n",
      "0.0\n",
      "\n",
      "Corruption type: brightness\n",
      "Drift? Yes!\n",
      "Feature-wise p-values:\n",
      "0.0\n",
      "\n",
      "Corruption type: pixelate\n",
      "Drift? Yes!\n",
      "Feature-wise p-values:\n",
      "0.0\n",
      "\n"
     ]
    }
   ],
   "source": [
    "preds_h0 = cd.predict(X_h0)\n",
    "print('Original test set sample')\n",
    "print('Drift? {}'.format(labels[preds_h0['data']['is_drift']]))\n",
    "print(preds_h0['data']['p_val'])\n",
    "print('')\n",
    "\n",
    "for x, c in zip(X_c, corruption):\n",
    "    preds = cd.predict(x)\n",
    "    print(f'Corruption type: {c}')\n",
    "    print('Drift? {}'.format(labels[preds['data']['is_drift']]))\n",
    "    print('Feature-wise p-values:')\n",
    "    print(preds['data']['p_val'])\n",
    "    print('')"
   ]
  },
  {
   "cell_type": "markdown",
   "metadata": {},
   "source": [
    "A bandwidth can also be inferred from *X_ref* and *X* using the heuristic:"
   ]
  },
  {
   "cell_type": "code",
   "execution_count": 20,
   "metadata": {},
   "outputs": [],
   "source": [
    "cd = MMDDrift(\n",
    "    p_val=.05,\n",
    "    X_ref=X_ref,\n",
    "    preprocess_kwargs=preprocess_kwargs,\n",
    "    chunk_size=1000,\n",
    "    n_permutations=5\n",
    ")"
   ]
  },
  {
   "cell_type": "code",
   "execution_count": 21,
   "metadata": {},
   "outputs": [
    {
     "name": "stdout",
     "output_type": "stream",
     "text": [
      "Drift? No!\n",
      "0.2\n"
     ]
    }
   ],
   "source": [
    "preds_h0 = cd.predict(X_h0)\n",
    "print('Drift? {}'.format(labels[preds_h0['data']['is_drift']]))\n",
    "print(preds_h0['data']['p_val'])"
   ]
  },
  {
   "cell_type": "code",
   "execution_count": 22,
   "metadata": {},
   "outputs": [
    {
     "name": "stdout",
     "output_type": "stream",
     "text": [
      "Inferred bandwidth: 1.4132\n"
     ]
    }
   ],
   "source": [
    "print('Inferred bandwidth: {:.4f}'.format(cd.permutation_test.keywords['sigma'].item()))"
   ]
  },
  {
   "cell_type": "markdown",
   "metadata": {},
   "source": [
    "### Label drift\n",
    "\n",
    "We can also check what happens when we introduce class imbalances between the reference data *X_ref* and the tested data *X_imb*. The reference data will use $75$% of the instances of the first 5 classes and only $25$% of the last 5. The data used for drift testing then uses respectively $25$% and $75$% of the test instances for the first and last 5 classes."
   ]
  },
  {
   "cell_type": "code",
   "execution_count": 23,
   "metadata": {},
   "outputs": [
    {
     "name": "stdout",
     "output_type": "stream",
     "text": [
      "(5000, 32, 32, 3) (5000, 32, 32, 3) (5000,)\n"
     ]
    }
   ],
   "source": [
    "np.random.seed(0)\n",
    "# get index for each class in the test set\n",
    "num_classes = len(np.unique(y_test))\n",
    "idx_by_class = [np.where(y_test == c)[0] for c in range(num_classes)]\n",
    "# sample imbalanced data for different classes for X_ref and X_imb\n",
    "perc_ref = .75\n",
    "perc_ref_by_class = [perc_ref if c < 5 else 1 - perc_ref for c in range(num_classes)]\n",
    "n_by_class = n_test // num_classes\n",
    "X_ref = []\n",
    "X_imb, y_imb = [], []\n",
    "for _ in range(num_classes):\n",
    "    idx_class_ref = np.random.choice(n_by_class, size=int(perc_ref_by_class[_] * n_by_class), replace=False)\n",
    "    idx_ref = idx_by_class[_][idx_class_ref]\n",
    "    idx_class_imb = np.delete(np.arange(n_by_class), idx_class_ref, axis=0)\n",
    "    idx_imb = idx_by_class[_][idx_class_imb]\n",
    "    assert idx_ref != idx_imb\n",
    "    X_ref.append(X_test[idx_ref])\n",
    "    X_imb.append(X_test[idx_imb])\n",
    "    y_imb.append(y_test[idx_imb])\n",
    "X_ref = np.concatenate(X_ref)\n",
    "X_imb = np.concatenate(X_imb)\n",
    "y_imb = np.concatenate(y_imb)\n",
    "print(X_ref.shape, X_imb.shape, y_imb.shape)"
   ]
  },
  {
   "cell_type": "markdown",
   "metadata": {},
   "source": [
    "Update reference dataset for the detector and make predictions:"
   ]
  },
  {
   "cell_type": "code",
   "execution_count": 24,
   "metadata": {},
   "outputs": [],
   "source": [
    "cd.X_ref = cd.preprocess_fn(X_ref)"
   ]
  },
  {
   "cell_type": "code",
   "execution_count": 25,
   "metadata": {},
   "outputs": [
    {
     "name": "stdout",
     "output_type": "stream",
     "text": [
      "Drift? Yes!\n",
      "0.0\n"
     ]
    }
   ],
   "source": [
    "preds_imb = cd.predict(X_imb)\n",
    "print('Drift? {}'.format(labels[preds_imb['data']['is_drift']]))\n",
    "print(preds_imb['data']['p_val'])"
   ]
  }
 ],
 "metadata": {
  "kernelspec": {
   "display_name": "Python 3.7.6 64-bit ('base': conda)",
   "language": "python",
   "name": "python37664bitbaseconda15d24054bb054f9cb80d270846c6fc83"
  },
  "language_info": {
   "codemirror_mode": {
    "name": "ipython",
    "version": 3
   },
   "file_extension": ".py",
   "mimetype": "text/x-python",
   "name": "python",
   "nbconvert_exporter": "python",
   "pygments_lexer": "ipython3",
   "version": "3.7.6"
  }
 },
 "nbformat": 4,
 "nbformat_minor": 4
}
